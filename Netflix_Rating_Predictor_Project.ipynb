{
 "cells": [
  {
   "cell_type": "markdown",
   "metadata": {},
   "source": [
    "# Netflix Ratings: IMDB Score Predictors!"
   ]
  },
  {
   "cell_type": "markdown",
   "metadata": {},
   "source": [
    "![Image of Netflix](https://help.nflxext.com/0af6ce3e-b27a-4722-a5f0-e32af4df3045_what_is_netflix_5_en.png)"
   ]
  },
  {
   "cell_type": "markdown",
   "metadata": {},
   "source": [
    "## Looking at the 'Big Picture'..."
   ]
  },
  {
   "cell_type": "markdown",
   "metadata": {},
   "source": [
    "### Frame the Problem"
   ]
  },
  {
   "cell_type": "markdown",
   "metadata": {},
   "source": [
    "**What is the objective of this project?**\n",
    "\n",
    "The objective for this project is to look at trends in the Netflix library of original content.\n",
    "\n",
    "** How will the solution be used? **\n",
    "The output of this project should be able to predict the IMDB Score of a particular Netflix title based on a variety of qualitative (Genre, Director, Language) and quantitative (Runtime, Days Since Premiere) features.\n",
    "\n",
    "** How should the problem be framed? **\n",
    "We should use a regression algorithm as we are looking to predict a continuous quantitative measure."
   ]
  },
  {
   "cell_type": "markdown",
   "metadata": {},
   "source": [
    "### Selecting a Performance Measure"
   ]
  },
  {
   "cell_type": "markdown",
   "metadata": {},
   "source": [
    "** How should performance be measured? **\n",
    "Performance will be measured using Root Mean Squared Error and Mean Absolute Error. "
   ]
  },
  {
   "cell_type": "markdown",
   "metadata": {},
   "source": [
    "$ RMSE(\\textbf{X}, \\textit{h}) = \\sqrt{\\frac{1}{m} \\sum_{i=1}^{m} ( h(\\textbf{X}^{(i)}) - y^{(i)} )^{2} } $\n",
    "\n",
    "$ MAE(\\textbf{X}, \\textit{h}) = \\frac{1}{m} \\sum_{i=1}^{m} | h(\\textbf{X}^{(i)}) - y^{(i)} |  $"
   ]
  },
  {
   "cell_type": "markdown",
   "metadata": {},
   "source": [
    "** Is the performance measure aligned with business objectives? **\n",
    "The method of performance measurement should give *reasonable confidence* that the predictor is yielding results that give the best possible estimation based on the most impactful features."
   ]
  },
  {
   "cell_type": "markdown",
   "metadata": {},
   "source": [
    "### Other Discovery Questions\n",
    "\n",
    "** What would be the minimum performance needed to reach the business objective? **\n",
    "\n",
    "** What are comparable problems? Can you resuse experience or tools? **\n",
    "\n",
    "** Is human expertise available? **\n",
    "\n",
    "** How would you solve the problem manually? **\n",
    "\n",
    "** List the assumptions made so far **\n",
    "\n",
    "** Verify assumptions if possible **"
   ]
  },
  {
   "cell_type": "markdown",
   "metadata": {},
   "source": [
    "Load initial packages and set parameters for matplotlib"
   ]
  },
  {
   "cell_type": "code",
   "execution_count": 412,
   "metadata": {
    "collapsed": true
   },
   "outputs": [],
   "source": [
    "# To support both python 2 and python 3\n",
    "from __future__ import division, print_function, unicode_literals\n",
    "\n",
    "# Common imports\n",
    "import numpy as np #will need this to manipulate arrays\n",
    "import pandas as pd #will need this to handle DataFrames and Series\n",
    "import os #will help access file paths when retreiving data\n",
    "import datetime #will help handle dates\n",
    "from dateutil.relativedelta import relativedelta\n",
    "from datetime import date\n",
    "\n",
    "# To plot pretty figures\n",
    "%matplotlib inline\n",
    "import matplotlib\n",
    "import matplotlib.pyplot as plt\n",
    "plt.rcParams['axes.labelsize'] = 14\n",
    "plt.rcParams['xtick.labelsize'] = 12\n",
    "plt.rcParams['ytick.labelsize'] = 12\n",
    "\n",
    "import seaborn as sns\n",
    "from scipy import stats\n",
    "\n",
    "from sklearn.preprocessing import StandardScaler\n",
    "from sklearn.linear_model import LogisticRegression\n",
    "from sklearn.pipeline import make_pipeline\n",
    "from sklearn.datasets import load_iris\n",
    "from sklearn.model_selection import train_test_split\n",
    "from sklearn.metrics import accuracy_score\n",
    "\n",
    "# Where to save the figures\n",
    "PROJECT_ROOT_DIR = \".\"\n",
    "CHAPTER_ID = \"end_to_end_project\"\n",
    "IMAGES_PATH = os.path.join(PROJECT_ROOT_DIR, \"images\", CHAPTER_ID)\n",
    "\n",
    "def save_fig(fig_id, tight_layout=True, fig_extension=\"png\", resolution=300):\n",
    "    path = os.path.join(IMAGES_PATH, fig_id + \".\" + fig_extension)\n",
    "    print(\"Saving figure\", fig_id)\n",
    "    if tight_layout:\n",
    "        plt.tight_layout()\n",
    "    plt.savefig(path, format=fig_extension, dpi=resolution)\n",
    "\n",
    "# Ignore useless warnings (see SciPy issue #5998)\n",
    "import warnings\n",
    "warnings.filterwarnings(action=\"ignore\", module=\"scipy\", message=\"^internal gelsd\")"
   ]
  },
  {
   "cell_type": "markdown",
   "metadata": {},
   "source": [
    "## Get the Data"
   ]
  },
  {
   "cell_type": "markdown",
   "metadata": {},
   "source": [
    "** List the data you need and how much you need **\n",
    "\n",
    "Will need data from Netflix at the grain of single movies/shows/programs."
   ]
  },
  {
   "cell_type": "markdown",
   "metadata": {},
   "source": [
    "** Find and document where you can get that data **\n",
    "\n",
    "We can get the data from Kaggle. Here are some good candidates:\n",
    "\n",
    "https://www.kaggle.com/luiscorter/netflix-original-films-imdb-scores *[Using this so far]*\n",
    "\n",
    "https://www.kaggle.com/shivamb/netflix-shows *[TBD! Will use this in V2]*"
   ]
  },
  {
   "cell_type": "markdown",
   "metadata": {},
   "source": [
    "**Other data questions to check**\n",
    "\n",
    "Check how much space it will take.\n",
    "\n",
    "Check legal obligations, and get authorization if necessary.\n",
    "\n",
    "Get access authorizations.\n",
    "\n",
    "Create workspace (with enough storage space)."
   ]
  },
  {
   "cell_type": "markdown",
   "metadata": {},
   "source": [
    "**Get the data (forreal!)**\n",
    "\n",
    "Ok - now let's get the data. In this case I've saved this file to my local computer. Depending on the volume of data, it might be smarter to only extract some of this data."
   ]
  },
  {
   "cell_type": "code",
   "execution_count": 397,
   "metadata": {
    "collapsed": true
   },
   "outputs": [],
   "source": [
    "init_path = '/Users/blakenicholson/documents/personal/coding/handson-ml'\n",
    "\n",
    "# /Users/blakenicholson/Documents/Personal/Coding/handson-ml/datasets/NetflixOriginals.csv\n",
    "\n",
    "HOUSING_PATH = os.path.join(init_path,\"datasets\")\n",
    "\n",
    "\n",
    "def load_netflixorigs_data(housing_path=HOUSING_PATH):\n",
    "    csv_path = os.path.join(housing_path, \"NetflixOriginals.csv\")\n",
    "    return pd.read_csv(csv_path, encoding = \"latin-1\")\n",
    "\n",
    "netflix_data = load_netflixorigs_data()\n"
   ]
  },
  {
   "cell_type": "markdown",
   "metadata": {},
   "source": [
    "** Check how much space it will take **"
   ]
  },
  {
   "cell_type": "code",
   "execution_count": 395,
   "metadata": {},
   "outputs": [
    {
     "data": {
      "text/plain": [
       "(584, 8)"
      ]
     },
     "execution_count": 395,
     "metadata": {},
     "output_type": "execute_result"
    }
   ],
   "source": [
    "netflix_data.shape"
   ]
  },
  {
   "cell_type": "markdown",
   "metadata": {},
   "source": [
    "## Checking out the data structure"
   ]
  },
  {
   "cell_type": "markdown",
   "metadata": {},
   "source": [
    "Ideally before jumping into this step, we'd have asked the experts about the data.\n",
    "\n",
    "- Create a copy of the data for exploration.\n",
    "\n",
    "- Create a Jupyter Notebook to keep a record of your data exploration.\n",
    "\n",
    "- Study each attribute and its characterisitics:\n",
    "    - Name\n",
    "    - Type (categorical, int/float, bounded/unbounded, text, structured, etc.)\n",
    "    - % of missing values\n",
    "    - Noisiness and type of noise (stochastic, outliers, rounding errors, etc.)\n",
    "    - Possibly useful for the task\n",
    "    - Types of distribution (Gaussian, uniform, logarithmic, etc.)\n",
    "\n",
    "- For supervised learning tasks, identify the target attribute(s).\n",
    "    - Visualize the data\n",
    "    - Study the correlation between attributes.\n",
    "    - Study how you would solve the problem manually.\n",
    "    - Identfiy the promising transformations you may want to apply.\n",
    "    - Identify extra data that would be useful.\n",
    "    - Document what you learn."
   ]
  },
  {
   "cell_type": "markdown",
   "metadata": {},
   "source": [
    "**Prepare the Data**\n",
    "\n",
    "Notes:\n",
    "\n",
    "- Work on copies of the data (keep the original dataset intact)\n",
    "\n",
    "- Write functions for all data transformations you apply, for five reasons:\n",
    "    - So you can easily prepare the data the next time you get a fresh dataset\n",
    "    - So you can apply these transformations in future projects.\n",
    "    - To clean and prepare the test set.\n",
    "    - To clean and prepare new data instances once your solution is live.\n",
    "    - To make it easy to treat your preparation choices as hyperparameters."
   ]
  },
  {
   "cell_type": "markdown",
   "metadata": {},
   "source": [
    "1. Data cleaning:\n",
    "    - Fix or remove outliers (optional).\n",
    "    - Fill in missing values (e.g., with zero, mean, median,...) or drop their rows (or columns)\n",
    "\n",
    "2. Feature selection (optional):\n",
    "    - Drop the attributes that provide no useful information for the task.\n",
    "\n",
    "3. Feature Engineering, where appropriate:\n",
    "    - Discretize continuous features.\n",
    "    - Decompose features (e.g., categorical, date/time, etc.).\n",
    "    - Add promising transformations of features (e.g., log(x), sqrt(x), x^2, etc.)\n",
    "    - Aggregate features into promising new features.\n",
    "\n",
    "4. Feature scaling: standardize or normalize features."
   ]
  },
  {
   "cell_type": "markdown",
   "metadata": {},
   "source": [
    "Check out the first few rows in the dataframe"
   ]
  },
  {
   "cell_type": "code",
   "execution_count": 155,
   "metadata": {},
   "outputs": [
    {
     "data": {
      "text/html": [
       "<div>\n",
       "<style>\n",
       "    .dataframe thead tr:only-child th {\n",
       "        text-align: right;\n",
       "    }\n",
       "\n",
       "    .dataframe thead th {\n",
       "        text-align: left;\n",
       "    }\n",
       "\n",
       "    .dataframe tbody tr th {\n",
       "        vertical-align: top;\n",
       "    }\n",
       "</style>\n",
       "<table border=\"1\" class=\"dataframe\">\n",
       "  <thead>\n",
       "    <tr style=\"text-align: right;\">\n",
       "      <th></th>\n",
       "      <th>Title</th>\n",
       "      <th>Genre</th>\n",
       "      <th>Premiere</th>\n",
       "      <th>Runtime</th>\n",
       "      <th>IMDB Score</th>\n",
       "      <th>Language</th>\n",
       "    </tr>\n",
       "  </thead>\n",
       "  <tbody>\n",
       "    <tr>\n",
       "      <th>0</th>\n",
       "      <td>Enter the Anime</td>\n",
       "      <td>Documentary</td>\n",
       "      <td>8/5/19</td>\n",
       "      <td>58</td>\n",
       "      <td>2.5</td>\n",
       "      <td>English/Japanese</td>\n",
       "    </tr>\n",
       "    <tr>\n",
       "      <th>1</th>\n",
       "      <td>Dark Forces</td>\n",
       "      <td>Thriller</td>\n",
       "      <td>8/21/20</td>\n",
       "      <td>81</td>\n",
       "      <td>2.6</td>\n",
       "      <td>Spanish</td>\n",
       "    </tr>\n",
       "    <tr>\n",
       "      <th>2</th>\n",
       "      <td>The App</td>\n",
       "      <td>Science fiction/Drama</td>\n",
       "      <td>12/26/19</td>\n",
       "      <td>79</td>\n",
       "      <td>2.6</td>\n",
       "      <td>Italian</td>\n",
       "    </tr>\n",
       "    <tr>\n",
       "      <th>3</th>\n",
       "      <td>The Open House</td>\n",
       "      <td>Horror thriller</td>\n",
       "      <td>1/19/18</td>\n",
       "      <td>94</td>\n",
       "      <td>3.2</td>\n",
       "      <td>English</td>\n",
       "    </tr>\n",
       "    <tr>\n",
       "      <th>4</th>\n",
       "      <td>Kaali Khuhi</td>\n",
       "      <td>Mystery</td>\n",
       "      <td>10/30/20</td>\n",
       "      <td>90</td>\n",
       "      <td>3.4</td>\n",
       "      <td>Hindi</td>\n",
       "    </tr>\n",
       "  </tbody>\n",
       "</table>\n",
       "</div>"
      ],
      "text/plain": [
       "             Title                  Genre  Premiere  Runtime  IMDB Score  \\\n",
       "0  Enter the Anime            Documentary    8/5/19       58         2.5   \n",
       "1      Dark Forces               Thriller   8/21/20       81         2.6   \n",
       "2          The App  Science fiction/Drama  12/26/19       79         2.6   \n",
       "3   The Open House        Horror thriller   1/19/18       94         3.2   \n",
       "4      Kaali Khuhi                Mystery  10/30/20       90         3.4   \n",
       "\n",
       "           Language  \n",
       "0  English/Japanese  \n",
       "1           Spanish  \n",
       "2           Italian  \n",
       "3           English  \n",
       "4             Hindi  "
      ]
     },
     "execution_count": 155,
     "metadata": {},
     "output_type": "execute_result"
    }
   ],
   "source": [
    "netflix_data.head()"
   ]
  },
  {
   "cell_type": "markdown",
   "metadata": {},
   "source": [
    "Look at the descriptive statistics of the dataframe"
   ]
  },
  {
   "cell_type": "code",
   "execution_count": 156,
   "metadata": {},
   "outputs": [
    {
     "data": {
      "text/html": [
       "<div>\n",
       "<style>\n",
       "    .dataframe thead tr:only-child th {\n",
       "        text-align: right;\n",
       "    }\n",
       "\n",
       "    .dataframe thead th {\n",
       "        text-align: left;\n",
       "    }\n",
       "\n",
       "    .dataframe tbody tr th {\n",
       "        vertical-align: top;\n",
       "    }\n",
       "</style>\n",
       "<table border=\"1\" class=\"dataframe\">\n",
       "  <thead>\n",
       "    <tr style=\"text-align: right;\">\n",
       "      <th></th>\n",
       "      <th>Runtime</th>\n",
       "      <th>IMDB Score</th>\n",
       "    </tr>\n",
       "  </thead>\n",
       "  <tbody>\n",
       "    <tr>\n",
       "      <th>count</th>\n",
       "      <td>584.000000</td>\n",
       "      <td>584.000000</td>\n",
       "    </tr>\n",
       "    <tr>\n",
       "      <th>mean</th>\n",
       "      <td>93.577055</td>\n",
       "      <td>6.271747</td>\n",
       "    </tr>\n",
       "    <tr>\n",
       "      <th>std</th>\n",
       "      <td>27.761683</td>\n",
       "      <td>0.979256</td>\n",
       "    </tr>\n",
       "    <tr>\n",
       "      <th>min</th>\n",
       "      <td>4.000000</td>\n",
       "      <td>2.500000</td>\n",
       "    </tr>\n",
       "    <tr>\n",
       "      <th>25%</th>\n",
       "      <td>86.000000</td>\n",
       "      <td>5.700000</td>\n",
       "    </tr>\n",
       "    <tr>\n",
       "      <th>50%</th>\n",
       "      <td>97.000000</td>\n",
       "      <td>6.350000</td>\n",
       "    </tr>\n",
       "    <tr>\n",
       "      <th>75%</th>\n",
       "      <td>108.000000</td>\n",
       "      <td>7.000000</td>\n",
       "    </tr>\n",
       "    <tr>\n",
       "      <th>max</th>\n",
       "      <td>209.000000</td>\n",
       "      <td>9.000000</td>\n",
       "    </tr>\n",
       "  </tbody>\n",
       "</table>\n",
       "</div>"
      ],
      "text/plain": [
       "          Runtime  IMDB Score\n",
       "count  584.000000  584.000000\n",
       "mean    93.577055    6.271747\n",
       "std     27.761683    0.979256\n",
       "min      4.000000    2.500000\n",
       "25%     86.000000    5.700000\n",
       "50%     97.000000    6.350000\n",
       "75%    108.000000    7.000000\n",
       "max    209.000000    9.000000"
      ]
     },
     "execution_count": 156,
     "metadata": {},
     "output_type": "execute_result"
    }
   ],
   "source": [
    "netflix_data.describe()"
   ]
  },
  {
   "cell_type": "code",
   "execution_count": 421,
   "metadata": {},
   "outputs": [
    {
     "name": "stdout",
     "output_type": "stream",
     "text": [
      "Mean of Runtime: 93.57705479452055\n"
     ]
    }
   ],
   "source": [
    "print('Mean of Runtime: {0}'.format(np.mean(netflix_data['Runtime'])))"
   ]
  },
  {
   "cell_type": "markdown",
   "metadata": {},
   "source": [
    "The first thing we notice is that we only have two continuous measures (*Runtime* and *IMDB Score*), so we may need to create more features to work with."
   ]
  },
  {
   "cell_type": "code",
   "execution_count": 400,
   "metadata": {},
   "outputs": [
    {
     "name": "stdout",
     "output_type": "stream",
     "text": [
      "<class 'pandas.core.frame.DataFrame'>\n",
      "RangeIndex: 584 entries, 0 to 583\n",
      "Data columns (total 6 columns):\n",
      "Title         584 non-null object\n",
      "Genre         584 non-null object\n",
      "Premiere      584 non-null object\n",
      "Runtime       584 non-null int64\n",
      "IMDB Score    584 non-null float64\n",
      "Language      584 non-null object\n",
      "dtypes: float64(1), int64(1), object(4)\n",
      "memory usage: 27.5+ KB\n"
     ]
    }
   ],
   "source": [
    "netflix_data.info()"
   ]
  },
  {
   "cell_type": "markdown",
   "metadata": {},
   "source": [
    "We are going to create another continuous feature that looks at the number of days between the Premiere date and today's date. We will create the 'days_since_premiere' column and add it back into our dataframe."
   ]
  },
  {
   "cell_type": "code",
   "execution_count": 401,
   "metadata": {
    "scrolled": true
   },
   "outputs": [
    {
     "data": {
      "text/html": [
       "<div>\n",
       "<style>\n",
       "    .dataframe thead tr:only-child th {\n",
       "        text-align: right;\n",
       "    }\n",
       "\n",
       "    .dataframe thead th {\n",
       "        text-align: left;\n",
       "    }\n",
       "\n",
       "    .dataframe tbody tr th {\n",
       "        vertical-align: top;\n",
       "    }\n",
       "</style>\n",
       "<table border=\"1\" class=\"dataframe\">\n",
       "  <thead>\n",
       "    <tr style=\"text-align: right;\">\n",
       "      <th></th>\n",
       "      <th>Title</th>\n",
       "      <th>Genre</th>\n",
       "      <th>Premiere</th>\n",
       "      <th>Runtime</th>\n",
       "      <th>IMDB Score</th>\n",
       "      <th>Language</th>\n",
       "      <th>days_since_premiere</th>\n",
       "    </tr>\n",
       "  </thead>\n",
       "  <tbody>\n",
       "    <tr>\n",
       "      <th>0</th>\n",
       "      <td>Enter the Anime</td>\n",
       "      <td>Documentary</td>\n",
       "      <td>8/5/19</td>\n",
       "      <td>58</td>\n",
       "      <td>2.5</td>\n",
       "      <td>English/Japanese</td>\n",
       "      <td>687.0</td>\n",
       "    </tr>\n",
       "    <tr>\n",
       "      <th>1</th>\n",
       "      <td>Dark Forces</td>\n",
       "      <td>Thriller</td>\n",
       "      <td>8/21/20</td>\n",
       "      <td>81</td>\n",
       "      <td>2.6</td>\n",
       "      <td>Spanish</td>\n",
       "      <td>305.0</td>\n",
       "    </tr>\n",
       "    <tr>\n",
       "      <th>2</th>\n",
       "      <td>The App</td>\n",
       "      <td>Science fiction/Drama</td>\n",
       "      <td>12/26/19</td>\n",
       "      <td>79</td>\n",
       "      <td>2.6</td>\n",
       "      <td>Italian</td>\n",
       "      <td>544.0</td>\n",
       "    </tr>\n",
       "    <tr>\n",
       "      <th>3</th>\n",
       "      <td>The Open House</td>\n",
       "      <td>Horror thriller</td>\n",
       "      <td>1/19/18</td>\n",
       "      <td>94</td>\n",
       "      <td>3.2</td>\n",
       "      <td>English</td>\n",
       "      <td>1250.0</td>\n",
       "    </tr>\n",
       "    <tr>\n",
       "      <th>4</th>\n",
       "      <td>Kaali Khuhi</td>\n",
       "      <td>Mystery</td>\n",
       "      <td>10/30/20</td>\n",
       "      <td>90</td>\n",
       "      <td>3.4</td>\n",
       "      <td>Hindi</td>\n",
       "      <td>235.0</td>\n",
       "    </tr>\n",
       "  </tbody>\n",
       "</table>\n",
       "</div>"
      ],
      "text/plain": [
       "             Title                  Genre  Premiere  Runtime  IMDB Score  \\\n",
       "0  Enter the Anime            Documentary    8/5/19       58         2.5   \n",
       "1      Dark Forces               Thriller   8/21/20       81         2.6   \n",
       "2          The App  Science fiction/Drama  12/26/19       79         2.6   \n",
       "3   The Open House        Horror thriller   1/19/18       94         3.2   \n",
       "4      Kaali Khuhi                Mystery  10/30/20       90         3.4   \n",
       "\n",
       "           Language  days_since_premiere  \n",
       "0  English/Japanese                687.0  \n",
       "1           Spanish                305.0  \n",
       "2           Italian                544.0  \n",
       "3           English               1250.0  \n",
       "4             Hindi                235.0  "
      ]
     },
     "execution_count": 401,
     "metadata": {},
     "output_type": "execute_result"
    }
   ],
   "source": [
    "date1 = netflix_data[\"Premiere\"]\n",
    "date2 = pd.Series(data=date.today(), index=np.arange(len(date1)), name=\"Today\").values.astype('datetime64[D]')\n",
    "date1 = pd.to_datetime(date1).values.astype('datetime64[D]')\n",
    "date_df = pd.DataFrame(dict(Start_date = date1, End_date = date2))\n",
    "date_df['diff_days'] = date_df['End_date'] - date_df['Start_date']\n",
    "date_df['diff_days'] = date_df['diff_days'] / np.timedelta64(1,'D')\n",
    "netflix_data['days_since_premiere'] = date_df['diff_days']\n",
    "netflix_data.head()"
   ]
  },
  {
   "cell_type": "markdown",
   "metadata": {},
   "source": [
    "Let's now look at some histograms of each measure to see what our distributions look like. IMDB Score and Runtime both seem to follow a normal distribution but days_since_premiere seems to follow a negative linear trend (which makes sense as more time goes by and the oldest movies continue to get older)."
   ]
  },
  {
   "cell_type": "code",
   "execution_count": 404,
   "metadata": {
    "scrolled": true
   },
   "outputs": [
    {
     "data": {
      "image/png": "[encoded data removed]",
      "text/plain": [
       "<matplotlib.figure.Figure at 0x12292a048>"
      ]
     },
     "metadata": {},
     "output_type": "display_data"
    }
   ],
   "source": [
    "%matplotlib inline\n",
    "import matplotlib.pyplot as plt\n",
    "netflix_data.hist(bins=50, figsize=(20,15))\n",
    "# save_fig(\"melb_attribute_histogram_plots\")\n",
    "plt.show()"
   ]
  },
  {
   "cell_type": "code",
   "execution_count": 411,
   "metadata": {
    "scrolled": true
   },
   "outputs": [
    {
     "data": {
      "text/plain": [
       "<matplotlib.axes._subplots.AxesSubplot at 0x123e86ef0>"
      ]
     },
     "execution_count": 411,
     "metadata": {},
     "output_type": "execute_result"
    },
    {
     "data": {
      "image/png": "[encoded data removed]",
      "text/plain": [
       "<matplotlib.figure.Figure at 0x123e9b320>"
      ]
     },
     "metadata": {},
     "output_type": "display_data"
    }
   ],
   "source": [
    "# netflix_data[\"Runtime\"].hist(bins=100)\n",
    "\n",
    "fig, ax = plt.subplots(1,1,figsize=(10, 4))\n",
    "\n",
    "sns.distplot(netflix_data['Runtime'])"
   ]
  },
  {
   "cell_type": "code",
   "execution_count": 406,
   "metadata": {
    "scrolled": true
   },
   "outputs": [
    {
     "data": {
      "text/html": [
       "<div>\n",
       "<style>\n",
       "    .dataframe thead tr:only-child th {\n",
       "        text-align: right;\n",
       "    }\n",
       "\n",
       "    .dataframe thead th {\n",
       "        text-align: left;\n",
       "    }\n",
       "\n",
       "    .dataframe tbody tr th {\n",
       "        vertical-align: top;\n",
       "    }\n",
       "</style>\n",
       "<table border=\"1\" class=\"dataframe\">\n",
       "  <thead>\n",
       "    <tr style=\"text-align: right;\">\n",
       "      <th></th>\n",
       "      <th>Runtime</th>\n",
       "      <th>IMDB Score</th>\n",
       "      <th>days_since_premiere</th>\n",
       "    </tr>\n",
       "  </thead>\n",
       "  <tbody>\n",
       "    <tr>\n",
       "      <th>Runtime</th>\n",
       "      <td>1.000000</td>\n",
       "      <td>-0.040896</td>\n",
       "      <td>-0.063521</td>\n",
       "    </tr>\n",
       "    <tr>\n",
       "      <th>IMDB Score</th>\n",
       "      <td>-0.040896</td>\n",
       "      <td>1.000000</td>\n",
       "      <td>0.122174</td>\n",
       "    </tr>\n",
       "    <tr>\n",
       "      <th>days_since_premiere</th>\n",
       "      <td>-0.063521</td>\n",
       "      <td>0.122174</td>\n",
       "      <td>1.000000</td>\n",
       "    </tr>\n",
       "  </tbody>\n",
       "</table>\n",
       "</div>"
      ],
      "text/plain": [
       "                      Runtime  IMDB Score  days_since_premiere\n",
       "Runtime              1.000000   -0.040896            -0.063521\n",
       "IMDB Score          -0.040896    1.000000             0.122174\n",
       "days_since_premiere -0.063521    0.122174             1.000000"
      ]
     },
     "execution_count": 406,
     "metadata": {},
     "output_type": "execute_result"
    }
   ],
   "source": [
    "netflix_data.corr()"
   ]
  },
  {
   "cell_type": "code",
   "execution_count": 407,
   "metadata": {},
   "outputs": [
    {
     "data": {
      "text/plain": [
       "<matplotlib.axes._subplots.AxesSubplot at 0x12003c748>"
      ]
     },
     "execution_count": 407,
     "metadata": {},
     "output_type": "execute_result"
    },
    {
     "data": {
      "image/png": "[encoded data removed]",
      "text/plain": [
       "<matplotlib.figure.Figure at 0x11fff0dd8>"
      ]
     },
     "metadata": {},
     "output_type": "display_data"
    }
   ],
   "source": [
    "netflix_data.plot(kind=\"scatter\", x=\"IMDB Score\", y=\"Runtime\", alpha=0.4, s=netflix_data[\"Runtime\"]/10)"
   ]
  },
  {
   "cell_type": "code",
   "execution_count": 408,
   "metadata": {},
   "outputs": [
    {
     "data": {
      "text/plain": [
       "<matplotlib.axes._subplots.AxesSubplot at 0x122897940>"
      ]
     },
     "execution_count": 408,
     "metadata": {},
     "output_type": "execute_result"
    },
    {
     "data": {
      "image/png": "[encoded data removed]",
      "text/plain": [
       "<matplotlib.figure.Figure at 0x1238ff080>"
      ]
     },
     "metadata": {},
     "output_type": "display_data"
    }
   ],
   "source": [
    "netflix_data.plot(kind=\"scatter\", x=\"IMDB Score\", y=\"days_since_premiere\", alpha=0.4, s=netflix_data[\"Runtime\"]/10)"
   ]
  },
  {
   "cell_type": "markdown",
   "metadata": {},
   "source": [
    "## Create a Test Set"
   ]
  },
  {
   "cell_type": "code",
   "execution_count": 294,
   "metadata": {
    "collapsed": true
   },
   "outputs": [],
   "source": [
    "from sklearn.model_selection import train_test_split\n",
    "\n",
    "train_set, test_set = train_test_split(netflix_data, test_size=0.2, random_state=42)"
   ]
  },
  {
   "cell_type": "code",
   "execution_count": 295,
   "metadata": {},
   "outputs": [
    {
     "name": "stdout",
     "output_type": "stream",
     "text": [
      "468 train + 116 test\n"
     ]
    }
   ],
   "source": [
    "train_set, test_set = split_train_test(netflix_data, 0.2)\n",
    "print(len(train_set), \"train +\", len(test_set), \"test\")"
   ]
  },
  {
   "cell_type": "code",
   "execution_count": 296,
   "metadata": {},
   "outputs": [
    {
     "data": {
      "text/plain": [
       "(116, 8)"
      ]
     },
     "execution_count": 296,
     "metadata": {},
     "output_type": "execute_result"
    }
   ],
   "source": [
    "test_set.head()\n",
    "test_set.shape"
   ]
  },
  {
   "cell_type": "code",
   "execution_count": 297,
   "metadata": {},
   "outputs": [
    {
     "data": {
      "text/plain": [
       "(468, 8)"
      ]
     },
     "execution_count": 297,
     "metadata": {},
     "output_type": "execute_result"
    }
   ],
   "source": [
    "train_set.head()\n",
    "train_set.shape"
   ]
  },
  {
   "cell_type": "code",
   "execution_count": 298,
   "metadata": {},
   "outputs": [
    {
     "data": {
      "text/plain": [
       "<matplotlib.axes._subplots.AxesSubplot at 0x11f9aae10>"
      ]
     },
     "execution_count": 298,
     "metadata": {},
     "output_type": "execute_result"
    },
    {
     "data": {
      "image/png": "[encoded data removed]",
      "text/plain": [
       "<matplotlib.figure.Figure at 0x11f77e588>"
      ]
     },
     "metadata": {},
     "output_type": "display_data"
    }
   ],
   "source": [
    "netflix_data[\"Runtime\"].hist()"
   ]
  },
  {
   "cell_type": "code",
   "execution_count": 299,
   "metadata": {
    "collapsed": true
   },
   "outputs": [],
   "source": [
    "netflix_data[\"runtime_cat\"] = np.ceil(netflix_data[\"Runtime\"] / 20)\n",
    "netflix_data[\"runtime_cat\"].where(netflix_data[\"runtime_cat\"] < 7, 7, inplace=True)\n",
    "# netflix_data[\"runtime_cat\"].where(netflix_data[\"runtime_cat\"] < 7, 7, inplace=True)"
   ]
  },
  {
   "cell_type": "code",
   "execution_count": 300,
   "metadata": {},
   "outputs": [
    {
     "data": {
      "image/png": "[encoded data removed]",
      "text/plain": [
       "<matplotlib.figure.Figure at 0x11fa86630>"
      ]
     },
     "metadata": {},
     "output_type": "display_data"
    }
   ],
   "source": [
    "netflix_data.hist(bins=50, figsize=(20,15))\n",
    "# save_fig(\"melb_attribute_histogram_plots\")\n",
    "plt.show()"
   ]
  },
  {
   "cell_type": "code",
   "execution_count": 301,
   "metadata": {},
   "outputs": [
    {
     "data": {
      "text/plain": [
       "0    58\n",
       "1    81\n",
       "2    79\n",
       "3    94\n",
       "4    90\n",
       "Name: Runtime, dtype: int64"
      ]
     },
     "execution_count": 301,
     "metadata": {},
     "output_type": "execute_result"
    }
   ],
   "source": [
    "y = netflix_data[\"Runtime\"]\n",
    "y.head()"
   ]
  },
  {
   "cell_type": "code",
   "execution_count": 302,
   "metadata": {},
   "outputs": [
    {
     "data": {
      "text/html": [
       "<div>\n",
       "<style>\n",
       "    .dataframe thead tr:only-child th {\n",
       "        text-align: right;\n",
       "    }\n",
       "\n",
       "    .dataframe thead th {\n",
       "        text-align: left;\n",
       "    }\n",
       "\n",
       "    .dataframe tbody tr th {\n",
       "        vertical-align: top;\n",
       "    }\n",
       "</style>\n",
       "<table border=\"1\" class=\"dataframe\">\n",
       "  <thead>\n",
       "    <tr style=\"text-align: right;\">\n",
       "      <th></th>\n",
       "      <th>IMDB Score</th>\n",
       "      <th>Runtime</th>\n",
       "    </tr>\n",
       "  </thead>\n",
       "  <tbody>\n",
       "    <tr>\n",
       "      <th>0</th>\n",
       "      <td>2.5</td>\n",
       "      <td>58</td>\n",
       "    </tr>\n",
       "    <tr>\n",
       "      <th>1</th>\n",
       "      <td>2.6</td>\n",
       "      <td>81</td>\n",
       "    </tr>\n",
       "    <tr>\n",
       "      <th>2</th>\n",
       "      <td>2.6</td>\n",
       "      <td>79</td>\n",
       "    </tr>\n",
       "    <tr>\n",
       "      <th>3</th>\n",
       "      <td>3.2</td>\n",
       "      <td>94</td>\n",
       "    </tr>\n",
       "    <tr>\n",
       "      <th>4</th>\n",
       "      <td>3.4</td>\n",
       "      <td>90</td>\n",
       "    </tr>\n",
       "  </tbody>\n",
       "</table>\n",
       "</div>"
      ],
      "text/plain": [
       "   IMDB Score  Runtime\n",
       "0         2.5       58\n",
       "1         2.6       81\n",
       "2         2.6       79\n",
       "3         3.2       94\n",
       "4         3.4       90"
      ]
     },
     "execution_count": 302,
     "metadata": {},
     "output_type": "execute_result"
    }
   ],
   "source": [
    "X = netflix_data.loc[:,['IMDB Score','Runtime']]\n",
    "X.head()"
   ]
  },
  {
   "cell_type": "code",
   "execution_count": 303,
   "metadata": {},
   "outputs": [],
   "source": [
    "from sklearn.model_selection import StratifiedShuffleSplit\n",
    "\n",
    "split = StratifiedShuffleSplit(n_splits=1,test_size=0.10,random_state=42)\n",
    "\n",
    "# netflix_data.iloc[0:,1]\n",
    "for train_index, test_index in split.split(netflix_data, netflix_data[\"runtime_cat\"]):\n",
    "    strat_train_set = netflix_data.loc[train_index]\n",
    "    strat_test_set = netflix_data.loc[test_index]"
   ]
  },
  {
   "cell_type": "code",
   "execution_count": 304,
   "metadata": {},
   "outputs": [
    {
     "name": "stdout",
     "output_type": "stream",
     "text": [
      "StratifiedShuffleSplit(n_splits=1, random_state=42, test_size=0.1,\n",
      "            train_size=None)\n"
     ]
    }
   ],
   "source": [
    "print(split)"
   ]
  },
  {
   "cell_type": "code",
   "execution_count": 305,
   "metadata": {
    "scrolled": true
   },
   "outputs": [
    {
     "data": {
      "text/plain": [
       "sklearn.model_selection._split.StratifiedShuffleSplit"
      ]
     },
     "execution_count": 305,
     "metadata": {},
     "output_type": "execute_result"
    }
   ],
   "source": [
    "type(split)"
   ]
  },
  {
   "cell_type": "code",
   "execution_count": 306,
   "metadata": {},
   "outputs": [
    {
     "data": {
      "text/plain": [
       "5.0    0.423729\n",
       "6.0    0.288136\n",
       "7.0    0.118644\n",
       "4.0    0.067797\n",
       "2.0    0.050847\n",
       "3.0    0.033898\n",
       "1.0    0.016949\n",
       "Name: runtime_cat, dtype: float64"
      ]
     },
     "execution_count": 306,
     "metadata": {},
     "output_type": "execute_result"
    }
   ],
   "source": [
    "strat_test_set[\"runtime_cat\"].value_counts() / len(strat_test_set)"
   ]
  },
  {
   "cell_type": "code",
   "execution_count": 307,
   "metadata": {
    "scrolled": false
   },
   "outputs": [
    {
     "data": {
      "text/plain": [
       "<matplotlib.axes._subplots.AxesSubplot at 0x11fbe4fd0>"
      ]
     },
     "execution_count": 307,
     "metadata": {},
     "output_type": "execute_result"
    },
    {
     "data": {
      "image/png": "[encoded data removed]",
      "text/plain": [
       "<matplotlib.figure.Figure at 0x11f7cf6d8>"
      ]
     },
     "metadata": {},
     "output_type": "display_data"
    }
   ],
   "source": [
    "train_set.plot(kind=\"scatter\", x=\"IMDB Score\", y=\"Runtime\", alpha=0.4, s=train_set[\"Runtime\"]/10)"
   ]
  },
  {
   "cell_type": "code",
   "execution_count": 308,
   "metadata": {},
   "outputs": [
    {
     "data": {
      "text/plain": [
       "<matplotlib.axes._subplots.AxesSubplot at 0x11af90f28>"
      ]
     },
     "execution_count": 308,
     "metadata": {},
     "output_type": "execute_result"
    },
    {
     "data": {
      "image/png": "[encoded data removed]",
      "text/plain": [
       "<matplotlib.figure.Figure at 0x11afb2c18>"
      ]
     },
     "metadata": {},
     "output_type": "display_data"
    }
   ],
   "source": [
    "test_set.plot(kind=\"scatter\", x=\"IMDB Score\", y=\"Runtime\", alpha=0.4, s=test_set[\"Runtime\"]/10)"
   ]
  },
  {
   "cell_type": "code",
   "execution_count": 311,
   "metadata": {},
   "outputs": [],
   "source": [
    "def genre_proportions(data):\n",
    "    return data[\"Genre\"].value_counts() / len(data)\n",
    "\n",
    "def language_proportions(data):\n",
    "    return data[\"Language\"].value_counts() / len(data)\n",
    "\n",
    "train_set, test_set = train_test_split(netflix_data, test_size=0.2, random_state=42)\n",
    "\n",
    "# compare_props = pd.DataFrame({\n",
    "#     \"Overall\": genre_proportions(netflix_data),\n",
    "#     \"Stratified\": genre_proportions(strat_test_set),\n",
    "#     \"Random\": genre_proportions(test_set),\n",
    "# }).sort_index()\n",
    "\n",
    "compare_props = pd.DataFrame({\n",
    "    \"Overall\": language_proportions(netflix_data),\n",
    "    \"Stratified\": language_proportions(strat_test_set),\n",
    "    \"Random\": language_proportions(test_set),\n",
    "}).sort_index()\n",
    "\n",
    "compare_props[\"Rand. %error\"] = 100 * compare_props[\"Random\"] / compare_props[\"Overall\"] - 100\n",
    "compare_props[\"Strat. %error\"] = 100 * compare_props[\"Stratified\"] / compare_props[\"Overall\"] - 100"
   ]
  },
  {
   "cell_type": "code",
   "execution_count": 312,
   "metadata": {
    "scrolled": false
   },
   "outputs": [
    {
     "data": {
      "text/html": [
       "<div>\n",
       "<style>\n",
       "    .dataframe thead tr:only-child th {\n",
       "        text-align: right;\n",
       "    }\n",
       "\n",
       "    .dataframe thead th {\n",
       "        text-align: left;\n",
       "    }\n",
       "\n",
       "    .dataframe tbody tr th {\n",
       "        vertical-align: top;\n",
       "    }\n",
       "</style>\n",
       "<table border=\"1\" class=\"dataframe\">\n",
       "  <thead>\n",
       "    <tr style=\"text-align: right;\">\n",
       "      <th></th>\n",
       "      <th>Overall</th>\n",
       "      <th>Random</th>\n",
       "      <th>Stratified</th>\n",
       "      <th>Rand. %error</th>\n",
       "      <th>Strat. %error</th>\n",
       "    </tr>\n",
       "  </thead>\n",
       "  <tbody>\n",
       "    <tr>\n",
       "      <th>English</th>\n",
       "      <td>0.686644</td>\n",
       "      <td>0.675214</td>\n",
       "      <td>0.728814</td>\n",
       "      <td>-1.664642</td>\n",
       "      <td>6.141426</td>\n",
       "    </tr>\n",
       "    <tr>\n",
       "      <th>Hindi</th>\n",
       "      <td>0.056507</td>\n",
       "      <td>0.059829</td>\n",
       "      <td>0.050847</td>\n",
       "      <td>5.879306</td>\n",
       "      <td>-10.015408</td>\n",
       "    </tr>\n",
       "    <tr>\n",
       "      <th>Spanish</th>\n",
       "      <td>0.053082</td>\n",
       "      <td>0.051282</td>\n",
       "      <td>0.101695</td>\n",
       "      <td>-3.391232</td>\n",
       "      <td>91.580098</td>\n",
       "    </tr>\n",
       "    <tr>\n",
       "      <th>French</th>\n",
       "      <td>0.034247</td>\n",
       "      <td>0.017094</td>\n",
       "      <td>0.016949</td>\n",
       "      <td>-50.085470</td>\n",
       "      <td>-50.508475</td>\n",
       "    </tr>\n",
       "    <tr>\n",
       "      <th>Italian</th>\n",
       "      <td>0.023973</td>\n",
       "      <td>0.051282</td>\n",
       "      <td>0.016949</td>\n",
       "      <td>113.919414</td>\n",
       "      <td>-29.297821</td>\n",
       "    </tr>\n",
       "    <tr>\n",
       "      <th>Portuguese</th>\n",
       "      <td>0.020548</td>\n",
       "      <td>0.025641</td>\n",
       "      <td>NaN</td>\n",
       "      <td>24.786325</td>\n",
       "      <td>NaN</td>\n",
       "    </tr>\n",
       "    <tr>\n",
       "      <th>Indonesian</th>\n",
       "      <td>0.015411</td>\n",
       "      <td>0.025641</td>\n",
       "      <td>0.016949</td>\n",
       "      <td>66.381766</td>\n",
       "      <td>9.981168</td>\n",
       "    </tr>\n",
       "    <tr>\n",
       "      <th>Korean</th>\n",
       "      <td>0.010274</td>\n",
       "      <td>0.008547</td>\n",
       "      <td>NaN</td>\n",
       "      <td>-16.809117</td>\n",
       "      <td>NaN</td>\n",
       "    </tr>\n",
       "    <tr>\n",
       "      <th>Japanese</th>\n",
       "      <td>0.010274</td>\n",
       "      <td>NaN</td>\n",
       "      <td>NaN</td>\n",
       "      <td>NaN</td>\n",
       "      <td>NaN</td>\n",
       "    </tr>\n",
       "    <tr>\n",
       "      <th>German</th>\n",
       "      <td>0.008562</td>\n",
       "      <td>NaN</td>\n",
       "      <td>0.016949</td>\n",
       "      <td>NaN</td>\n",
       "      <td>97.966102</td>\n",
       "    </tr>\n",
       "    <tr>\n",
       "      <th>Turkish</th>\n",
       "      <td>0.008562</td>\n",
       "      <td>0.034188</td>\n",
       "      <td>NaN</td>\n",
       "      <td>299.316239</td>\n",
       "      <td>NaN</td>\n",
       "    </tr>\n",
       "    <tr>\n",
       "      <th>English/Spanish</th>\n",
       "      <td>0.008562</td>\n",
       "      <td>0.008547</td>\n",
       "      <td>0.016949</td>\n",
       "      <td>-0.170940</td>\n",
       "      <td>97.966102</td>\n",
       "    </tr>\n",
       "    <tr>\n",
       "      <th>Dutch</th>\n",
       "      <td>0.005137</td>\n",
       "      <td>NaN</td>\n",
       "      <td>NaN</td>\n",
       "      <td>NaN</td>\n",
       "      <td>NaN</td>\n",
       "    </tr>\n",
       "    <tr>\n",
       "      <th>Marathi</th>\n",
       "      <td>0.005137</td>\n",
       "      <td>0.008547</td>\n",
       "      <td>NaN</td>\n",
       "      <td>66.381766</td>\n",
       "      <td>NaN</td>\n",
       "    </tr>\n",
       "    <tr>\n",
       "      <th>Polish</th>\n",
       "      <td>0.005137</td>\n",
       "      <td>NaN</td>\n",
       "      <td>NaN</td>\n",
       "      <td>NaN</td>\n",
       "      <td>NaN</td>\n",
       "    </tr>\n",
       "    <tr>\n",
       "      <th>Filipino</th>\n",
       "      <td>0.003425</td>\n",
       "      <td>0.008547</td>\n",
       "      <td>NaN</td>\n",
       "      <td>149.572650</td>\n",
       "      <td>NaN</td>\n",
       "    </tr>\n",
       "    <tr>\n",
       "      <th>Thai</th>\n",
       "      <td>0.003425</td>\n",
       "      <td>NaN</td>\n",
       "      <td>NaN</td>\n",
       "      <td>NaN</td>\n",
       "      <td>NaN</td>\n",
       "    </tr>\n",
       "    <tr>\n",
       "      <th>English/Mandarin</th>\n",
       "      <td>0.003425</td>\n",
       "      <td>NaN</td>\n",
       "      <td>NaN</td>\n",
       "      <td>NaN</td>\n",
       "      <td>NaN</td>\n",
       "    </tr>\n",
       "    <tr>\n",
       "      <th>English/Japanese</th>\n",
       "      <td>0.003425</td>\n",
       "      <td>NaN</td>\n",
       "      <td>NaN</td>\n",
       "      <td>NaN</td>\n",
       "      <td>NaN</td>\n",
       "    </tr>\n",
       "    <tr>\n",
       "      <th>English/Hindi</th>\n",
       "      <td>0.003425</td>\n",
       "      <td>0.008547</td>\n",
       "      <td>NaN</td>\n",
       "      <td>149.572650</td>\n",
       "      <td>NaN</td>\n",
       "    </tr>\n",
       "    <tr>\n",
       "      <th>Tamil</th>\n",
       "      <td>0.001712</td>\n",
       "      <td>NaN</td>\n",
       "      <td>NaN</td>\n",
       "      <td>NaN</td>\n",
       "      <td>NaN</td>\n",
       "    </tr>\n",
       "    <tr>\n",
       "      <th>English/Akan</th>\n",
       "      <td>0.001712</td>\n",
       "      <td>NaN</td>\n",
       "      <td>NaN</td>\n",
       "      <td>NaN</td>\n",
       "      <td>NaN</td>\n",
       "    </tr>\n",
       "    <tr>\n",
       "      <th>Swedish</th>\n",
       "      <td>0.001712</td>\n",
       "      <td>NaN</td>\n",
       "      <td>NaN</td>\n",
       "      <td>NaN</td>\n",
       "      <td>NaN</td>\n",
       "    </tr>\n",
       "    <tr>\n",
       "      <th>Spanish/English</th>\n",
       "      <td>0.001712</td>\n",
       "      <td>NaN</td>\n",
       "      <td>NaN</td>\n",
       "      <td>NaN</td>\n",
       "      <td>NaN</td>\n",
       "    </tr>\n",
       "    <tr>\n",
       "      <th>Spanish/Catalan</th>\n",
       "      <td>0.001712</td>\n",
       "      <td>NaN</td>\n",
       "      <td>NaN</td>\n",
       "      <td>NaN</td>\n",
       "      <td>NaN</td>\n",
       "    </tr>\n",
       "    <tr>\n",
       "      <th>Thia/English</th>\n",
       "      <td>0.001712</td>\n",
       "      <td>NaN</td>\n",
       "      <td>NaN</td>\n",
       "      <td>NaN</td>\n",
       "      <td>NaN</td>\n",
       "    </tr>\n",
       "    <tr>\n",
       "      <th>Spanish/Basque</th>\n",
       "      <td>0.001712</td>\n",
       "      <td>NaN</td>\n",
       "      <td>NaN</td>\n",
       "      <td>NaN</td>\n",
       "      <td>NaN</td>\n",
       "    </tr>\n",
       "    <tr>\n",
       "      <th>English/Swedish</th>\n",
       "      <td>0.001712</td>\n",
       "      <td>0.008547</td>\n",
       "      <td>NaN</td>\n",
       "      <td>399.145299</td>\n",
       "      <td>NaN</td>\n",
       "    </tr>\n",
       "    <tr>\n",
       "      <th>Malay</th>\n",
       "      <td>0.001712</td>\n",
       "      <td>NaN</td>\n",
       "      <td>NaN</td>\n",
       "      <td>NaN</td>\n",
       "      <td>NaN</td>\n",
       "    </tr>\n",
       "    <tr>\n",
       "      <th>English/Arabic</th>\n",
       "      <td>0.001712</td>\n",
       "      <td>NaN</td>\n",
       "      <td>NaN</td>\n",
       "      <td>NaN</td>\n",
       "      <td>NaN</td>\n",
       "    </tr>\n",
       "    <tr>\n",
       "      <th>Norwegian</th>\n",
       "      <td>0.001712</td>\n",
       "      <td>NaN</td>\n",
       "      <td>0.016949</td>\n",
       "      <td>NaN</td>\n",
       "      <td>889.830508</td>\n",
       "    </tr>\n",
       "    <tr>\n",
       "      <th>English/Taiwanese/Mandarin</th>\n",
       "      <td>0.001712</td>\n",
       "      <td>NaN</td>\n",
       "      <td>NaN</td>\n",
       "      <td>NaN</td>\n",
       "      <td>NaN</td>\n",
       "    </tr>\n",
       "    <tr>\n",
       "      <th>Khmer/English/French</th>\n",
       "      <td>0.001712</td>\n",
       "      <td>NaN</td>\n",
       "      <td>NaN</td>\n",
       "      <td>NaN</td>\n",
       "      <td>NaN</td>\n",
       "    </tr>\n",
       "    <tr>\n",
       "      <th>English/Korean</th>\n",
       "      <td>0.001712</td>\n",
       "      <td>NaN</td>\n",
       "      <td>NaN</td>\n",
       "      <td>NaN</td>\n",
       "      <td>NaN</td>\n",
       "    </tr>\n",
       "    <tr>\n",
       "      <th>English/Russian</th>\n",
       "      <td>0.001712</td>\n",
       "      <td>NaN</td>\n",
       "      <td>0.016949</td>\n",
       "      <td>NaN</td>\n",
       "      <td>889.830508</td>\n",
       "    </tr>\n",
       "    <tr>\n",
       "      <th>Georgian</th>\n",
       "      <td>0.001712</td>\n",
       "      <td>NaN</td>\n",
       "      <td>NaN</td>\n",
       "      <td>NaN</td>\n",
       "      <td>NaN</td>\n",
       "    </tr>\n",
       "    <tr>\n",
       "      <th>English/Ukranian/Russian</th>\n",
       "      <td>0.001712</td>\n",
       "      <td>0.008547</td>\n",
       "      <td>NaN</td>\n",
       "      <td>399.145299</td>\n",
       "      <td>NaN</td>\n",
       "    </tr>\n",
       "    <tr>\n",
       "      <th>Bengali</th>\n",
       "      <td>0.001712</td>\n",
       "      <td>NaN</td>\n",
       "      <td>NaN</td>\n",
       "      <td>NaN</td>\n",
       "      <td>NaN</td>\n",
       "    </tr>\n",
       "  </tbody>\n",
       "</table>\n",
       "</div>"
      ],
      "text/plain": [
       "                             Overall    Random  Stratified  Rand. %error  \\\n",
       "English                     0.686644  0.675214    0.728814     -1.664642   \n",
       "Hindi                       0.056507  0.059829    0.050847      5.879306   \n",
       "Spanish                     0.053082  0.051282    0.101695     -3.391232   \n",
       "French                      0.034247  0.017094    0.016949    -50.085470   \n",
       "Italian                     0.023973  0.051282    0.016949    113.919414   \n",
       "Portuguese                  0.020548  0.025641         NaN     24.786325   \n",
       "Indonesian                  0.015411  0.025641    0.016949     66.381766   \n",
       "Korean                      0.010274  0.008547         NaN    -16.809117   \n",
       "Japanese                    0.010274       NaN         NaN           NaN   \n",
       "German                      0.008562       NaN    0.016949           NaN   \n",
       "Turkish                     0.008562  0.034188         NaN    299.316239   \n",
       "English/Spanish             0.008562  0.008547    0.016949     -0.170940   \n",
       "Dutch                       0.005137       NaN         NaN           NaN   \n",
       "Marathi                     0.005137  0.008547         NaN     66.381766   \n",
       "Polish                      0.005137       NaN         NaN           NaN   \n",
       "Filipino                    0.003425  0.008547         NaN    149.572650   \n",
       "Thai                        0.003425       NaN         NaN           NaN   \n",
       "English/Mandarin            0.003425       NaN         NaN           NaN   \n",
       "English/Japanese            0.003425       NaN         NaN           NaN   \n",
       "English/Hindi               0.003425  0.008547         NaN    149.572650   \n",
       "Tamil                       0.001712       NaN         NaN           NaN   \n",
       "English/Akan                0.001712       NaN         NaN           NaN   \n",
       "Swedish                     0.001712       NaN         NaN           NaN   \n",
       "Spanish/English             0.001712       NaN         NaN           NaN   \n",
       "Spanish/Catalan             0.001712       NaN         NaN           NaN   \n",
       "Thia/English                0.001712       NaN         NaN           NaN   \n",
       "Spanish/Basque              0.001712       NaN         NaN           NaN   \n",
       "English/Swedish             0.001712  0.008547         NaN    399.145299   \n",
       "Malay                       0.001712       NaN         NaN           NaN   \n",
       "English/Arabic              0.001712       NaN         NaN           NaN   \n",
       "Norwegian                   0.001712       NaN    0.016949           NaN   \n",
       "English/Taiwanese/Mandarin  0.001712       NaN         NaN           NaN   \n",
       "Khmer/English/French        0.001712       NaN         NaN           NaN   \n",
       "English/Korean              0.001712       NaN         NaN           NaN   \n",
       "English/Russian             0.001712       NaN    0.016949           NaN   \n",
       "Georgian                    0.001712       NaN         NaN           NaN   \n",
       "English/Ukranian/Russian    0.001712  0.008547         NaN    399.145299   \n",
       "Bengali                     0.001712       NaN         NaN           NaN   \n",
       "\n",
       "                            Strat. %error  \n",
       "English                          6.141426  \n",
       "Hindi                          -10.015408  \n",
       "Spanish                         91.580098  \n",
       "French                         -50.508475  \n",
       "Italian                        -29.297821  \n",
       "Portuguese                            NaN  \n",
       "Indonesian                       9.981168  \n",
       "Korean                                NaN  \n",
       "Japanese                              NaN  \n",
       "German                          97.966102  \n",
       "Turkish                               NaN  \n",
       "English/Spanish                 97.966102  \n",
       "Dutch                                 NaN  \n",
       "Marathi                               NaN  \n",
       "Polish                                NaN  \n",
       "Filipino                              NaN  \n",
       "Thai                                  NaN  \n",
       "English/Mandarin                      NaN  \n",
       "English/Japanese                      NaN  \n",
       "English/Hindi                         NaN  \n",
       "Tamil                                 NaN  \n",
       "English/Akan                          NaN  \n",
       "Swedish                               NaN  \n",
       "Spanish/English                       NaN  \n",
       "Spanish/Catalan                       NaN  \n",
       "Thia/English                          NaN  \n",
       "Spanish/Basque                        NaN  \n",
       "English/Swedish                       NaN  \n",
       "Malay                                 NaN  \n",
       "English/Arabic                        NaN  \n",
       "Norwegian                      889.830508  \n",
       "English/Taiwanese/Mandarin            NaN  \n",
       "Khmer/English/French                  NaN  \n",
       "English/Korean                        NaN  \n",
       "English/Russian                889.830508  \n",
       "Georgian                              NaN  \n",
       "English/Ukranian/Russian              NaN  \n",
       "Bengali                               NaN  "
      ]
     },
     "execution_count": 312,
     "metadata": {},
     "output_type": "execute_result"
    }
   ],
   "source": [
    "compare_props.sort_values(by=\"Overall\", ascending=False)"
   ]
  },
  {
   "cell_type": "markdown",
   "metadata": {},
   "source": [
    "# Discover and visualize the data to gain insights"
   ]
  },
  {
   "cell_type": "code",
   "execution_count": 313,
   "metadata": {},
   "outputs": [
    {
     "data": {
      "text/html": [
       "<div>\n",
       "<style>\n",
       "    .dataframe thead tr:only-child th {\n",
       "        text-align: right;\n",
       "    }\n",
       "\n",
       "    .dataframe thead th {\n",
       "        text-align: left;\n",
       "    }\n",
       "\n",
       "    .dataframe tbody tr th {\n",
       "        vertical-align: top;\n",
       "    }\n",
       "</style>\n",
       "<table border=\"1\" class=\"dataframe\">\n",
       "  <thead>\n",
       "    <tr style=\"text-align: right;\">\n",
       "      <th></th>\n",
       "      <th>Title</th>\n",
       "      <th>Genre</th>\n",
       "      <th>Premiere</th>\n",
       "      <th>Runtime</th>\n",
       "      <th>IMDB Score</th>\n",
       "      <th>Language</th>\n",
       "      <th>runtime_cat</th>\n",
       "      <th>days_since_premiere</th>\n",
       "    </tr>\n",
       "  </thead>\n",
       "  <tbody>\n",
       "    <tr>\n",
       "      <th>383</th>\n",
       "      <td>Paper Lives</td>\n",
       "      <td>Drama</td>\n",
       "      <td>3/12/21</td>\n",
       "      <td>97</td>\n",
       "      <td>6.7</td>\n",
       "      <td>Turkish</td>\n",
       "      <td>5.0</td>\n",
       "      <td>102.0</td>\n",
       "    </tr>\n",
       "    <tr>\n",
       "      <th>422</th>\n",
       "      <td>Outlaw King</td>\n",
       "      <td>Historical-epic</td>\n",
       "      <td>11/9/18</td>\n",
       "      <td>121</td>\n",
       "      <td>6.9</td>\n",
       "      <td>English</td>\n",
       "      <td>7.0</td>\n",
       "      <td>956.0</td>\n",
       "    </tr>\n",
       "    <tr>\n",
       "      <th>90</th>\n",
       "      <td>Things Heard &amp; Seen</td>\n",
       "      <td>Horror</td>\n",
       "      <td>4/29/21</td>\n",
       "      <td>121</td>\n",
       "      <td>5.3</td>\n",
       "      <td>English</td>\n",
       "      <td>7.0</td>\n",
       "      <td>54.0</td>\n",
       "    </tr>\n",
       "    <tr>\n",
       "      <th>472</th>\n",
       "      <td>ReMastered: Tricky Dick &amp; the Man in Black</td>\n",
       "      <td>Documentary</td>\n",
       "      <td>11/2/18</td>\n",
       "      <td>58</td>\n",
       "      <td>7.1</td>\n",
       "      <td>English</td>\n",
       "      <td>3.0</td>\n",
       "      <td>963.0</td>\n",
       "    </tr>\n",
       "    <tr>\n",
       "      <th>522</th>\n",
       "      <td>Long Shot</td>\n",
       "      <td>Documentary</td>\n",
       "      <td>9/29/17</td>\n",
       "      <td>40</td>\n",
       "      <td>7.4</td>\n",
       "      <td>English</td>\n",
       "      <td>2.0</td>\n",
       "      <td>1362.0</td>\n",
       "    </tr>\n",
       "  </tbody>\n",
       "</table>\n",
       "</div>"
      ],
      "text/plain": [
       "                                          Title            Genre Premiere  \\\n",
       "383                                 Paper Lives            Drama  3/12/21   \n",
       "422                                 Outlaw King  Historical-epic  11/9/18   \n",
       "90                          Things Heard & Seen           Horror  4/29/21   \n",
       "472  ReMastered: Tricky Dick & the Man in Black      Documentary  11/2/18   \n",
       "522                                   Long Shot      Documentary  9/29/17   \n",
       "\n",
       "     Runtime  IMDB Score Language  runtime_cat  days_since_premiere  \n",
       "383       97         6.7  Turkish          5.0                102.0  \n",
       "422      121         6.9  English          7.0                956.0  \n",
       "90       121         5.3  English          7.0                 54.0  \n",
       "472       58         7.1  English          3.0                963.0  \n",
       "522       40         7.4  English          2.0               1362.0  "
      ]
     },
     "execution_count": 313,
     "metadata": {},
     "output_type": "execute_result"
    }
   ],
   "source": [
    "netflix = test_set.copy()\n",
    "netflix.head()"
   ]
  },
  {
   "cell_type": "code",
   "execution_count": 314,
   "metadata": {},
   "outputs": [
    {
     "data": {
      "text/plain": [
       "<matplotlib.axes._subplots.AxesSubplot at 0x11aa6d5f8>"
      ]
     },
     "execution_count": 314,
     "metadata": {},
     "output_type": "execute_result"
    },
    {
     "data": {
      "image/png": "[encoded data removed]",
      "text/plain": [
       "<matplotlib.figure.Figure at 0x11d21d390>"
      ]
     },
     "metadata": {},
     "output_type": "display_data"
    }
   ],
   "source": [
    "netflix.plot(kind=\"scatter\", x=\"Runtime\", y=\"IMDB Score\")"
   ]
  },
  {
   "cell_type": "code",
   "execution_count": 315,
   "metadata": {},
   "outputs": [
    {
     "data": {
      "text/plain": [
       "<matplotlib.axes._subplots.AxesSubplot at 0x11f3c0438>"
      ]
     },
     "execution_count": 315,
     "metadata": {},
     "output_type": "execute_result"
    },
    {
     "data": {
      "image/png": "[encoded data removed]",
      "text/plain": [
       "<matplotlib.figure.Figure at 0x11f4a5f28>"
      ]
     },
     "metadata": {},
     "output_type": "display_data"
    }
   ],
   "source": [
    "netflix.plot(kind=\"scatter\", x=\"Runtime\", y=\"IMDB Score\", alpha=0.5)"
   ]
  },
  {
   "cell_type": "code",
   "execution_count": 316,
   "metadata": {},
   "outputs": [
    {
     "data": {
      "text/plain": [
       "<matplotlib.legend.Legend at 0x11f30e5c0>"
      ]
     },
     "execution_count": 316,
     "metadata": {},
     "output_type": "execute_result"
    },
    {
     "data": {
      "image/png": "[encoded data removed]",
      "text/plain": [
       "<matplotlib.figure.Figure at 0x11f30e978>"
      ]
     },
     "metadata": {},
     "output_type": "display_data"
    }
   ],
   "source": [
    "netflix.plot(kind=\"scatter\", x=\"Runtime\", y=\"IMDB Score\", alpha=0.5,\n",
    "    s=netflix[\"IMDB Score\"], label=\"IMDB Score\", figsize=(10,7),\n",
    "    c=\"IMDB Score\", cmap=plt.get_cmap(\"jet\"), colorbar=True,\n",
    "    sharex=False)\n",
    "plt.legend()"
   ]
  },
  {
   "cell_type": "code",
   "execution_count": 317,
   "metadata": {
    "collapsed": true
   },
   "outputs": [],
   "source": [
    "corr_matrix = netflix.corr()"
   ]
  },
  {
   "cell_type": "code",
   "execution_count": 318,
   "metadata": {},
   "outputs": [
    {
     "data": {
      "text/plain": [
       "IMDB Score             1.000000\n",
       "days_since_premiere    0.079922\n",
       "runtime_cat           -0.051355\n",
       "Runtime               -0.056810\n",
       "Name: IMDB Score, dtype: float64"
      ]
     },
     "execution_count": 318,
     "metadata": {},
     "output_type": "execute_result"
    }
   ],
   "source": [
    "corr_matrix[\"IMDB Score\"].sort_values(ascending=False)"
   ]
  },
  {
   "cell_type": "code",
   "execution_count": 320,
   "metadata": {},
   "outputs": [
    {
     "data": {
      "text/plain": [
       "array([[<matplotlib.axes._subplots.AxesSubplot object at 0x11fec8d68>,\n",
       "        <matplotlib.axes._subplots.AxesSubplot object at 0x120220208>,\n",
       "        <matplotlib.axes._subplots.AxesSubplot object at 0x120232860>,\n",
       "        <matplotlib.axes._subplots.AxesSubplot object at 0x1202ec358>],\n",
       "       [<matplotlib.axes._subplots.AxesSubplot object at 0x12034ab00>,\n",
       "        <matplotlib.axes._subplots.AxesSubplot object at 0x12034ab38>,\n",
       "        <matplotlib.axes._subplots.AxesSubplot object at 0x12041c518>,\n",
       "        <matplotlib.axes._subplots.AxesSubplot object at 0x1204991d0>],\n",
       "       [<matplotlib.axes._subplots.AxesSubplot object at 0x1204f6b00>,\n",
       "        <matplotlib.axes._subplots.AxesSubplot object at 0x120530ef0>,\n",
       "        <matplotlib.axes._subplots.AxesSubplot object at 0x120583f98>,\n",
       "        <matplotlib.axes._subplots.AxesSubplot object at 0x1205bcf98>],\n",
       "       [<matplotlib.axes._subplots.AxesSubplot object at 0x1206559b0>,\n",
       "        <matplotlib.axes._subplots.AxesSubplot object at 0x120663668>,\n",
       "        <matplotlib.axes._subplots.AxesSubplot object at 0x12071e7b8>,\n",
       "        <matplotlib.axes._subplots.AxesSubplot object at 0x120770f60>]], dtype=object)"
      ]
     },
     "execution_count": 320,
     "metadata": {},
     "output_type": "execute_result"
    },
    {
     "data": {
      "image/png": "[encoded data removed]",
      "text/plain": [
       "<matplotlib.figure.Figure at 0x11f0f5f28>"
      ]
     },
     "metadata": {},
     "output_type": "display_data"
    }
   ],
   "source": [
    "# from pandas.tools.plotting import scatter_matrix # For older versions of Pandas\n",
    "from pandas.plotting import scatter_matrix\n",
    "\n",
    "attributes = [\"IMDB Score\", \"runtime_cat\", \"Runtime\",\"days_since_premiere\"]\n",
    "scatter_matrix(netflix[attributes], figsize=(12, 8))\n",
    "# save_fig(\"scatter_matrix_plot\")"
   ]
  },
  {
   "cell_type": "code",
   "execution_count": 326,
   "metadata": {},
   "outputs": [
    {
     "name": "stdout",
     "output_type": "stream",
     "text": [
      "Saving figure rooms_vs_house_value_scatterplot\n"
     ]
    },
    {
     "data": {
      "image/png": "[encoded data removed]",
      "text/plain": [
       "<matplotlib.figure.Figure at 0x1218d22b0>"
      ]
     },
     "metadata": {},
     "output_type": "display_data"
    }
   ],
   "source": [
    "netflix.plot(kind=\"scatter\", x=\"days_since_premiere\", y=\"Runtime\",\n",
    "             alpha=0.1)\n",
    "plt.axis([0, 3000, 0, 200])\n",
    "save_fig(\"rooms_vs_house_value_scatterplot\")"
   ]
  },
  {
   "cell_type": "markdown",
   "metadata": {},
   "source": [
    "# Prepare the data for Machine Learning Algorithms"
   ]
  },
  {
   "cell_type": "code",
   "execution_count": 327,
   "metadata": {
    "collapsed": true
   },
   "outputs": [],
   "source": [
    "netflix = strat_train_set.drop(\"Runtime\", axis=1) # drop labels for training set\n",
    "netflix_labels = strat_train_set[\"Runtime\"].copy()"
   ]
  },
  {
   "cell_type": "code",
   "execution_count": 328,
   "metadata": {},
   "outputs": [
    {
     "data": {
      "text/html": [
       "<div>\n",
       "<style>\n",
       "    .dataframe thead tr:only-child th {\n",
       "        text-align: right;\n",
       "    }\n",
       "\n",
       "    .dataframe thead th {\n",
       "        text-align: left;\n",
       "    }\n",
       "\n",
       "    .dataframe tbody tr th {\n",
       "        vertical-align: top;\n",
       "    }\n",
       "</style>\n",
       "<table border=\"1\" class=\"dataframe\">\n",
       "  <thead>\n",
       "    <tr style=\"text-align: right;\">\n",
       "      <th></th>\n",
       "      <th>Title</th>\n",
       "      <th>Genre</th>\n",
       "      <th>Premiere</th>\n",
       "      <th>IMDB Score</th>\n",
       "      <th>Language</th>\n",
       "      <th>runtime_cat</th>\n",
       "      <th>days_since_premiere</th>\n",
       "    </tr>\n",
       "  </thead>\n",
       "  <tbody>\n",
       "  </tbody>\n",
       "</table>\n",
       "</div>"
      ],
      "text/plain": [
       "Empty DataFrame\n",
       "Columns: [Title, Genre, Premiere, IMDB Score, Language, runtime_cat, days_since_premiere]\n",
       "Index: []"
      ]
     },
     "execution_count": 328,
     "metadata": {},
     "output_type": "execute_result"
    }
   ],
   "source": [
    "sample_incomplete_rows = netflix[netflix.isnull().any(axis=1)].head()\n",
    "sample_incomplete_rows"
   ]
  },
  {
   "cell_type": "code",
   "execution_count": 329,
   "metadata": {},
   "outputs": [
    {
     "data": {
      "text/html": [
       "<div>\n",
       "<style>\n",
       "    .dataframe thead tr:only-child th {\n",
       "        text-align: right;\n",
       "    }\n",
       "\n",
       "    .dataframe thead th {\n",
       "        text-align: left;\n",
       "    }\n",
       "\n",
       "    .dataframe tbody tr th {\n",
       "        vertical-align: top;\n",
       "    }\n",
       "</style>\n",
       "<table border=\"1\" class=\"dataframe\">\n",
       "  <thead>\n",
       "    <tr style=\"text-align: right;\">\n",
       "      <th></th>\n",
       "      <th>Title</th>\n",
       "      <th>Genre</th>\n",
       "      <th>Premiere</th>\n",
       "      <th>IMDB Score</th>\n",
       "      <th>Language</th>\n",
       "      <th>runtime_cat</th>\n",
       "      <th>days_since_premiere</th>\n",
       "    </tr>\n",
       "  </thead>\n",
       "  <tbody>\n",
       "  </tbody>\n",
       "</table>\n",
       "</div>"
      ],
      "text/plain": [
       "Empty DataFrame\n",
       "Columns: [Title, Genre, Premiere, IMDB Score, Language, runtime_cat, days_since_premiere]\n",
       "Index: []"
      ]
     },
     "execution_count": 329,
     "metadata": {},
     "output_type": "execute_result"
    }
   ],
   "source": [
    "median = netflix[\"IMDB Score\"].median()\n",
    "sample_incomplete_rows[\"IMDB Score\"].fillna(median, inplace=True) # option 3\n",
    "sample_incomplete_rows"
   ]
  },
  {
   "cell_type": "code",
   "execution_count": 330,
   "metadata": {
    "collapsed": true
   },
   "outputs": [],
   "source": [
    "from sklearn.preprocessing import Imputer\n",
    "\n",
    "imputer = Imputer(strategy=\"median\")"
   ]
  },
  {
   "cell_type": "markdown",
   "metadata": {},
   "source": [
    "Remove the text attribute because median can only be calculated on numerical attributes:"
   ]
  },
  {
   "cell_type": "code",
   "execution_count": 331,
   "metadata": {},
   "outputs": [
    {
     "data": {
      "text/html": [
       "<div>\n",
       "<style>\n",
       "    .dataframe thead tr:only-child th {\n",
       "        text-align: right;\n",
       "    }\n",
       "\n",
       "    .dataframe thead th {\n",
       "        text-align: left;\n",
       "    }\n",
       "\n",
       "    .dataframe tbody tr th {\n",
       "        vertical-align: top;\n",
       "    }\n",
       "</style>\n",
       "<table border=\"1\" class=\"dataframe\">\n",
       "  <thead>\n",
       "    <tr style=\"text-align: right;\">\n",
       "      <th></th>\n",
       "      <th>IMDB Score</th>\n",
       "      <th>runtime_cat</th>\n",
       "      <th>days_since_premiere</th>\n",
       "    </tr>\n",
       "  </thead>\n",
       "  <tbody>\n",
       "    <tr>\n",
       "      <th>322</th>\n",
       "      <td>6.5</td>\n",
       "      <td>5.0</td>\n",
       "      <td>298.0</td>\n",
       "    </tr>\n",
       "    <tr>\n",
       "      <th>245</th>\n",
       "      <td>6.2</td>\n",
       "      <td>5.0</td>\n",
       "      <td>27.0</td>\n",
       "    </tr>\n",
       "    <tr>\n",
       "      <th>404</th>\n",
       "      <td>6.8</td>\n",
       "      <td>4.0</td>\n",
       "      <td>1309.0</td>\n",
       "    </tr>\n",
       "    <tr>\n",
       "      <th>91</th>\n",
       "      <td>5.3</td>\n",
       "      <td>5.0</td>\n",
       "      <td>1094.0</td>\n",
       "    </tr>\n",
       "    <tr>\n",
       "      <th>286</th>\n",
       "      <td>6.3</td>\n",
       "      <td>5.0</td>\n",
       "      <td>816.0</td>\n",
       "    </tr>\n",
       "  </tbody>\n",
       "</table>\n",
       "</div>"
      ],
      "text/plain": [
       "     IMDB Score  runtime_cat  days_since_premiere\n",
       "322         6.5          5.0                298.0\n",
       "245         6.2          5.0                 27.0\n",
       "404         6.8          4.0               1309.0\n",
       "91          5.3          5.0               1094.0\n",
       "286         6.3          5.0                816.0"
      ]
     },
     "execution_count": 331,
     "metadata": {},
     "output_type": "execute_result"
    }
   ],
   "source": [
    "# housing_num = housing.drop('ocean_proximity', axis=1)\n",
    "netflix_num = netflix.select_dtypes(include=[np.number])\n",
    "netflix_num.head()"
   ]
  },
  {
   "cell_type": "code",
   "execution_count": 332,
   "metadata": {},
   "outputs": [
    {
     "data": {
      "text/plain": [
       "Imputer(axis=0, copy=True, missing_values='NaN', strategy='median', verbose=0)"
      ]
     },
     "execution_count": 332,
     "metadata": {},
     "output_type": "execute_result"
    }
   ],
   "source": [
    "imputer.fit(netflix_num)"
   ]
  },
  {
   "cell_type": "code",
   "execution_count": 333,
   "metadata": {},
   "outputs": [
    {
     "data": {
      "text/plain": [
       "array([   6.3,    5. ,  608. ])"
      ]
     },
     "execution_count": 333,
     "metadata": {},
     "output_type": "execute_result"
    }
   ],
   "source": [
    "imputer.statistics_"
   ]
  },
  {
   "cell_type": "code",
   "execution_count": 334,
   "metadata": {},
   "outputs": [
    {
     "data": {
      "text/plain": [
       "array([   6.3,    5. ,  608. ])"
      ]
     },
     "execution_count": 334,
     "metadata": {},
     "output_type": "execute_result"
    }
   ],
   "source": [
    "netflix_num.median().values"
   ]
  },
  {
   "cell_type": "code",
   "execution_count": 335,
   "metadata": {
    "collapsed": true
   },
   "outputs": [],
   "source": [
    "X = imputer.transform(netflix_num)"
   ]
  },
  {
   "cell_type": "code",
   "execution_count": 336,
   "metadata": {
    "collapsed": true
   },
   "outputs": [],
   "source": [
    "netflix_tr = pd.DataFrame(X, columns=netflix_num.columns,\n",
    "                          index = list(netflix.index.values))"
   ]
  },
  {
   "cell_type": "code",
   "execution_count": 337,
   "metadata": {
    "scrolled": true
   },
   "outputs": [
    {
     "data": {
      "text/html": [
       "<div>\n",
       "<style>\n",
       "    .dataframe thead tr:only-child th {\n",
       "        text-align: right;\n",
       "    }\n",
       "\n",
       "    .dataframe thead th {\n",
       "        text-align: left;\n",
       "    }\n",
       "\n",
       "    .dataframe tbody tr th {\n",
       "        vertical-align: top;\n",
       "    }\n",
       "</style>\n",
       "<table border=\"1\" class=\"dataframe\">\n",
       "  <thead>\n",
       "    <tr style=\"text-align: right;\">\n",
       "      <th></th>\n",
       "      <th>IMDB Score</th>\n",
       "      <th>runtime_cat</th>\n",
       "      <th>days_since_premiere</th>\n",
       "    </tr>\n",
       "  </thead>\n",
       "  <tbody>\n",
       "  </tbody>\n",
       "</table>\n",
       "</div>"
      ],
      "text/plain": [
       "Empty DataFrame\n",
       "Columns: [IMDB Score, runtime_cat, days_since_premiere]\n",
       "Index: []"
      ]
     },
     "execution_count": 337,
     "metadata": {},
     "output_type": "execute_result"
    }
   ],
   "source": [
    "netflix_tr.loc[sample_incomplete_rows.index.values]"
   ]
  },
  {
   "cell_type": "code",
   "execution_count": 338,
   "metadata": {},
   "outputs": [
    {
     "data": {
      "text/plain": [
       "'median'"
      ]
     },
     "execution_count": 338,
     "metadata": {},
     "output_type": "execute_result"
    }
   ],
   "source": [
    "imputer.strategy"
   ]
  },
  {
   "cell_type": "code",
   "execution_count": 339,
   "metadata": {},
   "outputs": [
    {
     "data": {
      "text/html": [
       "<div>\n",
       "<style>\n",
       "    .dataframe thead tr:only-child th {\n",
       "        text-align: right;\n",
       "    }\n",
       "\n",
       "    .dataframe thead th {\n",
       "        text-align: left;\n",
       "    }\n",
       "\n",
       "    .dataframe tbody tr th {\n",
       "        vertical-align: top;\n",
       "    }\n",
       "</style>\n",
       "<table border=\"1\" class=\"dataframe\">\n",
       "  <thead>\n",
       "    <tr style=\"text-align: right;\">\n",
       "      <th></th>\n",
       "      <th>IMDB Score</th>\n",
       "      <th>runtime_cat</th>\n",
       "      <th>days_since_premiere</th>\n",
       "    </tr>\n",
       "  </thead>\n",
       "  <tbody>\n",
       "    <tr>\n",
       "      <th>0</th>\n",
       "      <td>6.5</td>\n",
       "      <td>5.0</td>\n",
       "      <td>298.0</td>\n",
       "    </tr>\n",
       "    <tr>\n",
       "      <th>1</th>\n",
       "      <td>6.2</td>\n",
       "      <td>5.0</td>\n",
       "      <td>27.0</td>\n",
       "    </tr>\n",
       "    <tr>\n",
       "      <th>2</th>\n",
       "      <td>6.8</td>\n",
       "      <td>4.0</td>\n",
       "      <td>1309.0</td>\n",
       "    </tr>\n",
       "    <tr>\n",
       "      <th>3</th>\n",
       "      <td>5.3</td>\n",
       "      <td>5.0</td>\n",
       "      <td>1094.0</td>\n",
       "    </tr>\n",
       "    <tr>\n",
       "      <th>4</th>\n",
       "      <td>6.3</td>\n",
       "      <td>5.0</td>\n",
       "      <td>816.0</td>\n",
       "    </tr>\n",
       "  </tbody>\n",
       "</table>\n",
       "</div>"
      ],
      "text/plain": [
       "   IMDB Score  runtime_cat  days_since_premiere\n",
       "0         6.5          5.0                298.0\n",
       "1         6.2          5.0                 27.0\n",
       "2         6.8          4.0               1309.0\n",
       "3         5.3          5.0               1094.0\n",
       "4         6.3          5.0                816.0"
      ]
     },
     "execution_count": 339,
     "metadata": {},
     "output_type": "execute_result"
    }
   ],
   "source": [
    "netflix_tr = pd.DataFrame(X, columns=netflix_num.columns)\n",
    "netflix_tr.head()"
   ]
  },
  {
   "cell_type": "markdown",
   "metadata": {},
   "source": [
    "Now let's preprocess the categorical input feature, ocean_proximity:"
   ]
  },
  {
   "cell_type": "code",
   "execution_count": 340,
   "metadata": {},
   "outputs": [
    {
     "data": {
      "text/plain": [
       "322              Drama\n",
       "245             Biopic\n",
       "404        Documentary\n",
       "91     Romantic comedy\n",
       "286        Documentary\n",
       "Name: Genre, dtype: object"
      ]
     },
     "execution_count": 340,
     "metadata": {},
     "output_type": "execute_result"
    }
   ],
   "source": [
    "# housing_cat = housing[['Suburb','Type','Method','SellerG','CouncilArea','Regionname']]\n",
    "netflix_cat = netflix['Genre']\n",
    "netflix_cat.head()"
   ]
  },
  {
   "cell_type": "code",
   "execution_count": 341,
   "metadata": {
    "collapsed": true
   },
   "outputs": [],
   "source": [
    "from future_encoders import OrdinalEncoder"
   ]
  },
  {
   "cell_type": "code",
   "execution_count": 342,
   "metadata": {},
   "outputs": [
    {
     "data": {
      "text/plain": [
       "count             525\n",
       "unique            109\n",
       "top       Documentary\n",
       "freq              141\n",
       "Name: Genre, dtype: object"
      ]
     },
     "execution_count": 342,
     "metadata": {},
     "output_type": "execute_result"
    }
   ],
   "source": [
    "netflix_cat.describe()"
   ]
  },
  {
   "cell_type": "code",
   "execution_count": 344,
   "metadata": {},
   "outputs": [
    {
     "data": {
      "text/plain": [
       "array([[ 0.,  0.,  0.,  0.,  0.,  0.,  0.,  0.,  0.,  0.,  0.,  0.,  0.,\n",
       "         0.,  0.,  0.,  0.,  0.,  0.,  0.,  0.,  0.,  0.,  0.,  0.,  0.,\n",
       "         0.,  0.,  0.,  0.,  0.,  0.,  0.,  0.,  0.,  0.,  0.,  0.,  0.,\n",
       "         0.,  0.,  0.,  0.,  0.,  0.,  0.,  0.,  0.,  0.,  0.,  0.,  0.,\n",
       "         0.,  0.,  0.,  0.,  0.,  0.,  0.,  0.,  0.,  0.,  0.,  0.,  0.,\n",
       "         0.,  0.,  0.,  0.,  0.,  0.,  0.,  0.,  0.,  0.,  0.,  0.,  0.,\n",
       "         0.,  0.,  0.,  0.,  0.,  0.,  0.,  0.,  0.,  0.,  0.,  0.,  0.,\n",
       "         0.,  0.,  0.,  0.,  0.,  0.,  0.,  0.,  0.,  0.,  0.,  0.,  0.,\n",
       "         0.,  0.,  0.,  0.,  0.,  0.,  0.,  0.,  0.,  0.,  0.,  0.,  0.,\n",
       "         0.,  0.,  0.,  0.,  0.,  0.,  0.,  0.,  0.,  0.,  0.,  0.,  0.,\n",
       "         0.,  0.,  0.,  0.,  0.,  0.,  0.,  0.,  0.,  0.,  0.,  0.,  0.,\n",
       "         0.,  0.,  0.,  0.,  0.,  0.,  0.,  0.,  0.,  0.,  0.,  0.,  0.,\n",
       "         0.,  0.,  0.,  0.,  0.,  0.,  0.,  0.,  0.,  0.,  0.,  0.,  0.,\n",
       "         0.,  0.,  0.,  0.,  0.,  0.,  0.,  0.,  0.,  0.,  0.,  0.,  0.,\n",
       "         0.,  0.,  0.,  0.,  0.,  0.,  0.,  0.,  0.,  0.,  0.,  0.,  0.,\n",
       "         0.,  0.,  0.,  0.,  0.,  0.,  0.,  0.,  0.,  0.,  0.,  0.,  0.,\n",
       "         0.,  0.,  0.,  0.,  0.,  0.,  0.,  0.,  0.,  0.,  0.,  0.,  0.,\n",
       "         0.,  0.,  0.,  0.,  0.,  0.,  0.,  0.,  0.,  0.,  0.,  0.,  0.,\n",
       "         0.,  0.,  0.,  0.,  0.,  0.,  0.,  0.,  0.,  0.,  0.,  0.,  0.,\n",
       "         0.,  0.,  0.,  0.,  0.,  0.,  0.,  0.,  0.,  0.,  0.,  0.,  0.,\n",
       "         0.,  0.,  0.,  0.,  0.,  0.,  0.,  0.,  0.,  0.,  0.,  0.,  0.,\n",
       "         0.,  0.,  0.,  0.,  0.,  0.,  0.,  0.,  0.,  0.,  0.,  0.,  0.,\n",
       "         0.,  0.,  0.,  0.,  0.,  0.,  0.,  0.,  0.,  0.,  0.,  0.,  0.,\n",
       "         0.,  0.,  0.,  0.,  0.,  0.,  0.,  0.,  0.,  0.,  0.,  0.,  0.,\n",
       "         0.,  0.,  0.,  0.,  0.,  0.,  0.,  0.,  0.,  0.,  0.,  0.,  0.,\n",
       "         0.,  0.,  0.,  0.,  0.,  0.,  0.,  0.,  0.,  0.,  0.,  0.,  0.,\n",
       "         0.,  0.,  0.,  0.,  0.,  0.,  0.,  0.,  0.,  0.,  0.,  0.,  0.,\n",
       "         0.,  0.,  0.,  0.,  0.,  0.,  0.,  0.,  0.,  0.,  0.,  0.,  0.,\n",
       "         0.,  0.,  0.,  0.,  0.,  0.,  0.,  0.,  0.,  0.,  0.,  0.,  0.,\n",
       "         0.,  0.,  0.,  0.,  0.,  0.,  0.,  0.,  0.,  0.,  0.,  0.,  0.,\n",
       "         0.,  0.,  0.,  0.,  0.,  0.,  0.,  0.,  0.,  0.,  0.,  0.,  0.,\n",
       "         0.,  0.,  0.,  0.,  0.,  0.,  0.,  0.,  0.,  0.,  0.,  0.,  0.,\n",
       "         0.,  0.,  0.,  0.,  0.,  0.,  0.,  0.,  0.,  0.,  0.,  0.,  0.,\n",
       "         0.,  0.,  0.,  0.,  0.,  0.,  0.,  0.,  0.,  0.,  0.,  0.,  0.,\n",
       "         0.,  0.,  0.,  0.,  0.,  0.,  0.,  0.,  0.,  0.,  0.,  0.,  0.,\n",
       "         0.,  0.,  0.,  0.,  0.,  0.,  0.,  0.,  0.,  0.,  0.,  0.,  0.,\n",
       "         0.,  0.,  0.,  0.,  0.,  0.,  0.,  0.,  0.,  0.,  0.,  0.,  0.,\n",
       "         0.,  0.,  0.,  0.,  0.,  0.,  0.,  0.,  0.,  0.,  0.,  0.,  0.,\n",
       "         0.,  0.,  0.,  0.,  0.,  0.,  0.,  0.,  0.,  0.,  0.,  0.,  0.,\n",
       "         0.,  0.,  0.,  0.,  0.,  0.,  0.,  0.,  0.,  0.,  0.,  0.,  0.,\n",
       "         0.,  0.,  0.,  0.,  0.]])"
      ]
     },
     "execution_count": 344,
     "metadata": {},
     "output_type": "execute_result"
    }
   ],
   "source": [
    "ordinal_encoder = OrdinalEncoder()\n",
    "netflix_cat_encoded = ordinal_encoder.fit_transform(netflix_cat.values.reshape(1,-1))\n",
    "netflix_cat_encoded[:10]"
   ]
  },
  {
   "cell_type": "code",
   "execution_count": 345,
   "metadata": {},
   "outputs": [
    {
     "data": {
      "text/plain": [
       "[array(['Drama'], dtype=object),\n",
       " array(['Biopic'], dtype=object),\n",
       " array(['Documentary'], dtype=object),\n",
       " array(['Romantic comedy'], dtype=object),\n",
       " array(['Documentary'], dtype=object),\n",
       " array(['Comedy'], dtype=object),\n",
       " array(['Romantic comedy'], dtype=object),\n",
       " array(['Comedy'], dtype=object),\n",
       " array(['Horror'], dtype=object),\n",
       " array(['Documentary'], dtype=object),\n",
       " array(['Documentary'], dtype=object),\n",
       " array(['Documentary'], dtype=object),\n",
       " array(['Documentary'], dtype=object),\n",
       " array(['Documentary'], dtype=object),\n",
       " array(['Documentary'], dtype=object),\n",
       " array(['Action comedy'], dtype=object),\n",
       " array(['Anime/Fantasy'], dtype=object),\n",
       " array(['Documentary'], dtype=object),\n",
       " array(['Satire'], dtype=object),\n",
       " array(['Thriller'], dtype=object),\n",
       " array(['Romantic drama'], dtype=object),\n",
       " array(['Romantic comedy'], dtype=object),\n",
       " array(['Heist'], dtype=object),\n",
       " array(['Romantic comedy'], dtype=object),\n",
       " array(['Action'], dtype=object),\n",
       " array(['Animation/Musical/Adventure'], dtype=object),\n",
       " array(['Action comedy'], dtype=object),\n",
       " array(['Comedy'], dtype=object),\n",
       " array(['Spy thriller'], dtype=object),\n",
       " array(['Drama'], dtype=object),\n",
       " array(['Documentary'], dtype=object),\n",
       " array(['Documentary'], dtype=object),\n",
       " array(['Romance drama'], dtype=object),\n",
       " array(['Thriller'], dtype=object),\n",
       " array(['Aftershow / Interview'], dtype=object),\n",
       " array(['Comedy'], dtype=object),\n",
       " array(['Thriller'], dtype=object),\n",
       " array(['Romantic comedy'], dtype=object),\n",
       " array(['Romantic comedy'], dtype=object),\n",
       " array(['Action/Comedy'], dtype=object),\n",
       " array(['Documentary'], dtype=object),\n",
       " array(['Dark comedy'], dtype=object),\n",
       " array(['Western'], dtype=object),\n",
       " array(['Documentary'], dtype=object),\n",
       " array(['Crime drama'], dtype=object),\n",
       " array(['Musical'], dtype=object),\n",
       " array(['Documentary'], dtype=object),\n",
       " array(['Comedy'], dtype=object),\n",
       " array(['Drama'], dtype=object),\n",
       " array(['Drama'], dtype=object),\n",
       " array(['Documentary'], dtype=object),\n",
       " array(['Comedy mystery'], dtype=object),\n",
       " array(['Science fiction/Thriller'], dtype=object),\n",
       " array(['Comedy'], dtype=object),\n",
       " array(['Documentary'], dtype=object),\n",
       " array(['Action'], dtype=object),\n",
       " array(['Action'], dtype=object),\n",
       " array(['Romantic comedy'], dtype=object),\n",
       " array(['Comedy'], dtype=object),\n",
       " array(['Comedy / Musical'], dtype=object),\n",
       " array(['Comedy'], dtype=object),\n",
       " array(['Documentary'], dtype=object),\n",
       " array(['Thriller'], dtype=object),\n",
       " array(['Drama'], dtype=object),\n",
       " array(['Documentary'], dtype=object),\n",
       " array(['Sports-drama'], dtype=object),\n",
       " array(['Drama'], dtype=object),\n",
       " array(['Documentary'], dtype=object),\n",
       " array(['Teen comedy-drama'], dtype=object),\n",
       " array(['Drama'], dtype=object),\n",
       " array(['Biopic'], dtype=object),\n",
       " array(['Horror'], dtype=object),\n",
       " array(['Comedy/Horror'], dtype=object),\n",
       " array(['Comedy'], dtype=object),\n",
       " array(['Documentary'], dtype=object),\n",
       " array(['Romantic drama'], dtype=object),\n",
       " array(['Documentary'], dtype=object),\n",
       " array(['Western'], dtype=object),\n",
       " array(['Drama'], dtype=object),\n",
       " array(['Horror/Crime drama'], dtype=object),\n",
       " array(['Romantic comedy'], dtype=object),\n",
       " array(['Psychological thriller'], dtype=object),\n",
       " array(['Documentary'], dtype=object),\n",
       " array(['Thriller'], dtype=object),\n",
       " array(['Teen comedy horror'], dtype=object),\n",
       " array(['Comedy'], dtype=object),\n",
       " array(['Documentary'], dtype=object),\n",
       " array(['Historical drama'], dtype=object),\n",
       " array(['Black comedy'], dtype=object),\n",
       " array(['Drama'], dtype=object),\n",
       " array(['Romantic comedy'], dtype=object),\n",
       " array(['Documentary'], dtype=object),\n",
       " array(['Family film'], dtype=object),\n",
       " array(['Documentary'], dtype=object),\n",
       " array(['Documentary'], dtype=object),\n",
       " array(['Drama'], dtype=object),\n",
       " array(['Science fiction/Drama'], dtype=object),\n",
       " array(['Documentary'], dtype=object),\n",
       " array(['Thriller'], dtype=object),\n",
       " array(['Documentary'], dtype=object),\n",
       " array(['Drama'], dtype=object),\n",
       " array(['War drama'], dtype=object),\n",
       " array(['Superhero/Action'], dtype=object),\n",
       " array(['Drama'], dtype=object),\n",
       " array(['Horror-thriller'], dtype=object),\n",
       " array(['Drama'], dtype=object),\n",
       " array(['Thriller'], dtype=object),\n",
       " array(['War'], dtype=object),\n",
       " array(['Documentary'], dtype=object),\n",
       " array(['Drama'], dtype=object),\n",
       " array(['Documentary'], dtype=object),\n",
       " array(['Biopic'], dtype=object),\n",
       " array(['Documentary'], dtype=object),\n",
       " array(['Drama'], dtype=object),\n",
       " array(['Concert Film'], dtype=object),\n",
       " array(['War'], dtype=object),\n",
       " array(['Dance comedy'], dtype=object),\n",
       " array(['Drama'], dtype=object),\n",
       " array(['Variety show'], dtype=object),\n",
       " array(['Drama'], dtype=object),\n",
       " array(['Documentary'], dtype=object),\n",
       " array(['Zombie/Heist'], dtype=object),\n",
       " array(['Drama'], dtype=object),\n",
       " array(['Documentary'], dtype=object),\n",
       " array(['Comedy'], dtype=object),\n",
       " array(['Animation / Short'], dtype=object),\n",
       " array(['Comedy'], dtype=object),\n",
       " array(['Documentary'], dtype=object),\n",
       " array(['Christmas comedy'], dtype=object),\n",
       " array(['Comedy-drama'], dtype=object),\n",
       " array(['Horror'], dtype=object),\n",
       " array(['Romantic comedy'], dtype=object),\n",
       " array(['Documentary'], dtype=object),\n",
       " array(['Western'], dtype=object),\n",
       " array(['Documentary'], dtype=object),\n",
       " array(['Drama'], dtype=object),\n",
       " array(['Drama'], dtype=object),\n",
       " array(['Psychological thriller drama'], dtype=object),\n",
       " array(['Mystery'], dtype=object),\n",
       " array(['Documentary'], dtype=object),\n",
       " array(['Mockumentary'], dtype=object),\n",
       " array(['Action/Science fiction'], dtype=object),\n",
       " array(['Comedy'], dtype=object),\n",
       " array(['Documentary'], dtype=object),\n",
       " array(['Horror'], dtype=object),\n",
       " array(['Comedy-drama'], dtype=object),\n",
       " array(['Documentary'], dtype=object),\n",
       " array(['Drama'], dtype=object),\n",
       " array(['Historical-epic'], dtype=object),\n",
       " array(['Documentary'], dtype=object),\n",
       " array(['Crime drama'], dtype=object),\n",
       " array(['Romantic comedy'], dtype=object),\n",
       " array(['Political thriller'], dtype=object),\n",
       " array(['Documentary'], dtype=object),\n",
       " array(['Documentary'], dtype=object),\n",
       " array(['Drama'], dtype=object),\n",
       " array(['Documentary'], dtype=object),\n",
       " array(['Documentary'], dtype=object),\n",
       " array(['Comedy'], dtype=object),\n",
       " array(['Drama'], dtype=object),\n",
       " array(['Documentary'], dtype=object),\n",
       " array(['Adventure-romance'], dtype=object),\n",
       " array(['Drama'], dtype=object),\n",
       " array(['Drama'], dtype=object),\n",
       " array(['Variety Show'], dtype=object),\n",
       " array(['Documentary'], dtype=object),\n",
       " array(['Family'], dtype=object),\n",
       " array(['Musical / Short'], dtype=object),\n",
       " array(['Romantic comedy'], dtype=object),\n",
       " array(['War drama'], dtype=object),\n",
       " array(['Mockumentary'], dtype=object),\n",
       " array(['Documentary'], dtype=object),\n",
       " array(['Documentary'], dtype=object),\n",
       " array(['Drama'], dtype=object),\n",
       " array(['Documentary'], dtype=object),\n",
       " array(['Documentary'], dtype=object),\n",
       " array(['Stop Motion'], dtype=object),\n",
       " array(['Horror thriller'], dtype=object),\n",
       " array(['Thriller'], dtype=object),\n",
       " array(['Comedy-drama'], dtype=object),\n",
       " array(['Comedy'], dtype=object),\n",
       " array(['Aftershow / Interview'], dtype=object),\n",
       " array(['Comedy'], dtype=object),\n",
       " array(['Comedy-drama'], dtype=object),\n",
       " array(['Action-adventure'], dtype=object),\n",
       " array(['Documentary'], dtype=object),\n",
       " array(['Comedy'], dtype=object),\n",
       " array(['Action comedy'], dtype=object),\n",
       " array(['Anime/Science fiction'], dtype=object),\n",
       " array(['Concert Film'], dtype=object),\n",
       " array(['Documentary'], dtype=object),\n",
       " array(['Comedy'], dtype=object),\n",
       " array(['Drama'], dtype=object),\n",
       " array(['Comedy'], dtype=object),\n",
       " array(['Comedy'], dtype=object),\n",
       " array(['Romantic comedy'], dtype=object),\n",
       " array(['Animation / Short'], dtype=object),\n",
       " array(['Comedy-drama'], dtype=object),\n",
       " array(['Documentary'], dtype=object),\n",
       " array(['Romance'], dtype=object),\n",
       " array(['Comedy-drama'], dtype=object),\n",
       " array(['Animation'], dtype=object),\n",
       " array(['Documentary'], dtype=object),\n",
       " array(['Documentary'], dtype=object),\n",
       " array(['Romantic drama'], dtype=object),\n",
       " array(['Crime drama'], dtype=object),\n",
       " array(['Drama'], dtype=object),\n",
       " array(['Action'], dtype=object),\n",
       " array(['Documentary'], dtype=object),\n",
       " array(['Documentary'], dtype=object),\n",
       " array(['Documentary'], dtype=object),\n",
       " array(['Documentary'], dtype=object),\n",
       " array(['Documentary'], dtype=object),\n",
       " array(['Comedy'], dtype=object),\n",
       " array(['Christmas/Fantasy/Adventure/Comedy'], dtype=object),\n",
       " array(['Thriller'], dtype=object),\n",
       " array(['Anime / Short'], dtype=object),\n",
       " array(['Documentary'], dtype=object),\n",
       " array(['Documentary'], dtype=object),\n",
       " array(['Action thriller'], dtype=object),\n",
       " array(['Hidden-camera prank comedy'], dtype=object),\n",
       " array(['Christian musical'], dtype=object),\n",
       " array(['Comedy'], dtype=object),\n",
       " array(['Romantic comedy'], dtype=object),\n",
       " array(['Romance'], dtype=object),\n",
       " array(['Horror comedy'], dtype=object),\n",
       " array(['Superhero-Comedy'], dtype=object),\n",
       " array(['Thriller'], dtype=object),\n",
       " array(['Romantic comedy'], dtype=object),\n",
       " array(['Comedy'], dtype=object),\n",
       " array(['Romantic comedy'], dtype=object),\n",
       " array(['Documentary'], dtype=object),\n",
       " array(['Biopic'], dtype=object),\n",
       " array(['Psychological horror'], dtype=object),\n",
       " array(['Drama'], dtype=object),\n",
       " array(['One-man show'], dtype=object),\n",
       " array(['Crime drama'], dtype=object),\n",
       " array(['Family/Christmas musical'], dtype=object),\n",
       " array(['Romantic comedy'], dtype=object),\n",
       " array(['Documentary'], dtype=object),\n",
       " array(['Mystery'], dtype=object),\n",
       " array(['Documentary'], dtype=object),\n",
       " array(['Romantic comedy'], dtype=object),\n",
       " array(['Fantasy'], dtype=object),\n",
       " array(['Drama'], dtype=object),\n",
       " array(['Comedy'], dtype=object),\n",
       " array(['Crime drama'], dtype=object),\n",
       " array(['Documentary'], dtype=object),\n",
       " array(['Documentary'], dtype=object),\n",
       " array(['Documentary'], dtype=object),\n",
       " array(['Comedy'], dtype=object),\n",
       " array(['Biopic'], dtype=object),\n",
       " array(['Documentary'], dtype=object),\n",
       " array(['Thriller'], dtype=object),\n",
       " array(['Psychological thriller'], dtype=object),\n",
       " array(['Documentary'], dtype=object),\n",
       " array(['Documentary'], dtype=object),\n",
       " array(['Drama'], dtype=object),\n",
       " array(['Action comedy'], dtype=object),\n",
       " array(['Action-thriller'], dtype=object),\n",
       " array(['Urban fantasy'], dtype=object),\n",
       " array(['Romantic comedy'], dtype=object),\n",
       " array(['Science fiction thriller'], dtype=object),\n",
       " array(['Thriller'], dtype=object),\n",
       " array(['Romantic drama'], dtype=object),\n",
       " array(['Documentary'], dtype=object),\n",
       " array(['Biopic'], dtype=object),\n",
       " array(['Comedy'], dtype=object),\n",
       " array(['Crime drama'], dtype=object),\n",
       " array(['Romantic comedy'], dtype=object),\n",
       " array(['Sports film'], dtype=object),\n",
       " array(['One-man show'], dtype=object),\n",
       " array(['Romantic comedy'], dtype=object),\n",
       " array(['Anime/Science fiction'], dtype=object),\n",
       " array(['Romantic comedy'], dtype=object),\n",
       " array(['Drama'], dtype=object),\n",
       " array(['Documentary'], dtype=object),\n",
       " array(['Documentary'], dtype=object),\n",
       " array(['Spy thriller'], dtype=object),\n",
       " array(['Horror'], dtype=object),\n",
       " array(['Thriller'], dtype=object),\n",
       " array(['Documentary'], dtype=object),\n",
       " array(['Musical comedy'], dtype=object),\n",
       " array(['Drama'], dtype=object),\n",
       " array(['Documentary'], dtype=object),\n",
       " array(['Animation'], dtype=object),\n",
       " array(['Thriller'], dtype=object),\n",
       " array(['Drama'], dtype=object),\n",
       " array(['Crime drama'], dtype=object),\n",
       " array(['Drama'], dtype=object),\n",
       " array(['Documentary'], dtype=object),\n",
       " array(['Horror thriller'], dtype=object),\n",
       " array(['Animation / Science Fiction'], dtype=object),\n",
       " array(['Comedy horror'], dtype=object),\n",
       " array(['Comedy'], dtype=object),\n",
       " array(['Comedy'], dtype=object),\n",
       " array(['Documentary'], dtype=object),\n",
       " array(['Science fiction/Action'], dtype=object),\n",
       " array(['Documentary'], dtype=object),\n",
       " array(['Documentary'], dtype=object),\n",
       " array(['Romantic comedy'], dtype=object),\n",
       " array(['Documentary'], dtype=object),\n",
       " array(['Documentary'], dtype=object),\n",
       " array(['Romantic comedy'], dtype=object),\n",
       " array(['Documentary'], dtype=object),\n",
       " array(['Drama'], dtype=object),\n",
       " array(['Documentary'], dtype=object),\n",
       " array(['Musical comedy'], dtype=object),\n",
       " array(['Science fiction/Thriller'], dtype=object),\n",
       " array(['Romantic teen drama'], dtype=object),\n",
       " array(['Comedy-drama'], dtype=object),\n",
       " array(['Documentary'], dtype=object),\n",
       " array(['Romance'], dtype=object),\n",
       " array(['Documentary'], dtype=object),\n",
       " array(['Musical/Western/Fantasy'], dtype=object),\n",
       " array(['Romantic comedy'], dtype=object),\n",
       " array(['Drama'], dtype=object),\n",
       " array(['Biopic'], dtype=object),\n",
       " array(['Adventure'], dtype=object),\n",
       " array(['Drama-Comedy'], dtype=object),\n",
       " array(['Family film'], dtype=object),\n",
       " array(['Documentary'], dtype=object),\n",
       " array(['Superhero'], dtype=object),\n",
       " array(['Comedy'], dtype=object),\n",
       " array(['Drama'], dtype=object),\n",
       " array(['Documentary'], dtype=object),\n",
       " array(['Documentary'], dtype=object),\n",
       " array(['Comedy'], dtype=object),\n",
       " array(['Documentary'], dtype=object),\n",
       " array(['Thriller'], dtype=object),\n",
       " array(['Romantic comedy'], dtype=object),\n",
       " array(['Comedy'], dtype=object),\n",
       " array(['Comedy'], dtype=object),\n",
       " array(['Documentary'], dtype=object),\n",
       " array(['Documentary'], dtype=object),\n",
       " array(['Documentary'], dtype=object),\n",
       " array(['Dark comedy'], dtype=object),\n",
       " array(['Musical'], dtype=object),\n",
       " array(['Documentary'], dtype=object),\n",
       " array(['Romantic comedy'], dtype=object),\n",
       " array(['Animation / Musicial'], dtype=object),\n",
       " array(['Romantic comedy-drama'], dtype=object),\n",
       " array(['Science fiction/Drama'], dtype=object),\n",
       " array(['Making-of'], dtype=object),\n",
       " array(['Romantic comedy'], dtype=object),\n",
       " array(['Documentary'], dtype=object),\n",
       " array(['Romantic thriller'], dtype=object),\n",
       " array(['Drama'], dtype=object),\n",
       " array(['Animation'], dtype=object),\n",
       " array(['Documentary'], dtype=object),\n",
       " array(['Concert Film'], dtype=object),\n",
       " array(['Romantic comedy'], dtype=object),\n",
       " array(['Romantic teenage drama'], dtype=object),\n",
       " array(['Romance'], dtype=object),\n",
       " array(['Documentary'], dtype=object),\n",
       " array(['Documentary'], dtype=object),\n",
       " array(['Comedy'], dtype=object),\n",
       " array(['Documentary'], dtype=object),\n",
       " array(['Drama'], dtype=object),\n",
       " array(['Romantic comedy'], dtype=object),\n",
       " array(['Drama'], dtype=object),\n",
       " array(['Drama'], dtype=object),\n",
       " array(['Horror-thriller'], dtype=object),\n",
       " array(['Family'], dtype=object),\n",
       " array(['Documentary'], dtype=object),\n",
       " array(['Drama'], dtype=object),\n",
       " array(['Drama'], dtype=object),\n",
       " array(['Documentary'], dtype=object),\n",
       " array(['Documentary'], dtype=object),\n",
       " array(['Animated musical comedy'], dtype=object),\n",
       " array(['Drama'], dtype=object),\n",
       " array(['Comedy-drama'], dtype=object),\n",
       " array(['Animation / Comedy'], dtype=object),\n",
       " array(['Drama'], dtype=object),\n",
       " array(['Drama'], dtype=object),\n",
       " array(['Comedy-drama'], dtype=object),\n",
       " array(['Drama'], dtype=object),\n",
       " array(['Drama'], dtype=object),\n",
       " array(['Drama'], dtype=object),\n",
       " array(['Comedy-drama'], dtype=object),\n",
       " array(['Drama'], dtype=object),\n",
       " array(['Horror'], dtype=object),\n",
       " array(['Drama / Short'], dtype=object),\n",
       " array(['Romantic comedy'], dtype=object),\n",
       " array(['Animation'], dtype=object),\n",
       " array(['Documentary'], dtype=object),\n",
       " array(['Family/Comedy-drama'], dtype=object),\n",
       " array(['Variety show'], dtype=object),\n",
       " array(['Drama'], dtype=object),\n",
       " array(['Documentary'], dtype=object),\n",
       " array(['Comedy / Musical'], dtype=object),\n",
       " array(['Science fiction/Thriller'], dtype=object),\n",
       " array(['Drama'], dtype=object),\n",
       " array(['Documentary'], dtype=object),\n",
       " array(['Adventure/Comedy'], dtype=object),\n",
       " array(['War-Comedy'], dtype=object),\n",
       " array(['Thriller'], dtype=object),\n",
       " array(['Romantic comedy'], dtype=object),\n",
       " array(['Documentary'], dtype=object),\n",
       " array(['Thriller'], dtype=object),\n",
       " array(['Documentary'], dtype=object),\n",
       " array(['Aftershow / Interview'], dtype=object),\n",
       " array(['Biopic'], dtype=object),\n",
       " array(['Thriller'], dtype=object),\n",
       " array(['Documentary'], dtype=object),\n",
       " array(['Documentary'], dtype=object),\n",
       " array(['Documentary'], dtype=object),\n",
       " array(['Adventure'], dtype=object),\n",
       " array(['Crime drama'], dtype=object),\n",
       " array(['Romantic comedy'], dtype=object),\n",
       " array(['Aftershow / Interview'], dtype=object),\n",
       " array(['Comedy'], dtype=object),\n",
       " array(['Comedy-drama'], dtype=object),\n",
       " array(['Drama'], dtype=object),\n",
       " array(['Drama'], dtype=object),\n",
       " array(['Documentary'], dtype=object),\n",
       " array(['Satire'], dtype=object),\n",
       " array(['Thriller'], dtype=object),\n",
       " array(['Making-of'], dtype=object),\n",
       " array(['Documentary'], dtype=object),\n",
       " array(['Documentary'], dtype=object),\n",
       " array(['Comedy-drama'], dtype=object),\n",
       " array(['Mentalism special'], dtype=object),\n",
       " array(['Comedy'], dtype=object),\n",
       " array(['Drama'], dtype=object),\n",
       " array(['Science fiction'], dtype=object),\n",
       " array(['Drama'], dtype=object),\n",
       " array(['Animation / Short'], dtype=object),\n",
       " array(['Horror'], dtype=object),\n",
       " array(['Science fiction'], dtype=object),\n",
       " array(['Documentary'], dtype=object),\n",
       " array(['Thriller'], dtype=object),\n",
       " array(['Documentary'], dtype=object),\n",
       " array(['Animation/Superhero'], dtype=object),\n",
       " array(['One-man show'], dtype=object),\n",
       " array(['Comedy'], dtype=object),\n",
       " array(['Drama'], dtype=object),\n",
       " array(['Drama'], dtype=object),\n",
       " array(['Comedy'], dtype=object),\n",
       " array(['Thriller'], dtype=object),\n",
       " array(['Thriller'], dtype=object),\n",
       " array(['Comedy'], dtype=object),\n",
       " array(['Documentary'], dtype=object),\n",
       " array(['Thriller'], dtype=object),\n",
       " array(['Heist film/Thriller'], dtype=object),\n",
       " array(['Comedy'], dtype=object),\n",
       " array(['Comedy-drama'], dtype=object),\n",
       " array(['Psychological thriller'], dtype=object),\n",
       " array(['Animation'], dtype=object),\n",
       " array(['Action'], dtype=object),\n",
       " array(['Documentary'], dtype=object),\n",
       " array(['Documentary'], dtype=object),\n",
       " array(['Crime drama'], dtype=object),\n",
       " array(['Documentary'], dtype=object),\n",
       " array(['Thriller'], dtype=object),\n",
       " array(['Documentary'], dtype=object),\n",
       " array(['Thriller'], dtype=object),\n",
       " array(['Black comedy'], dtype=object),\n",
       " array(['Documentary'], dtype=object),\n",
       " array(['Romantic comedy/Holiday'], dtype=object),\n",
       " array(['Documentary'], dtype=object),\n",
       " array(['Thriller'], dtype=object),\n",
       " array(['Aftershow / Interview'], dtype=object),\n",
       " array(['Thriller'], dtype=object),\n",
       " array(['Action'], dtype=object),\n",
       " array(['Romance'], dtype=object),\n",
       " array(['Documentary'], dtype=object),\n",
       " array(['Superhero'], dtype=object),\n",
       " array(['Comedy'], dtype=object),\n",
       " array(['Documentary'], dtype=object),\n",
       " array(['Drama'], dtype=object),\n",
       " array(['Drama'], dtype=object),\n",
       " array(['Animation/Comedy/Adventure'], dtype=object),\n",
       " array(['Drama'], dtype=object),\n",
       " array(['Documentary'], dtype=object),\n",
       " array(['Biographical/Comedy'], dtype=object),\n",
       " array(['Comedy'], dtype=object),\n",
       " array(['Documentary'], dtype=object),\n",
       " array(['Documentary'], dtype=object),\n",
       " array(['Thriller'], dtype=object),\n",
       " array(['Documentary'], dtype=object),\n",
       " array(['Documentary'], dtype=object),\n",
       " array(['Drama'], dtype=object),\n",
       " array(['Documentary'], dtype=object),\n",
       " array(['Comedy'], dtype=object),\n",
       " array(['Action-thriller'], dtype=object),\n",
       " array(['Drama'], dtype=object),\n",
       " array(['Documentary'], dtype=object),\n",
       " array(['Concert Film'], dtype=object),\n",
       " array(['Action'], dtype=object),\n",
       " array(['Action comedy'], dtype=object),\n",
       " array(['Concert Film'], dtype=object),\n",
       " array(['Drama'], dtype=object),\n",
       " array(['Documentary'], dtype=object),\n",
       " array(['Comedy'], dtype=object),\n",
       " array(['Comedy/Fantasy/Family'], dtype=object),\n",
       " array(['Thriller'], dtype=object),\n",
       " array(['Drama'], dtype=object),\n",
       " array(['Drama/Horror'], dtype=object),\n",
       " array(['Crime drama'], dtype=object),\n",
       " array(['Romantic comedy'], dtype=object),\n",
       " array(['Documentary'], dtype=object),\n",
       " array(['Romantic comedy'], dtype=object),\n",
       " array(['Documentary'], dtype=object),\n",
       " array(['Aftershow / Interview'], dtype=object),\n",
       " array(['Documentary'], dtype=object),\n",
       " array(['Thriller'], dtype=object),\n",
       " array(['Horror thriller'], dtype=object),\n",
       " array(['Documentary'], dtype=object),\n",
       " array(['Comedy'], dtype=object),\n",
       " array(['Drama'], dtype=object),\n",
       " array(['Crime thriller'], dtype=object),\n",
       " array(['Science fiction/Drama'], dtype=object),\n",
       " array(['Romantic comedy'], dtype=object),\n",
       " array(['Documentary'], dtype=object),\n",
       " array(['Documentary'], dtype=object),\n",
       " array(['Horror anthology'], dtype=object),\n",
       " array(['Documentary'], dtype=object),\n",
       " array(['Animation / Short'], dtype=object),\n",
       " array(['Documentary'], dtype=object),\n",
       " array(['Documentary'], dtype=object),\n",
       " array(['Animation/Christmas/Comedy/Adventure'], dtype=object),\n",
       " array(['Drama'], dtype=object),\n",
       " array(['Drama'], dtype=object),\n",
       " array(['Drama'], dtype=object)]"
      ]
     },
     "execution_count": 345,
     "metadata": {},
     "output_type": "execute_result"
    }
   ],
   "source": [
    "ordinal_encoder.categories_"
   ]
  },
  {
   "cell_type": "code",
   "execution_count": 346,
   "metadata": {},
   "outputs": [
    {
     "name": "stderr",
     "output_type": "stream",
     "text": [
      "/Users/blakenicholson/anaconda/lib/python3.6/site-packages/sklearn/utils/validation.py:395: DeprecationWarning: Passing 1d arrays as data is deprecated in 0.17 and will raise ValueError in 0.19. Reshape your data either using X.reshape(-1, 1) if your data has a single feature or X.reshape(1, -1) if it contains a single sample.\n",
      "  DeprecationWarning)\n",
      "/Users/blakenicholson/anaconda/lib/python3.6/site-packages/sklearn/utils/validation.py:395: DeprecationWarning: Passing 1d arrays as data is deprecated in 0.17 and will raise ValueError in 0.19. Reshape your data either using X.reshape(-1, 1) if your data has a single feature or X.reshape(1, -1) if it contains a single sample.\n",
      "  DeprecationWarning)\n"
     ]
    },
    {
     "data": {
      "text/plain": [
       "<1x525 sparse matrix of type '<class 'numpy.float64'>'\n",
       "\twith 525 stored elements in Compressed Sparse Row format>"
      ]
     },
     "execution_count": 346,
     "metadata": {},
     "output_type": "execute_result"
    }
   ],
   "source": [
    "from future_encoders import OneHotEncoder\n",
    "\n",
    "cat_encoder = OneHotEncoder()\n",
    "netflix_cat_1hot = cat_encoder.fit_transform(netflix_cat)\n",
    "netflix_cat_1hot"
   ]
  },
  {
   "cell_type": "markdown",
   "metadata": {},
   "source": [
    "By default, the OneHotEncoder class returns a sparse array, but we can convert it to a dense array if needed by calling the toarray() method:"
   ]
  },
  {
   "cell_type": "code",
   "execution_count": 347,
   "metadata": {},
   "outputs": [
    {
     "data": {
      "text/plain": [
       "array([[ 1.,  1.,  1.,  1.,  1.,  1.,  1.,  1.,  1.,  1.,  1.,  1.,  1.,\n",
       "         1.,  1.,  1.,  1.,  1.,  1.,  1.,  1.,  1.,  1.,  1.,  1.,  1.,\n",
       "         1.,  1.,  1.,  1.,  1.,  1.,  1.,  1.,  1.,  1.,  1.,  1.,  1.,\n",
       "         1.,  1.,  1.,  1.,  1.,  1.,  1.,  1.,  1.,  1.,  1.,  1.,  1.,\n",
       "         1.,  1.,  1.,  1.,  1.,  1.,  1.,  1.,  1.,  1.,  1.,  1.,  1.,\n",
       "         1.,  1.,  1.,  1.,  1.,  1.,  1.,  1.,  1.,  1.,  1.,  1.,  1.,\n",
       "         1.,  1.,  1.,  1.,  1.,  1.,  1.,  1.,  1.,  1.,  1.,  1.,  1.,\n",
       "         1.,  1.,  1.,  1.,  1.,  1.,  1.,  1.,  1.,  1.,  1.,  1.,  1.,\n",
       "         1.,  1.,  1.,  1.,  1.,  1.,  1.,  1.,  1.,  1.,  1.,  1.,  1.,\n",
       "         1.,  1.,  1.,  1.,  1.,  1.,  1.,  1.,  1.,  1.,  1.,  1.,  1.,\n",
       "         1.,  1.,  1.,  1.,  1.,  1.,  1.,  1.,  1.,  1.,  1.,  1.,  1.,\n",
       "         1.,  1.,  1.,  1.,  1.,  1.,  1.,  1.,  1.,  1.,  1.,  1.,  1.,\n",
       "         1.,  1.,  1.,  1.,  1.,  1.,  1.,  1.,  1.,  1.,  1.,  1.,  1.,\n",
       "         1.,  1.,  1.,  1.,  1.,  1.,  1.,  1.,  1.,  1.,  1.,  1.,  1.,\n",
       "         1.,  1.,  1.,  1.,  1.,  1.,  1.,  1.,  1.,  1.,  1.,  1.,  1.,\n",
       "         1.,  1.,  1.,  1.,  1.,  1.,  1.,  1.,  1.,  1.,  1.,  1.,  1.,\n",
       "         1.,  1.,  1.,  1.,  1.,  1.,  1.,  1.,  1.,  1.,  1.,  1.,  1.,\n",
       "         1.,  1.,  1.,  1.,  1.,  1.,  1.,  1.,  1.,  1.,  1.,  1.,  1.,\n",
       "         1.,  1.,  1.,  1.,  1.,  1.,  1.,  1.,  1.,  1.,  1.,  1.,  1.,\n",
       "         1.,  1.,  1.,  1.,  1.,  1.,  1.,  1.,  1.,  1.,  1.,  1.,  1.,\n",
       "         1.,  1.,  1.,  1.,  1.,  1.,  1.,  1.,  1.,  1.,  1.,  1.,  1.,\n",
       "         1.,  1.,  1.,  1.,  1.,  1.,  1.,  1.,  1.,  1.,  1.,  1.,  1.,\n",
       "         1.,  1.,  1.,  1.,  1.,  1.,  1.,  1.,  1.,  1.,  1.,  1.,  1.,\n",
       "         1.,  1.,  1.,  1.,  1.,  1.,  1.,  1.,  1.,  1.,  1.,  1.,  1.,\n",
       "         1.,  1.,  1.,  1.,  1.,  1.,  1.,  1.,  1.,  1.,  1.,  1.,  1.,\n",
       "         1.,  1.,  1.,  1.,  1.,  1.,  1.,  1.,  1.,  1.,  1.,  1.,  1.,\n",
       "         1.,  1.,  1.,  1.,  1.,  1.,  1.,  1.,  1.,  1.,  1.,  1.,  1.,\n",
       "         1.,  1.,  1.,  1.,  1.,  1.,  1.,  1.,  1.,  1.,  1.,  1.,  1.,\n",
       "         1.,  1.,  1.,  1.,  1.,  1.,  1.,  1.,  1.,  1.,  1.,  1.,  1.,\n",
       "         1.,  1.,  1.,  1.,  1.,  1.,  1.,  1.,  1.,  1.,  1.,  1.,  1.,\n",
       "         1.,  1.,  1.,  1.,  1.,  1.,  1.,  1.,  1.,  1.,  1.,  1.,  1.,\n",
       "         1.,  1.,  1.,  1.,  1.,  1.,  1.,  1.,  1.,  1.,  1.,  1.,  1.,\n",
       "         1.,  1.,  1.,  1.,  1.,  1.,  1.,  1.,  1.,  1.,  1.,  1.,  1.,\n",
       "         1.,  1.,  1.,  1.,  1.,  1.,  1.,  1.,  1.,  1.,  1.,  1.,  1.,\n",
       "         1.,  1.,  1.,  1.,  1.,  1.,  1.,  1.,  1.,  1.,  1.,  1.,  1.,\n",
       "         1.,  1.,  1.,  1.,  1.,  1.,  1.,  1.,  1.,  1.,  1.,  1.,  1.,\n",
       "         1.,  1.,  1.,  1.,  1.,  1.,  1.,  1.,  1.,  1.,  1.,  1.,  1.,\n",
       "         1.,  1.,  1.,  1.,  1.,  1.,  1.,  1.,  1.,  1.,  1.,  1.,  1.,\n",
       "         1.,  1.,  1.,  1.,  1.,  1.,  1.,  1.,  1.,  1.,  1.,  1.,  1.,\n",
       "         1.,  1.,  1.,  1.,  1.,  1.,  1.,  1.,  1.,  1.,  1.,  1.,  1.,\n",
       "         1.,  1.,  1.,  1.,  1.]])"
      ]
     },
     "execution_count": 347,
     "metadata": {},
     "output_type": "execute_result"
    }
   ],
   "source": [
    "netflix_cat_1hot.toarray()"
   ]
  },
  {
   "cell_type": "markdown",
   "metadata": {},
   "source": [
    "Alternatively, you can set `sparse=False` when creating the `OneHotEncoder`:"
   ]
  },
  {
   "cell_type": "code",
   "execution_count": 348,
   "metadata": {},
   "outputs": [
    {
     "name": "stderr",
     "output_type": "stream",
     "text": [
      "/Users/blakenicholson/anaconda/lib/python3.6/site-packages/sklearn/utils/validation.py:395: DeprecationWarning: Passing 1d arrays as data is deprecated in 0.17 and will raise ValueError in 0.19. Reshape your data either using X.reshape(-1, 1) if your data has a single feature or X.reshape(1, -1) if it contains a single sample.\n",
      "  DeprecationWarning)\n",
      "/Users/blakenicholson/anaconda/lib/python3.6/site-packages/sklearn/utils/validation.py:395: DeprecationWarning: Passing 1d arrays as data is deprecated in 0.17 and will raise ValueError in 0.19. Reshape your data either using X.reshape(-1, 1) if your data has a single feature or X.reshape(1, -1) if it contains a single sample.\n",
      "  DeprecationWarning)\n"
     ]
    },
    {
     "data": {
      "text/plain": [
       "array([[ 1.,  1.,  1.,  1.,  1.,  1.,  1.,  1.,  1.,  1.,  1.,  1.,  1.,\n",
       "         1.,  1.,  1.,  1.,  1.,  1.,  1.,  1.,  1.,  1.,  1.,  1.,  1.,\n",
       "         1.,  1.,  1.,  1.,  1.,  1.,  1.,  1.,  1.,  1.,  1.,  1.,  1.,\n",
       "         1.,  1.,  1.,  1.,  1.,  1.,  1.,  1.,  1.,  1.,  1.,  1.,  1.,\n",
       "         1.,  1.,  1.,  1.,  1.,  1.,  1.,  1.,  1.,  1.,  1.,  1.,  1.,\n",
       "         1.,  1.,  1.,  1.,  1.,  1.,  1.,  1.,  1.,  1.,  1.,  1.,  1.,\n",
       "         1.,  1.,  1.,  1.,  1.,  1.,  1.,  1.,  1.,  1.,  1.,  1.,  1.,\n",
       "         1.,  1.,  1.,  1.,  1.,  1.,  1.,  1.,  1.,  1.,  1.,  1.,  1.,\n",
       "         1.,  1.,  1.,  1.,  1.,  1.,  1.,  1.,  1.,  1.,  1.,  1.,  1.,\n",
       "         1.,  1.,  1.,  1.,  1.,  1.,  1.,  1.,  1.,  1.,  1.,  1.,  1.,\n",
       "         1.,  1.,  1.,  1.,  1.,  1.,  1.,  1.,  1.,  1.,  1.,  1.,  1.,\n",
       "         1.,  1.,  1.,  1.,  1.,  1.,  1.,  1.,  1.,  1.,  1.,  1.,  1.,\n",
       "         1.,  1.,  1.,  1.,  1.,  1.,  1.,  1.,  1.,  1.,  1.,  1.,  1.,\n",
       "         1.,  1.,  1.,  1.,  1.,  1.,  1.,  1.,  1.,  1.,  1.,  1.,  1.,\n",
       "         1.,  1.,  1.,  1.,  1.,  1.,  1.,  1.,  1.,  1.,  1.,  1.,  1.,\n",
       "         1.,  1.,  1.,  1.,  1.,  1.,  1.,  1.,  1.,  1.,  1.,  1.,  1.,\n",
       "         1.,  1.,  1.,  1.,  1.,  1.,  1.,  1.,  1.,  1.,  1.,  1.,  1.,\n",
       "         1.,  1.,  1.,  1.,  1.,  1.,  1.,  1.,  1.,  1.,  1.,  1.,  1.,\n",
       "         1.,  1.,  1.,  1.,  1.,  1.,  1.,  1.,  1.,  1.,  1.,  1.,  1.,\n",
       "         1.,  1.,  1.,  1.,  1.,  1.,  1.,  1.,  1.,  1.,  1.,  1.,  1.,\n",
       "         1.,  1.,  1.,  1.,  1.,  1.,  1.,  1.,  1.,  1.,  1.,  1.,  1.,\n",
       "         1.,  1.,  1.,  1.,  1.,  1.,  1.,  1.,  1.,  1.,  1.,  1.,  1.,\n",
       "         1.,  1.,  1.,  1.,  1.,  1.,  1.,  1.,  1.,  1.,  1.,  1.,  1.,\n",
       "         1.,  1.,  1.,  1.,  1.,  1.,  1.,  1.,  1.,  1.,  1.,  1.,  1.,\n",
       "         1.,  1.,  1.,  1.,  1.,  1.,  1.,  1.,  1.,  1.,  1.,  1.,  1.,\n",
       "         1.,  1.,  1.,  1.,  1.,  1.,  1.,  1.,  1.,  1.,  1.,  1.,  1.,\n",
       "         1.,  1.,  1.,  1.,  1.,  1.,  1.,  1.,  1.,  1.,  1.,  1.,  1.,\n",
       "         1.,  1.,  1.,  1.,  1.,  1.,  1.,  1.,  1.,  1.,  1.,  1.,  1.,\n",
       "         1.,  1.,  1.,  1.,  1.,  1.,  1.,  1.,  1.,  1.,  1.,  1.,  1.,\n",
       "         1.,  1.,  1.,  1.,  1.,  1.,  1.,  1.,  1.,  1.,  1.,  1.,  1.,\n",
       "         1.,  1.,  1.,  1.,  1.,  1.,  1.,  1.,  1.,  1.,  1.,  1.,  1.,\n",
       "         1.,  1.,  1.,  1.,  1.,  1.,  1.,  1.,  1.,  1.,  1.,  1.,  1.,\n",
       "         1.,  1.,  1.,  1.,  1.,  1.,  1.,  1.,  1.,  1.,  1.,  1.,  1.,\n",
       "         1.,  1.,  1.,  1.,  1.,  1.,  1.,  1.,  1.,  1.,  1.,  1.,  1.,\n",
       "         1.,  1.,  1.,  1.,  1.,  1.,  1.,  1.,  1.,  1.,  1.,  1.,  1.,\n",
       "         1.,  1.,  1.,  1.,  1.,  1.,  1.,  1.,  1.,  1.,  1.,  1.,  1.,\n",
       "         1.,  1.,  1.,  1.,  1.,  1.,  1.,  1.,  1.,  1.,  1.,  1.,  1.,\n",
       "         1.,  1.,  1.,  1.,  1.,  1.,  1.,  1.,  1.,  1.,  1.,  1.,  1.,\n",
       "         1.,  1.,  1.,  1.,  1.,  1.,  1.,  1.,  1.,  1.,  1.,  1.,  1.,\n",
       "         1.,  1.,  1.,  1.,  1.,  1.,  1.,  1.,  1.,  1.,  1.,  1.,  1.,\n",
       "         1.,  1.,  1.,  1.,  1.]])"
      ]
     },
     "execution_count": 348,
     "metadata": {},
     "output_type": "execute_result"
    }
   ],
   "source": [
    "cat_encoder = OneHotEncoder(sparse=False)\n",
    "netflix_cat_1hot = cat_encoder.fit_transform(netflix_cat)\n",
    "netflix_cat_1hot"
   ]
  },
  {
   "cell_type": "code",
   "execution_count": 349,
   "metadata": {},
   "outputs": [
    {
     "data": {
      "text/plain": [
       "[array(['Drama'], dtype=object),\n",
       " array(['Biopic'], dtype=object),\n",
       " array(['Documentary'], dtype=object),\n",
       " array(['Romantic comedy'], dtype=object),\n",
       " array(['Documentary'], dtype=object),\n",
       " array(['Comedy'], dtype=object),\n",
       " array(['Romantic comedy'], dtype=object),\n",
       " array(['Comedy'], dtype=object),\n",
       " array(['Horror'], dtype=object),\n",
       " array(['Documentary'], dtype=object),\n",
       " array(['Documentary'], dtype=object),\n",
       " array(['Documentary'], dtype=object),\n",
       " array(['Documentary'], dtype=object),\n",
       " array(['Documentary'], dtype=object),\n",
       " array(['Documentary'], dtype=object),\n",
       " array(['Action comedy'], dtype=object),\n",
       " array(['Anime/Fantasy'], dtype=object),\n",
       " array(['Documentary'], dtype=object),\n",
       " array(['Satire'], dtype=object),\n",
       " array(['Thriller'], dtype=object),\n",
       " array(['Romantic drama'], dtype=object),\n",
       " array(['Romantic comedy'], dtype=object),\n",
       " array(['Heist'], dtype=object),\n",
       " array(['Romantic comedy'], dtype=object),\n",
       " array(['Action'], dtype=object),\n",
       " array(['Animation/Musical/Adventure'], dtype=object),\n",
       " array(['Action comedy'], dtype=object),\n",
       " array(['Comedy'], dtype=object),\n",
       " array(['Spy thriller'], dtype=object),\n",
       " array(['Drama'], dtype=object),\n",
       " array(['Documentary'], dtype=object),\n",
       " array(['Documentary'], dtype=object),\n",
       " array(['Romance drama'], dtype=object),\n",
       " array(['Thriller'], dtype=object),\n",
       " array(['Aftershow / Interview'], dtype=object),\n",
       " array(['Comedy'], dtype=object),\n",
       " array(['Thriller'], dtype=object),\n",
       " array(['Romantic comedy'], dtype=object),\n",
       " array(['Romantic comedy'], dtype=object),\n",
       " array(['Action/Comedy'], dtype=object),\n",
       " array(['Documentary'], dtype=object),\n",
       " array(['Dark comedy'], dtype=object),\n",
       " array(['Western'], dtype=object),\n",
       " array(['Documentary'], dtype=object),\n",
       " array(['Crime drama'], dtype=object),\n",
       " array(['Musical'], dtype=object),\n",
       " array(['Documentary'], dtype=object),\n",
       " array(['Comedy'], dtype=object),\n",
       " array(['Drama'], dtype=object),\n",
       " array(['Drama'], dtype=object),\n",
       " array(['Documentary'], dtype=object),\n",
       " array(['Comedy mystery'], dtype=object),\n",
       " array(['Science fiction/Thriller'], dtype=object),\n",
       " array(['Comedy'], dtype=object),\n",
       " array(['Documentary'], dtype=object),\n",
       " array(['Action'], dtype=object),\n",
       " array(['Action'], dtype=object),\n",
       " array(['Romantic comedy'], dtype=object),\n",
       " array(['Comedy'], dtype=object),\n",
       " array(['Comedy / Musical'], dtype=object),\n",
       " array(['Comedy'], dtype=object),\n",
       " array(['Documentary'], dtype=object),\n",
       " array(['Thriller'], dtype=object),\n",
       " array(['Drama'], dtype=object),\n",
       " array(['Documentary'], dtype=object),\n",
       " array(['Sports-drama'], dtype=object),\n",
       " array(['Drama'], dtype=object),\n",
       " array(['Documentary'], dtype=object),\n",
       " array(['Teen comedy-drama'], dtype=object),\n",
       " array(['Drama'], dtype=object),\n",
       " array(['Biopic'], dtype=object),\n",
       " array(['Horror'], dtype=object),\n",
       " array(['Comedy/Horror'], dtype=object),\n",
       " array(['Comedy'], dtype=object),\n",
       " array(['Documentary'], dtype=object),\n",
       " array(['Romantic drama'], dtype=object),\n",
       " array(['Documentary'], dtype=object),\n",
       " array(['Western'], dtype=object),\n",
       " array(['Drama'], dtype=object),\n",
       " array(['Horror/Crime drama'], dtype=object),\n",
       " array(['Romantic comedy'], dtype=object),\n",
       " array(['Psychological thriller'], dtype=object),\n",
       " array(['Documentary'], dtype=object),\n",
       " array(['Thriller'], dtype=object),\n",
       " array(['Teen comedy horror'], dtype=object),\n",
       " array(['Comedy'], dtype=object),\n",
       " array(['Documentary'], dtype=object),\n",
       " array(['Historical drama'], dtype=object),\n",
       " array(['Black comedy'], dtype=object),\n",
       " array(['Drama'], dtype=object),\n",
       " array(['Romantic comedy'], dtype=object),\n",
       " array(['Documentary'], dtype=object),\n",
       " array(['Family film'], dtype=object),\n",
       " array(['Documentary'], dtype=object),\n",
       " array(['Documentary'], dtype=object),\n",
       " array(['Drama'], dtype=object),\n",
       " array(['Science fiction/Drama'], dtype=object),\n",
       " array(['Documentary'], dtype=object),\n",
       " array(['Thriller'], dtype=object),\n",
       " array(['Documentary'], dtype=object),\n",
       " array(['Drama'], dtype=object),\n",
       " array(['War drama'], dtype=object),\n",
       " array(['Superhero/Action'], dtype=object),\n",
       " array(['Drama'], dtype=object),\n",
       " array(['Horror-thriller'], dtype=object),\n",
       " array(['Drama'], dtype=object),\n",
       " array(['Thriller'], dtype=object),\n",
       " array(['War'], dtype=object),\n",
       " array(['Documentary'], dtype=object),\n",
       " array(['Drama'], dtype=object),\n",
       " array(['Documentary'], dtype=object),\n",
       " array(['Biopic'], dtype=object),\n",
       " array(['Documentary'], dtype=object),\n",
       " array(['Drama'], dtype=object),\n",
       " array(['Concert Film'], dtype=object),\n",
       " array(['War'], dtype=object),\n",
       " array(['Dance comedy'], dtype=object),\n",
       " array(['Drama'], dtype=object),\n",
       " array(['Variety show'], dtype=object),\n",
       " array(['Drama'], dtype=object),\n",
       " array(['Documentary'], dtype=object),\n",
       " array(['Zombie/Heist'], dtype=object),\n",
       " array(['Drama'], dtype=object),\n",
       " array(['Documentary'], dtype=object),\n",
       " array(['Comedy'], dtype=object),\n",
       " array(['Animation / Short'], dtype=object),\n",
       " array(['Comedy'], dtype=object),\n",
       " array(['Documentary'], dtype=object),\n",
       " array(['Christmas comedy'], dtype=object),\n",
       " array(['Comedy-drama'], dtype=object),\n",
       " array(['Horror'], dtype=object),\n",
       " array(['Romantic comedy'], dtype=object),\n",
       " array(['Documentary'], dtype=object),\n",
       " array(['Western'], dtype=object),\n",
       " array(['Documentary'], dtype=object),\n",
       " array(['Drama'], dtype=object),\n",
       " array(['Drama'], dtype=object),\n",
       " array(['Psychological thriller drama'], dtype=object),\n",
       " array(['Mystery'], dtype=object),\n",
       " array(['Documentary'], dtype=object),\n",
       " array(['Mockumentary'], dtype=object),\n",
       " array(['Action/Science fiction'], dtype=object),\n",
       " array(['Comedy'], dtype=object),\n",
       " array(['Documentary'], dtype=object),\n",
       " array(['Horror'], dtype=object),\n",
       " array(['Comedy-drama'], dtype=object),\n",
       " array(['Documentary'], dtype=object),\n",
       " array(['Drama'], dtype=object),\n",
       " array(['Historical-epic'], dtype=object),\n",
       " array(['Documentary'], dtype=object),\n",
       " array(['Crime drama'], dtype=object),\n",
       " array(['Romantic comedy'], dtype=object),\n",
       " array(['Political thriller'], dtype=object),\n",
       " array(['Documentary'], dtype=object),\n",
       " array(['Documentary'], dtype=object),\n",
       " array(['Drama'], dtype=object),\n",
       " array(['Documentary'], dtype=object),\n",
       " array(['Documentary'], dtype=object),\n",
       " array(['Comedy'], dtype=object),\n",
       " array(['Drama'], dtype=object),\n",
       " array(['Documentary'], dtype=object),\n",
       " array(['Adventure-romance'], dtype=object),\n",
       " array(['Drama'], dtype=object),\n",
       " array(['Drama'], dtype=object),\n",
       " array(['Variety Show'], dtype=object),\n",
       " array(['Documentary'], dtype=object),\n",
       " array(['Family'], dtype=object),\n",
       " array(['Musical / Short'], dtype=object),\n",
       " array(['Romantic comedy'], dtype=object),\n",
       " array(['War drama'], dtype=object),\n",
       " array(['Mockumentary'], dtype=object),\n",
       " array(['Documentary'], dtype=object),\n",
       " array(['Documentary'], dtype=object),\n",
       " array(['Drama'], dtype=object),\n",
       " array(['Documentary'], dtype=object),\n",
       " array(['Documentary'], dtype=object),\n",
       " array(['Stop Motion'], dtype=object),\n",
       " array(['Horror thriller'], dtype=object),\n",
       " array(['Thriller'], dtype=object),\n",
       " array(['Comedy-drama'], dtype=object),\n",
       " array(['Comedy'], dtype=object),\n",
       " array(['Aftershow / Interview'], dtype=object),\n",
       " array(['Comedy'], dtype=object),\n",
       " array(['Comedy-drama'], dtype=object),\n",
       " array(['Action-adventure'], dtype=object),\n",
       " array(['Documentary'], dtype=object),\n",
       " array(['Comedy'], dtype=object),\n",
       " array(['Action comedy'], dtype=object),\n",
       " array(['Anime/Science fiction'], dtype=object),\n",
       " array(['Concert Film'], dtype=object),\n",
       " array(['Documentary'], dtype=object),\n",
       " array(['Comedy'], dtype=object),\n",
       " array(['Drama'], dtype=object),\n",
       " array(['Comedy'], dtype=object),\n",
       " array(['Comedy'], dtype=object),\n",
       " array(['Romantic comedy'], dtype=object),\n",
       " array(['Animation / Short'], dtype=object),\n",
       " array(['Comedy-drama'], dtype=object),\n",
       " array(['Documentary'], dtype=object),\n",
       " array(['Romance'], dtype=object),\n",
       " array(['Comedy-drama'], dtype=object),\n",
       " array(['Animation'], dtype=object),\n",
       " array(['Documentary'], dtype=object),\n",
       " array(['Documentary'], dtype=object),\n",
       " array(['Romantic drama'], dtype=object),\n",
       " array(['Crime drama'], dtype=object),\n",
       " array(['Drama'], dtype=object),\n",
       " array(['Action'], dtype=object),\n",
       " array(['Documentary'], dtype=object),\n",
       " array(['Documentary'], dtype=object),\n",
       " array(['Documentary'], dtype=object),\n",
       " array(['Documentary'], dtype=object),\n",
       " array(['Documentary'], dtype=object),\n",
       " array(['Comedy'], dtype=object),\n",
       " array(['Christmas/Fantasy/Adventure/Comedy'], dtype=object),\n",
       " array(['Thriller'], dtype=object),\n",
       " array(['Anime / Short'], dtype=object),\n",
       " array(['Documentary'], dtype=object),\n",
       " array(['Documentary'], dtype=object),\n",
       " array(['Action thriller'], dtype=object),\n",
       " array(['Hidden-camera prank comedy'], dtype=object),\n",
       " array(['Christian musical'], dtype=object),\n",
       " array(['Comedy'], dtype=object),\n",
       " array(['Romantic comedy'], dtype=object),\n",
       " array(['Romance'], dtype=object),\n",
       " array(['Horror comedy'], dtype=object),\n",
       " array(['Superhero-Comedy'], dtype=object),\n",
       " array(['Thriller'], dtype=object),\n",
       " array(['Romantic comedy'], dtype=object),\n",
       " array(['Comedy'], dtype=object),\n",
       " array(['Romantic comedy'], dtype=object),\n",
       " array(['Documentary'], dtype=object),\n",
       " array(['Biopic'], dtype=object),\n",
       " array(['Psychological horror'], dtype=object),\n",
       " array(['Drama'], dtype=object),\n",
       " array(['One-man show'], dtype=object),\n",
       " array(['Crime drama'], dtype=object),\n",
       " array(['Family/Christmas musical'], dtype=object),\n",
       " array(['Romantic comedy'], dtype=object),\n",
       " array(['Documentary'], dtype=object),\n",
       " array(['Mystery'], dtype=object),\n",
       " array(['Documentary'], dtype=object),\n",
       " array(['Romantic comedy'], dtype=object),\n",
       " array(['Fantasy'], dtype=object),\n",
       " array(['Drama'], dtype=object),\n",
       " array(['Comedy'], dtype=object),\n",
       " array(['Crime drama'], dtype=object),\n",
       " array(['Documentary'], dtype=object),\n",
       " array(['Documentary'], dtype=object),\n",
       " array(['Documentary'], dtype=object),\n",
       " array(['Comedy'], dtype=object),\n",
       " array(['Biopic'], dtype=object),\n",
       " array(['Documentary'], dtype=object),\n",
       " array(['Thriller'], dtype=object),\n",
       " array(['Psychological thriller'], dtype=object),\n",
       " array(['Documentary'], dtype=object),\n",
       " array(['Documentary'], dtype=object),\n",
       " array(['Drama'], dtype=object),\n",
       " array(['Action comedy'], dtype=object),\n",
       " array(['Action-thriller'], dtype=object),\n",
       " array(['Urban fantasy'], dtype=object),\n",
       " array(['Romantic comedy'], dtype=object),\n",
       " array(['Science fiction thriller'], dtype=object),\n",
       " array(['Thriller'], dtype=object),\n",
       " array(['Romantic drama'], dtype=object),\n",
       " array(['Documentary'], dtype=object),\n",
       " array(['Biopic'], dtype=object),\n",
       " array(['Comedy'], dtype=object),\n",
       " array(['Crime drama'], dtype=object),\n",
       " array(['Romantic comedy'], dtype=object),\n",
       " array(['Sports film'], dtype=object),\n",
       " array(['One-man show'], dtype=object),\n",
       " array(['Romantic comedy'], dtype=object),\n",
       " array(['Anime/Science fiction'], dtype=object),\n",
       " array(['Romantic comedy'], dtype=object),\n",
       " array(['Drama'], dtype=object),\n",
       " array(['Documentary'], dtype=object),\n",
       " array(['Documentary'], dtype=object),\n",
       " array(['Spy thriller'], dtype=object),\n",
       " array(['Horror'], dtype=object),\n",
       " array(['Thriller'], dtype=object),\n",
       " array(['Documentary'], dtype=object),\n",
       " array(['Musical comedy'], dtype=object),\n",
       " array(['Drama'], dtype=object),\n",
       " array(['Documentary'], dtype=object),\n",
       " array(['Animation'], dtype=object),\n",
       " array(['Thriller'], dtype=object),\n",
       " array(['Drama'], dtype=object),\n",
       " array(['Crime drama'], dtype=object),\n",
       " array(['Drama'], dtype=object),\n",
       " array(['Documentary'], dtype=object),\n",
       " array(['Horror thriller'], dtype=object),\n",
       " array(['Animation / Science Fiction'], dtype=object),\n",
       " array(['Comedy horror'], dtype=object),\n",
       " array(['Comedy'], dtype=object),\n",
       " array(['Comedy'], dtype=object),\n",
       " array(['Documentary'], dtype=object),\n",
       " array(['Science fiction/Action'], dtype=object),\n",
       " array(['Documentary'], dtype=object),\n",
       " array(['Documentary'], dtype=object),\n",
       " array(['Romantic comedy'], dtype=object),\n",
       " array(['Documentary'], dtype=object),\n",
       " array(['Documentary'], dtype=object),\n",
       " array(['Romantic comedy'], dtype=object),\n",
       " array(['Documentary'], dtype=object),\n",
       " array(['Drama'], dtype=object),\n",
       " array(['Documentary'], dtype=object),\n",
       " array(['Musical comedy'], dtype=object),\n",
       " array(['Science fiction/Thriller'], dtype=object),\n",
       " array(['Romantic teen drama'], dtype=object),\n",
       " array(['Comedy-drama'], dtype=object),\n",
       " array(['Documentary'], dtype=object),\n",
       " array(['Romance'], dtype=object),\n",
       " array(['Documentary'], dtype=object),\n",
       " array(['Musical/Western/Fantasy'], dtype=object),\n",
       " array(['Romantic comedy'], dtype=object),\n",
       " array(['Drama'], dtype=object),\n",
       " array(['Biopic'], dtype=object),\n",
       " array(['Adventure'], dtype=object),\n",
       " array(['Drama-Comedy'], dtype=object),\n",
       " array(['Family film'], dtype=object),\n",
       " array(['Documentary'], dtype=object),\n",
       " array(['Superhero'], dtype=object),\n",
       " array(['Comedy'], dtype=object),\n",
       " array(['Drama'], dtype=object),\n",
       " array(['Documentary'], dtype=object),\n",
       " array(['Documentary'], dtype=object),\n",
       " array(['Comedy'], dtype=object),\n",
       " array(['Documentary'], dtype=object),\n",
       " array(['Thriller'], dtype=object),\n",
       " array(['Romantic comedy'], dtype=object),\n",
       " array(['Comedy'], dtype=object),\n",
       " array(['Comedy'], dtype=object),\n",
       " array(['Documentary'], dtype=object),\n",
       " array(['Documentary'], dtype=object),\n",
       " array(['Documentary'], dtype=object),\n",
       " array(['Dark comedy'], dtype=object),\n",
       " array(['Musical'], dtype=object),\n",
       " array(['Documentary'], dtype=object),\n",
       " array(['Romantic comedy'], dtype=object),\n",
       " array(['Animation / Musicial'], dtype=object),\n",
       " array(['Romantic comedy-drama'], dtype=object),\n",
       " array(['Science fiction/Drama'], dtype=object),\n",
       " array(['Making-of'], dtype=object),\n",
       " array(['Romantic comedy'], dtype=object),\n",
       " array(['Documentary'], dtype=object),\n",
       " array(['Romantic thriller'], dtype=object),\n",
       " array(['Drama'], dtype=object),\n",
       " array(['Animation'], dtype=object),\n",
       " array(['Documentary'], dtype=object),\n",
       " array(['Concert Film'], dtype=object),\n",
       " array(['Romantic comedy'], dtype=object),\n",
       " array(['Romantic teenage drama'], dtype=object),\n",
       " array(['Romance'], dtype=object),\n",
       " array(['Documentary'], dtype=object),\n",
       " array(['Documentary'], dtype=object),\n",
       " array(['Comedy'], dtype=object),\n",
       " array(['Documentary'], dtype=object),\n",
       " array(['Drama'], dtype=object),\n",
       " array(['Romantic comedy'], dtype=object),\n",
       " array(['Drama'], dtype=object),\n",
       " array(['Drama'], dtype=object),\n",
       " array(['Horror-thriller'], dtype=object),\n",
       " array(['Family'], dtype=object),\n",
       " array(['Documentary'], dtype=object),\n",
       " array(['Drama'], dtype=object),\n",
       " array(['Drama'], dtype=object),\n",
       " array(['Documentary'], dtype=object),\n",
       " array(['Documentary'], dtype=object),\n",
       " array(['Animated musical comedy'], dtype=object),\n",
       " array(['Drama'], dtype=object),\n",
       " array(['Comedy-drama'], dtype=object),\n",
       " array(['Animation / Comedy'], dtype=object),\n",
       " array(['Drama'], dtype=object),\n",
       " array(['Drama'], dtype=object),\n",
       " array(['Comedy-drama'], dtype=object),\n",
       " array(['Drama'], dtype=object),\n",
       " array(['Drama'], dtype=object),\n",
       " array(['Drama'], dtype=object),\n",
       " array(['Comedy-drama'], dtype=object),\n",
       " array(['Drama'], dtype=object),\n",
       " array(['Horror'], dtype=object),\n",
       " array(['Drama / Short'], dtype=object),\n",
       " array(['Romantic comedy'], dtype=object),\n",
       " array(['Animation'], dtype=object),\n",
       " array(['Documentary'], dtype=object),\n",
       " array(['Family/Comedy-drama'], dtype=object),\n",
       " array(['Variety show'], dtype=object),\n",
       " array(['Drama'], dtype=object),\n",
       " array(['Documentary'], dtype=object),\n",
       " array(['Comedy / Musical'], dtype=object),\n",
       " array(['Science fiction/Thriller'], dtype=object),\n",
       " array(['Drama'], dtype=object),\n",
       " array(['Documentary'], dtype=object),\n",
       " array(['Adventure/Comedy'], dtype=object),\n",
       " array(['War-Comedy'], dtype=object),\n",
       " array(['Thriller'], dtype=object),\n",
       " array(['Romantic comedy'], dtype=object),\n",
       " array(['Documentary'], dtype=object),\n",
       " array(['Thriller'], dtype=object),\n",
       " array(['Documentary'], dtype=object),\n",
       " array(['Aftershow / Interview'], dtype=object),\n",
       " array(['Biopic'], dtype=object),\n",
       " array(['Thriller'], dtype=object),\n",
       " array(['Documentary'], dtype=object),\n",
       " array(['Documentary'], dtype=object),\n",
       " array(['Documentary'], dtype=object),\n",
       " array(['Adventure'], dtype=object),\n",
       " array(['Crime drama'], dtype=object),\n",
       " array(['Romantic comedy'], dtype=object),\n",
       " array(['Aftershow / Interview'], dtype=object),\n",
       " array(['Comedy'], dtype=object),\n",
       " array(['Comedy-drama'], dtype=object),\n",
       " array(['Drama'], dtype=object),\n",
       " array(['Drama'], dtype=object),\n",
       " array(['Documentary'], dtype=object),\n",
       " array(['Satire'], dtype=object),\n",
       " array(['Thriller'], dtype=object),\n",
       " array(['Making-of'], dtype=object),\n",
       " array(['Documentary'], dtype=object),\n",
       " array(['Documentary'], dtype=object),\n",
       " array(['Comedy-drama'], dtype=object),\n",
       " array(['Mentalism special'], dtype=object),\n",
       " array(['Comedy'], dtype=object),\n",
       " array(['Drama'], dtype=object),\n",
       " array(['Science fiction'], dtype=object),\n",
       " array(['Drama'], dtype=object),\n",
       " array(['Animation / Short'], dtype=object),\n",
       " array(['Horror'], dtype=object),\n",
       " array(['Science fiction'], dtype=object),\n",
       " array(['Documentary'], dtype=object),\n",
       " array(['Thriller'], dtype=object),\n",
       " array(['Documentary'], dtype=object),\n",
       " array(['Animation/Superhero'], dtype=object),\n",
       " array(['One-man show'], dtype=object),\n",
       " array(['Comedy'], dtype=object),\n",
       " array(['Drama'], dtype=object),\n",
       " array(['Drama'], dtype=object),\n",
       " array(['Comedy'], dtype=object),\n",
       " array(['Thriller'], dtype=object),\n",
       " array(['Thriller'], dtype=object),\n",
       " array(['Comedy'], dtype=object),\n",
       " array(['Documentary'], dtype=object),\n",
       " array(['Thriller'], dtype=object),\n",
       " array(['Heist film/Thriller'], dtype=object),\n",
       " array(['Comedy'], dtype=object),\n",
       " array(['Comedy-drama'], dtype=object),\n",
       " array(['Psychological thriller'], dtype=object),\n",
       " array(['Animation'], dtype=object),\n",
       " array(['Action'], dtype=object),\n",
       " array(['Documentary'], dtype=object),\n",
       " array(['Documentary'], dtype=object),\n",
       " array(['Crime drama'], dtype=object),\n",
       " array(['Documentary'], dtype=object),\n",
       " array(['Thriller'], dtype=object),\n",
       " array(['Documentary'], dtype=object),\n",
       " array(['Thriller'], dtype=object),\n",
       " array(['Black comedy'], dtype=object),\n",
       " array(['Documentary'], dtype=object),\n",
       " array(['Romantic comedy/Holiday'], dtype=object),\n",
       " array(['Documentary'], dtype=object),\n",
       " array(['Thriller'], dtype=object),\n",
       " array(['Aftershow / Interview'], dtype=object),\n",
       " array(['Thriller'], dtype=object),\n",
       " array(['Action'], dtype=object),\n",
       " array(['Romance'], dtype=object),\n",
       " array(['Documentary'], dtype=object),\n",
       " array(['Superhero'], dtype=object),\n",
       " array(['Comedy'], dtype=object),\n",
       " array(['Documentary'], dtype=object),\n",
       " array(['Drama'], dtype=object),\n",
       " array(['Drama'], dtype=object),\n",
       " array(['Animation/Comedy/Adventure'], dtype=object),\n",
       " array(['Drama'], dtype=object),\n",
       " array(['Documentary'], dtype=object),\n",
       " array(['Biographical/Comedy'], dtype=object),\n",
       " array(['Comedy'], dtype=object),\n",
       " array(['Documentary'], dtype=object),\n",
       " array(['Documentary'], dtype=object),\n",
       " array(['Thriller'], dtype=object),\n",
       " array(['Documentary'], dtype=object),\n",
       " array(['Documentary'], dtype=object),\n",
       " array(['Drama'], dtype=object),\n",
       " array(['Documentary'], dtype=object),\n",
       " array(['Comedy'], dtype=object),\n",
       " array(['Action-thriller'], dtype=object),\n",
       " array(['Drama'], dtype=object),\n",
       " array(['Documentary'], dtype=object),\n",
       " array(['Concert Film'], dtype=object),\n",
       " array(['Action'], dtype=object),\n",
       " array(['Action comedy'], dtype=object),\n",
       " array(['Concert Film'], dtype=object),\n",
       " array(['Drama'], dtype=object),\n",
       " array(['Documentary'], dtype=object),\n",
       " array(['Comedy'], dtype=object),\n",
       " array(['Comedy/Fantasy/Family'], dtype=object),\n",
       " array(['Thriller'], dtype=object),\n",
       " array(['Drama'], dtype=object),\n",
       " array(['Drama/Horror'], dtype=object),\n",
       " array(['Crime drama'], dtype=object),\n",
       " array(['Romantic comedy'], dtype=object),\n",
       " array(['Documentary'], dtype=object),\n",
       " array(['Romantic comedy'], dtype=object),\n",
       " array(['Documentary'], dtype=object),\n",
       " array(['Aftershow / Interview'], dtype=object),\n",
       " array(['Documentary'], dtype=object),\n",
       " array(['Thriller'], dtype=object),\n",
       " array(['Horror thriller'], dtype=object),\n",
       " array(['Documentary'], dtype=object),\n",
       " array(['Comedy'], dtype=object),\n",
       " array(['Drama'], dtype=object),\n",
       " array(['Crime thriller'], dtype=object),\n",
       " array(['Science fiction/Drama'], dtype=object),\n",
       " array(['Romantic comedy'], dtype=object),\n",
       " array(['Documentary'], dtype=object),\n",
       " array(['Documentary'], dtype=object),\n",
       " array(['Horror anthology'], dtype=object),\n",
       " array(['Documentary'], dtype=object),\n",
       " array(['Animation / Short'], dtype=object),\n",
       " array(['Documentary'], dtype=object),\n",
       " array(['Documentary'], dtype=object),\n",
       " array(['Animation/Christmas/Comedy/Adventure'], dtype=object),\n",
       " array(['Drama'], dtype=object),\n",
       " array(['Drama'], dtype=object),\n",
       " array(['Drama'], dtype=object)]"
      ]
     },
     "execution_count": 349,
     "metadata": {},
     "output_type": "execute_result"
    }
   ],
   "source": [
    "cat_encoder.categories_"
   ]
  },
  {
   "cell_type": "markdown",
   "metadata": {},
   "source": [
    "Let's create a custom transformer to add extra attributes:"
   ]
  },
  {
   "cell_type": "markdown",
   "metadata": {},
   "source": [
    "\"IMDB Score\", \"runtime_cat\", \"Runtime\",\"days_since_premiere\""
   ]
  },
  {
   "cell_type": "code",
   "execution_count": 117,
   "metadata": {},
   "outputs": [
    {
     "ename": "TypeError",
     "evalue": "unsupported operand type(s) for /: 'str' and 'str'",
     "output_type": "error",
     "traceback": [
      "\u001b[0;31m---------------------------------------------------------------------------\u001b[0m",
      "\u001b[0;31mTypeError\u001b[0m                                 Traceback (most recent call last)",
      "\u001b[0;32m<ipython-input-117-816825732fbe>\u001b[0m in \u001b[0;36m<module>\u001b[0;34m()\u001b[0m\n\u001b[1;32m     20\u001b[0m \u001b[0;34m\u001b[0m\u001b[0m\n\u001b[1;32m     21\u001b[0m \u001b[0mattr_adder\u001b[0m \u001b[0;34m=\u001b[0m \u001b[0mCombinedAttributesAdder\u001b[0m\u001b[0;34m(\u001b[0m\u001b[0madd_bedrooms_per_room\u001b[0m\u001b[0;34m=\u001b[0m\u001b[0;32mFalse\u001b[0m\u001b[0;34m)\u001b[0m\u001b[0;34m\u001b[0m\u001b[0m\n\u001b[0;32m---> 22\u001b[0;31m \u001b[0mhousing_extra_attribs\u001b[0m \u001b[0;34m=\u001b[0m \u001b[0mattr_adder\u001b[0m\u001b[0;34m.\u001b[0m\u001b[0mtransform\u001b[0m\u001b[0;34m(\u001b[0m\u001b[0mhousing\u001b[0m\u001b[0;34m.\u001b[0m\u001b[0mvalues\u001b[0m\u001b[0;34m)\u001b[0m\u001b[0;34m\u001b[0m\u001b[0m\n\u001b[0m",
      "\u001b[0;32m<ipython-input-117-816825732fbe>\u001b[0m in \u001b[0;36mtransform\u001b[0;34m(self, X, y)\u001b[0m\n\u001b[1;32m     10\u001b[0m         \u001b[0;32mreturn\u001b[0m \u001b[0mself\u001b[0m  \u001b[0;31m# nothing else to do\u001b[0m\u001b[0;34m\u001b[0m\u001b[0m\n\u001b[1;32m     11\u001b[0m     \u001b[0;32mdef\u001b[0m \u001b[0mtransform\u001b[0m\u001b[0;34m(\u001b[0m\u001b[0mself\u001b[0m\u001b[0;34m,\u001b[0m \u001b[0mX\u001b[0m\u001b[0;34m,\u001b[0m \u001b[0my\u001b[0m\u001b[0;34m=\u001b[0m\u001b[0;32mNone\u001b[0m\u001b[0;34m)\u001b[0m\u001b[0;34m:\u001b[0m\u001b[0;34m\u001b[0m\u001b[0m\n\u001b[0;32m---> 12\u001b[0;31m         \u001b[0mrooms_per_household\u001b[0m \u001b[0;34m=\u001b[0m \u001b[0mX\u001b[0m\u001b[0;34m[\u001b[0m\u001b[0;34m:\u001b[0m\u001b[0;34m,\u001b[0m \u001b[0mrooms_ix\u001b[0m\u001b[0;34m]\u001b[0m \u001b[0;34m/\u001b[0m \u001b[0mX\u001b[0m\u001b[0;34m[\u001b[0m\u001b[0;34m:\u001b[0m\u001b[0;34m,\u001b[0m \u001b[0mhousehold_ix\u001b[0m\u001b[0;34m]\u001b[0m\u001b[0;34m\u001b[0m\u001b[0m\n\u001b[0m\u001b[1;32m     13\u001b[0m         \u001b[0mpopulation_per_household\u001b[0m \u001b[0;34m=\u001b[0m \u001b[0mX\u001b[0m\u001b[0;34m[\u001b[0m\u001b[0;34m:\u001b[0m\u001b[0;34m,\u001b[0m \u001b[0mpopulation_ix\u001b[0m\u001b[0;34m]\u001b[0m \u001b[0;34m/\u001b[0m \u001b[0mX\u001b[0m\u001b[0;34m[\u001b[0m\u001b[0;34m:\u001b[0m\u001b[0;34m,\u001b[0m \u001b[0mhousehold_ix\u001b[0m\u001b[0;34m]\u001b[0m\u001b[0;34m\u001b[0m\u001b[0m\n\u001b[1;32m     14\u001b[0m         \u001b[0;32mif\u001b[0m \u001b[0mself\u001b[0m\u001b[0;34m.\u001b[0m\u001b[0madd_bedrooms_per_room\u001b[0m\u001b[0;34m:\u001b[0m\u001b[0;34m\u001b[0m\u001b[0m\n",
      "\u001b[0;31mTypeError\u001b[0m: unsupported operand type(s) for /: 'str' and 'str'"
     ]
    }
   ],
   "source": [
    "from sklearn.base import BaseEstimator, TransformerMixin\n",
    "\n",
    "# column index\n",
    "imdb_ix, runtime_ix, days_since_premiere_ix = 3, 4, 5, 6\n",
    "\n",
    "class CombinedAttributesAdder(BaseEstimator, TransformerMixin):\n",
    "    def __init__(self, add_days_since_premiere = True): # no *args or **kargs\n",
    "        self.add_days_since_premiere = add_days_since_premiere\n",
    "    def fit(self, X, y=None):\n",
    "        return self  # nothing else to do\n",
    "    def transform(self, X, y=None):\n",
    "        days_since_premiere = X[:, rooms_ix] / X[:, household_ix]\n",
    "            date1 = netflix_data[\"Premiere\"]\n",
    "            date2 = pd.Series(data=date.today(), index=np.arange(len(date1)), name=\"Today\").values.astype('datetime64[D]')\n",
    "            date1 = pd.to_datetime(date1).values.astype('datetime64[D]')\n",
    "            date_df = pd.DataFrame(dict(Start_date = date1, End_date = date2))\n",
    "            date_df['diff_days'] = date_df['End_date'] - date_df['Start_date']\n",
    "            date_df['diff_days'] = date_df['diff_days'] / np.timedelta64(1,'D')\n",
    "            netflix_data['days_since_premiere'] = date_df['diff_days']\n",
    "            netflix_data.head()\n",
    "        \n",
    "        population_per_household = X[:, population_ix] / X[:, household_ix]\n",
    "        if self.add_bedrooms_per_room:\n",
    "            bedrooms_per_room = X[:, bedrooms_ix] / X[:, rooms_ix]\n",
    "            return np.c_[X, rooms_per_household, population_per_household,\n",
    "                         bedrooms_per_room]\n",
    "        else:\n",
    "            return np.c_[X, rooms_per_household, population_per_household]\n",
    "\n",
    "attr_adder = CombinedAttributesAdder(add_bedrooms_per_room=False)\n",
    "housing_extra_attribs = attr_adder.transform(housing.values)"
   ]
  },
  {
   "cell_type": "code",
   "execution_count": null,
   "metadata": {
    "collapsed": true
   },
   "outputs": [],
   "source": [
    "housing_extra_attribs = pd.DataFrame(\n",
    "    housing_extra_attribs,\n",
    "    columns=list(housing.columns)+[\"rooms_per_household\", \"population_per_household\"])\n",
    "housing_extra_attribs.head()"
   ]
  },
  {
   "cell_type": "markdown",
   "metadata": {},
   "source": [
    "Now let's build a pipeline for preprocessing the numerical attributes:"
   ]
  },
  {
   "cell_type": "code",
   "execution_count": 351,
   "metadata": {
    "collapsed": true
   },
   "outputs": [],
   "source": [
    "from sklearn.pipeline import Pipeline\n",
    "from sklearn.preprocessing import StandardScaler\n",
    "\n",
    "num_pipeline = Pipeline([\n",
    "        ('imputer', Imputer(strategy=\"median\")),\n",
    "#         ('attribs_adder', CombinedAttributesAdder()),\n",
    "        ('std_scaler', StandardScaler()),\n",
    "    ])\n",
    "\n",
    "netflix_num_tr = num_pipeline.fit_transform(netflix_num)"
   ]
  },
  {
   "cell_type": "code",
   "execution_count": 353,
   "metadata": {},
   "outputs": [
    {
     "data": {
      "text/plain": [
       "array([[ 0.23757285, -0.07066831, -0.81105452],\n",
       "       [-0.06812751, -0.07066831, -1.32626297],\n",
       "       [ 0.54327321, -0.79813616,  1.11099618],\n",
       "       ..., \n",
       "       [ 0.54327321, -0.07066831, -0.95744216],\n",
       "       [ 0.33947297, -0.07066831, -1.29014134],\n",
       "       [-0.27192775,  0.65679955,  0.79920952]])"
      ]
     },
     "execution_count": 353,
     "metadata": {},
     "output_type": "execute_result"
    }
   ],
   "source": [
    "netflix_num_tr"
   ]
  },
  {
   "cell_type": "code",
   "execution_count": 354,
   "metadata": {
    "collapsed": true
   },
   "outputs": [],
   "source": [
    "from sklearn.base import BaseEstimator, TransformerMixin\n",
    "\n",
    "# Create a class to select numerical or categorical columns \n",
    "# since Scikit-Learn doesn't handle DataFrames yet\n",
    "class DataFrameSelector(BaseEstimator, TransformerMixin):\n",
    "    def __init__(self, attribute_names):\n",
    "        self.attribute_names = attribute_names\n",
    "    def fit(self, X, y=None):\n",
    "        return self\n",
    "    def transform(self, X):\n",
    "        return X[self.attribute_names].values"
   ]
  },
  {
   "cell_type": "markdown",
   "metadata": {},
   "source": [
    "Now let's join all these components into a big pipeline that will preprocess both the numerical and the categorical features:"
   ]
  },
  {
   "cell_type": "code",
   "execution_count": 355,
   "metadata": {
    "collapsed": true
   },
   "outputs": [],
   "source": [
    "num_attribs = list(netflix_num)\n",
    "cat_attribs = [\"Genre\"]\n",
    "\n",
    "num_pipeline = Pipeline([\n",
    "        ('selector', DataFrameSelector(num_attribs)),\n",
    "        ('imputer', Imputer(strategy=\"median\")),\n",
    "#         ('attribs_adder', CombinedAttributesAdder()),\n",
    "        ('std_scaler', StandardScaler()),\n",
    "    ])\n",
    "\n",
    "cat_pipeline = Pipeline([\n",
    "        ('selector', DataFrameSelector(cat_attribs)),\n",
    "        ('cat_encoder', OneHotEncoder(sparse=False)),\n",
    "    ])"
   ]
  },
  {
   "cell_type": "code",
   "execution_count": 362,
   "metadata": {
    "collapsed": true
   },
   "outputs": [],
   "source": [
    "from sklearn.pipeline import FeatureUnion\n",
    "\n",
    "full_pipeline = FeatureUnion(transformer_list=[\n",
    "        (\"num_pipeline\", num_pipeline),\n",
    "        (\"cat_pipeline\", cat_pipeline),\n",
    "    ])"
   ]
  },
  {
   "cell_type": "code",
   "execution_count": 363,
   "metadata": {},
   "outputs": [
    {
     "data": {
      "text/plain": [
       "array([[ 0.23757285, -0.07066831, -0.81105452, ...,  0.        ,\n",
       "         0.        ,  0.        ],\n",
       "       [-0.06812751, -0.07066831, -1.32626297, ...,  0.        ,\n",
       "         0.        ,  0.        ],\n",
       "       [ 0.54327321, -0.79813616,  1.11099618, ...,  0.        ,\n",
       "         0.        ,  0.        ],\n",
       "       ..., \n",
       "       [ 0.54327321, -0.07066831, -0.95744216, ...,  0.        ,\n",
       "         0.        ,  0.        ],\n",
       "       [ 0.33947297, -0.07066831, -1.29014134, ...,  0.        ,\n",
       "         0.        ,  0.        ],\n",
       "       [-0.27192775,  0.65679955,  0.79920952, ...,  0.        ,\n",
       "         0.        ,  0.        ]])"
      ]
     },
     "execution_count": 363,
     "metadata": {},
     "output_type": "execute_result"
    }
   ],
   "source": [
    "netflix_prepared = full_pipeline.fit_transform(netflix)\n",
    "netflix_prepared"
   ]
  },
  {
   "cell_type": "code",
   "execution_count": 364,
   "metadata": {},
   "outputs": [
    {
     "data": {
      "text/plain": [
       "(525, 112)"
      ]
     },
     "execution_count": 364,
     "metadata": {},
     "output_type": "execute_result"
    }
   ],
   "source": [
    "netflix_prepared.shape"
   ]
  },
  {
   "cell_type": "code",
   "execution_count": 366,
   "metadata": {},
   "outputs": [
    {
     "data": {
      "text/plain": [
       "(525,)"
      ]
     },
     "execution_count": 366,
     "metadata": {},
     "output_type": "execute_result"
    }
   ],
   "source": [
    "netflix_labels.shape"
   ]
  },
  {
   "cell_type": "markdown",
   "metadata": {},
   "source": [
    "# Select and train a model"
   ]
  },
  {
   "cell_type": "code",
   "execution_count": 367,
   "metadata": {},
   "outputs": [
    {
     "data": {
      "text/plain": [
       "LinearRegression(copy_X=True, fit_intercept=True, n_jobs=1, normalize=False)"
      ]
     },
     "execution_count": 367,
     "metadata": {},
     "output_type": "execute_result"
    }
   ],
   "source": [
    "from sklearn.linear_model import LinearRegression\n",
    "\n",
    "lin_reg = LinearRegression()\n",
    "lin_reg.fit(netflix_prepared, netflix_labels)"
   ]
  },
  {
   "cell_type": "code",
   "execution_count": 368,
   "metadata": {},
   "outputs": [
    {
     "name": "stdout",
     "output_type": "stream",
     "text": [
      "Predictions: [ 92.86621094  93.49554443  72.27642822  91.05474854  91.13824463]\n"
     ]
    }
   ],
   "source": [
    "# let's try the full pipeline on a few training instances\n",
    "some_data = netflix.iloc[:5]\n",
    "some_labels = netflix_labels.iloc[:5]\n",
    "some_data_prepared = full_pipeline.transform(some_data)\n",
    "\n",
    "print(\"Predictions:\", lin_reg.predict(some_data_prepared))"
   ]
  },
  {
   "cell_type": "markdown",
   "metadata": {},
   "source": [
    "Compare against the actual values:"
   ]
  },
  {
   "cell_type": "code",
   "execution_count": 369,
   "metadata": {},
   "outputs": [
    {
     "name": "stdout",
     "output_type": "stream",
     "text": [
      "Labels: [93, 92, 73, 95, 87]\n"
     ]
    }
   ],
   "source": [
    "print(\"Labels:\", list(some_labels))"
   ]
  },
  {
   "cell_type": "code",
   "execution_count": 276,
   "metadata": {},
   "outputs": [
    {
     "data": {
      "text/plain": [
       "array([[ -9.72795264e-01,  -1.44425968e+00,  -5.75961896e-01,\n",
       "         -9.35293152e-01,  -6.28794433e-01,   6.59078196e-01,\n",
       "         -3.45319883e-02,   1.10124785e-01,   1.02618027e-01,\n",
       "         -2.78517159e-01,  -1.53807139e-01,   0.00000000e+00,\n",
       "          0.00000000e+00,   1.00000000e+00,   0.00000000e+00,\n",
       "          0.00000000e+00,   0.00000000e+00,   0.00000000e+00,\n",
       "          0.00000000e+00],\n",
       "       [  2.14351526e+00,  -2.02908792e-01,  -9.83697971e-01,\n",
       "          2.13852700e+00,   3.55572178e+00,   2.50262065e-02,\n",
       "         -3.45319883e-02,   1.10124785e-01,  -5.94390820e-01,\n",
       "         -1.05651588e+00,  -1.52762625e+00,   0.00000000e+00,\n",
       "          0.00000000e+00,   0.00000000e+00,   0.00000000e+00,\n",
       "          0.00000000e+00,   0.00000000e+00,   1.00000000e+00,\n",
       "          0.00000000e+00],\n",
       "       [  2.14351526e+00,   2.22211377e-01,   6.36226434e-01,\n",
       "          2.13852700e+00,  -6.28794433e-01,  -1.23228360e-03,\n",
       "         -3.45319883e-02,  -1.24591008e+00,  -1.09414730e+00,\n",
       "          5.20403839e-01,   8.40398866e-02,   0.00000000e+00,\n",
       "          0.00000000e+00,   0.00000000e+00,   0.00000000e+00,\n",
       "          0.00000000e+00,   1.00000000e+00,   0.00000000e+00,\n",
       "          0.00000000e+00],\n",
       "       [  6.59749098e-02,  -1.17218278e+00,  -5.64942002e-01,\n",
       "         -9.35293152e-01,  -6.28794433e-01,  -8.58932776e-02,\n",
       "         -3.45319883e-02,   1.10124785e-01,   3.06685255e-01,\n",
       "         -2.02189595e-01,  -9.98669162e-01,   0.00000000e+00,\n",
       "          0.00000000e+00,   1.00000000e+00,   0.00000000e+00,\n",
       "          0.00000000e+00,   0.00000000e+00,   0.00000000e+00,\n",
       "          0.00000000e+00],\n",
       "       [  6.59749098e-02,   2.90230604e-01,  -2.92741291e-03,\n",
       "          8.93135641e-02,  -6.28794433e-01,  -3.36026637e-02,\n",
       "         -3.45319883e-02,   1.10124785e-01,   3.68523810e-01,\n",
       "          1.03958625e+00,  -6.83223396e-01,   1.00000000e+00,\n",
       "          0.00000000e+00,   0.00000000e+00,   0.00000000e+00,\n",
       "          0.00000000e+00,   0.00000000e+00,   0.00000000e+00,\n",
       "          0.00000000e+00]])"
      ]
     },
     "execution_count": 276,
     "metadata": {},
     "output_type": "execute_result"
    }
   ],
   "source": [
    "some_data_prepared"
   ]
  },
  {
   "cell_type": "code",
   "execution_count": 372,
   "metadata": {},
   "outputs": [
    {
     "data": {
      "text/plain": [
       "6.2911016181134816"
      ]
     },
     "execution_count": 372,
     "metadata": {},
     "output_type": "execute_result"
    }
   ],
   "source": [
    "from sklearn.metrics import mean_squared_error\n",
    "\n",
    "netflix_predictions = lin_reg.predict(netflix_prepared)\n",
    "lin_mse = mean_squared_error(netflix_labels, netflix_predictions)\n",
    "lin_rmse = np.sqrt(lin_mse)\n",
    "lin_rmse"
   ]
  },
  {
   "cell_type": "code",
   "execution_count": 373,
   "metadata": {},
   "outputs": [
    {
     "data": {
      "text/plain": [
       "4.38238525390625"
      ]
     },
     "execution_count": 373,
     "metadata": {},
     "output_type": "execute_result"
    }
   ],
   "source": [
    "from sklearn.metrics import mean_absolute_error\n",
    "\n",
    "lin_mae = mean_absolute_error(netflix_labels, netflix_predictions)\n",
    "lin_mae"
   ]
  },
  {
   "cell_type": "code",
   "execution_count": 374,
   "metadata": {},
   "outputs": [
    {
     "data": {
      "text/plain": [
       "DecisionTreeRegressor(criterion='mse', max_depth=None, max_features=None,\n",
       "           max_leaf_nodes=None, min_impurity_split=1e-07,\n",
       "           min_samples_leaf=1, min_samples_split=2,\n",
       "           min_weight_fraction_leaf=0.0, presort=False, random_state=42,\n",
       "           splitter='best')"
      ]
     },
     "execution_count": 374,
     "metadata": {},
     "output_type": "execute_result"
    }
   ],
   "source": [
    "from sklearn.tree import DecisionTreeRegressor\n",
    "\n",
    "tree_reg = DecisionTreeRegressor(random_state=42)\n",
    "tree_reg.fit(netflix_prepared, netflix_labels)"
   ]
  },
  {
   "cell_type": "code",
   "execution_count": 375,
   "metadata": {},
   "outputs": [
    {
     "data": {
      "text/plain": [
       "0.0"
      ]
     },
     "execution_count": 375,
     "metadata": {},
     "output_type": "execute_result"
    }
   ],
   "source": [
    "netflix_predictions = tree_reg.predict(netflix_prepared)\n",
    "tree_mse = mean_squared_error(netflix_labels, netflix_predictions)\n",
    "tree_rmse = np.sqrt(tree_mse)\n",
    "tree_rmse"
   ]
  },
  {
   "cell_type": "markdown",
   "metadata": {},
   "source": [
    "# Fine-tune your model"
   ]
  },
  {
   "cell_type": "code",
   "execution_count": 376,
   "metadata": {
    "collapsed": true
   },
   "outputs": [],
   "source": [
    "from sklearn.model_selection import cross_val_score\n",
    "\n",
    "scores = cross_val_score(tree_reg, netflix_prepared, netflix_labels,\n",
    "                         scoring=\"neg_mean_squared_error\", cv=10)\n",
    "tree_rmse_scores = np.sqrt(-scores)"
   ]
  },
  {
   "cell_type": "code",
   "execution_count": 377,
   "metadata": {},
   "outputs": [
    {
     "name": "stdout",
     "output_type": "stream",
     "text": [
      "Scores: [  8.30207976  10.56248256  20.68998482   8.93266214   9.35565614\n",
      "  14.17812508   9.46654027   8.90656629  15.1632146    7.0492771 ]\n",
      "Mean: 11.2606588747\n",
      "Standard deviation: 3.96786255579\n"
     ]
    }
   ],
   "source": [
    "def display_scores(scores):\n",
    "    print(\"Scores:\", scores)\n",
    "    print(\"Mean:\", scores.mean())\n",
    "    print(\"Standard deviation:\", scores.std())\n",
    "\n",
    "display_scores(tree_rmse_scores)"
   ]
  },
  {
   "cell_type": "code",
   "execution_count": 378,
   "metadata": {},
   "outputs": [
    {
     "name": "stdout",
     "output_type": "stream",
     "text": [
      "Scores: [  4.90651970e+12   8.30133830e+11   1.37448048e+14   8.88514328e+13\n",
      "   3.00655181e+12   5.28139699e+12   2.68376723e+12   1.09539881e+13\n",
      "   1.25702016e+01   1.20283513e+13]\n",
      "Mean: 2.65990189541e+13\n",
      "Standard deviation: 4.47716809089e+13\n"
     ]
    }
   ],
   "source": [
    "lin_scores = cross_val_score(lin_reg, netflix_prepared, netflix_labels,\n",
    "                             scoring=\"neg_mean_squared_error\", cv=10)\n",
    "lin_rmse_scores = np.sqrt(-lin_scores)\n",
    "display_scores(lin_rmse_scores)"
   ]
  },
  {
   "cell_type": "code",
   "execution_count": 379,
   "metadata": {},
   "outputs": [
    {
     "data": {
      "text/plain": [
       "RandomForestRegressor(bootstrap=True, criterion='mse', max_depth=None,\n",
       "           max_features='auto', max_leaf_nodes=None,\n",
       "           min_impurity_split=1e-07, min_samples_leaf=1,\n",
       "           min_samples_split=2, min_weight_fraction_leaf=0.0,\n",
       "           n_estimators=10, n_jobs=1, oob_score=False, random_state=42,\n",
       "           verbose=0, warm_start=False)"
      ]
     },
     "execution_count": 379,
     "metadata": {},
     "output_type": "execute_result"
    }
   ],
   "source": [
    "from sklearn.ensemble import RandomForestRegressor\n",
    "\n",
    "forest_reg = RandomForestRegressor(random_state=42)\n",
    "forest_reg.fit(netflix_prepared, netflix_labels)"
   ]
  },
  {
   "cell_type": "code",
   "execution_count": 380,
   "metadata": {},
   "outputs": [
    {
     "data": {
      "text/plain": [
       "3.4262488164727545"
      ]
     },
     "execution_count": 380,
     "metadata": {},
     "output_type": "execute_result"
    }
   ],
   "source": [
    "netflix_predictions = forest_reg.predict(netflix_prepared)\n",
    "forest_mse = mean_squared_error(netflix_labels, netflix_predictions)\n",
    "forest_rmse = np.sqrt(forest_mse)\n",
    "forest_rmse"
   ]
  },
  {
   "cell_type": "code",
   "execution_count": 381,
   "metadata": {},
   "outputs": [
    {
     "name": "stdout",
     "output_type": "stream",
     "text": [
      "Scores: [  5.83724218   8.294895    10.21765029   6.29231337   7.31069261\n",
      "   8.14138289   6.20317847   7.37219308  12.23631889   6.87520629]\n",
      "Mean: 7.87810730539\n",
      "Standard deviation: 1.8915463035\n"
     ]
    }
   ],
   "source": [
    "from sklearn.model_selection import cross_val_score\n",
    "\n",
    "forest_scores = cross_val_score(forest_reg, netflix_prepared, netflix_labels,\n",
    "                                scoring=\"neg_mean_squared_error\", cv=10)\n",
    "forest_rmse_scores = np.sqrt(-forest_scores)\n",
    "display_scores(forest_rmse_scores)"
   ]
  },
  {
   "cell_type": "code",
   "execution_count": 382,
   "metadata": {},
   "outputs": [
    {
     "data": {
      "text/plain": [
       "count    1.000000e+01\n",
       "mean     2.659902e+13\n",
       "std      4.719350e+13\n",
       "min      1.257020e+01\n",
       "25%      2.764463e+12\n",
       "50%      5.093958e+12\n",
       "75%      1.175976e+13\n",
       "max      1.374480e+14\n",
       "dtype: float64"
      ]
     },
     "execution_count": 382,
     "metadata": {},
     "output_type": "execute_result"
    }
   ],
   "source": [
    "scores = cross_val_score(lin_reg, netflix_prepared, netflix_labels, scoring=\"neg_mean_squared_error\", cv=10)\n",
    "pd.Series(np.sqrt(-scores)).describe()"
   ]
  },
  {
   "cell_type": "code",
   "execution_count": 385,
   "metadata": {},
   "outputs": [
    {
     "data": {
      "text/plain": [
       "22.713482038586957"
      ]
     },
     "execution_count": 385,
     "metadata": {},
     "output_type": "execute_result"
    }
   ],
   "source": [
    "from sklearn.svm import SVR\n",
    "\n",
    "svm_reg_rbf = SVR(kernel=\"rbf\")\n",
    "svm_reg_rbf.fit(netflix_prepared, netflix_labels)\n",
    "netflix_predictions = svm_reg_rbf.predict(netflix_prepared)\n",
    "svm_mse = mean_squared_error(netflix_labels, netflix_predictions)\n",
    "svm_rmse = np.sqrt(svm_mse)\n",
    "svm_rmse"
   ]
  },
  {
   "cell_type": "code",
   "execution_count": 386,
   "metadata": {},
   "outputs": [
    {
     "data": {
      "text/plain": [
       "22.713482038586957"
      ]
     },
     "execution_count": 386,
     "metadata": {},
     "output_type": "execute_result"
    }
   ],
   "source": [
    "from sklearn.svm import SVR\n",
    "\n",
    "svm_reg = SVR(kernel=\"linear\")\n",
    "svm_reg.fit(netflix_prepared, netflix_labels)\n",
    "housing_predictions = svm_reg.predict(netflix_prepared)\n",
    "svm_mse = mean_squared_error(netflix_labels, netflix_predictions)\n",
    "svm_rmse = np.sqrt(svm_mse)\n",
    "svm_rmse"
   ]
  },
  {
   "cell_type": "code",
   "execution_count": 387,
   "metadata": {},
   "outputs": [
    {
     "data": {
      "text/plain": [
       "GridSearchCV(cv=5, error_score='raise',\n",
       "       estimator=RandomForestRegressor(bootstrap=True, criterion='mse', max_depth=None,\n",
       "           max_features='auto', max_leaf_nodes=None,\n",
       "           min_impurity_split=1e-07, min_samples_leaf=1,\n",
       "           min_samples_split=2, min_weight_fraction_leaf=0.0,\n",
       "           n_estimators=10, n_jobs=1, oob_score=False, random_state=42,\n",
       "           verbose=0, warm_start=False),\n",
       "       fit_params={}, iid=True, n_jobs=1,\n",
       "       param_grid=[{'n_estimators': [3, 10, 30], 'max_features': [2, 4, 6, 8]}, {'bootstrap': [False], 'n_estimators': [3, 10], 'max_features': [2, 3, 4]}],\n",
       "       pre_dispatch='2*n_jobs', refit=True, return_train_score=True,\n",
       "       scoring='neg_mean_squared_error', verbose=0)"
      ]
     },
     "execution_count": 387,
     "metadata": {},
     "output_type": "execute_result"
    }
   ],
   "source": [
    "from sklearn.model_selection import GridSearchCV\n",
    "\n",
    "param_grid = [\n",
    "    # try 12 (3×4) combinations of hyperparameters\n",
    "    {'n_estimators': [3, 10, 30], 'max_features': [2, 4, 6, 8]},\n",
    "    # then try 6 (2×3) combinations with bootstrap set as False\n",
    "    {'bootstrap': [False], 'n_estimators': [3, 10], 'max_features': [2, 3, 4]},\n",
    "  ]\n",
    "\n",
    "forest_reg = RandomForestRegressor(random_state=42)\n",
    "# train across 5 folds, that's a total of (12+6)*5=90 rounds of training \n",
    "grid_search = GridSearchCV(forest_reg, param_grid, cv=5,\n",
    "                           scoring='neg_mean_squared_error', return_train_score=True)\n",
    "grid_search.fit(netflix_prepared, netflix_labels)"
   ]
  },
  {
   "cell_type": "markdown",
   "metadata": {},
   "source": [
    "The best hyperparameter combination found:"
   ]
  },
  {
   "cell_type": "code",
   "execution_count": 388,
   "metadata": {},
   "outputs": [
    {
     "data": {
      "text/plain": [
       "{'max_features': 8, 'n_estimators': 30}"
      ]
     },
     "execution_count": 388,
     "metadata": {},
     "output_type": "execute_result"
    }
   ],
   "source": [
    "grid_search.best_params_"
   ]
  },
  {
   "cell_type": "code",
   "execution_count": 389,
   "metadata": {},
   "outputs": [
    {
     "data": {
      "text/plain": [
       "RandomForestRegressor(bootstrap=True, criterion='mse', max_depth=None,\n",
       "           max_features=8, max_leaf_nodes=None, min_impurity_split=1e-07,\n",
       "           min_samples_leaf=1, min_samples_split=2,\n",
       "           min_weight_fraction_leaf=0.0, n_estimators=30, n_jobs=1,\n",
       "           oob_score=False, random_state=42, verbose=0, warm_start=False)"
      ]
     },
     "execution_count": 389,
     "metadata": {},
     "output_type": "execute_result"
    }
   ],
   "source": [
    "grid_search.best_estimator_"
   ]
  },
  {
   "cell_type": "markdown",
   "metadata": {},
   "source": [
    "Let's look at the score of each hyperparameter combination tested during the grid search:"
   ]
  },
  {
   "cell_type": "code",
   "execution_count": 390,
   "metadata": {},
   "outputs": [
    {
     "name": "stdout",
     "output_type": "stream",
     "text": [
      "12.8642402515 {'max_features': 2, 'n_estimators': 3}\n",
      "11.7774586959 {'max_features': 2, 'n_estimators': 10}\n",
      "11.0366914757 {'max_features': 2, 'n_estimators': 30}\n",
      "13.6229265205 {'max_features': 4, 'n_estimators': 3}\n",
      "11.7602348535 {'max_features': 4, 'n_estimators': 10}\n",
      "10.9540728576 {'max_features': 4, 'n_estimators': 30}\n",
      "13.0179282156 {'max_features': 6, 'n_estimators': 3}\n",
      "10.1604302496 {'max_features': 6, 'n_estimators': 10}\n",
      "10.3482936252 {'max_features': 6, 'n_estimators': 30}\n",
      "13.7003147533 {'max_features': 8, 'n_estimators': 3}\n",
      "10.3734340184 {'max_features': 8, 'n_estimators': 10}\n",
      "10.0598383233 {'max_features': 8, 'n_estimators': 30}\n",
      "13.2233559605 {'bootstrap': False, 'max_features': 2, 'n_estimators': 3}\n",
      "11.704691774 {'bootstrap': False, 'max_features': 2, 'n_estimators': 10}\n",
      "12.6204587411 {'bootstrap': False, 'max_features': 3, 'n_estimators': 3}\n",
      "11.6490596391 {'bootstrap': False, 'max_features': 3, 'n_estimators': 10}\n",
      "12.4238037441 {'bootstrap': False, 'max_features': 4, 'n_estimators': 3}\n",
      "11.4438296953 {'bootstrap': False, 'max_features': 4, 'n_estimators': 10}\n"
     ]
    }
   ],
   "source": [
    "cvres = grid_search.cv_results_\n",
    "for mean_score, params in zip(cvres[\"mean_test_score\"], cvres[\"params\"]):\n",
    "    print(np.sqrt(-mean_score), params)"
   ]
  },
  {
   "cell_type": "code",
   "execution_count": 391,
   "metadata": {},
   "outputs": [
    {
     "data": {
      "text/html": [
       "<div>\n",
       "<style>\n",
       "    .dataframe thead tr:only-child th {\n",
       "        text-align: right;\n",
       "    }\n",
       "\n",
       "    .dataframe thead th {\n",
       "        text-align: left;\n",
       "    }\n",
       "\n",
       "    .dataframe tbody tr th {\n",
       "        vertical-align: top;\n",
       "    }\n",
       "</style>\n",
       "<table border=\"1\" class=\"dataframe\">\n",
       "  <thead>\n",
       "    <tr style=\"text-align: right;\">\n",
       "      <th></th>\n",
       "      <th>mean_fit_time</th>\n",
       "      <th>mean_score_time</th>\n",
       "      <th>mean_test_score</th>\n",
       "      <th>mean_train_score</th>\n",
       "      <th>param_bootstrap</th>\n",
       "      <th>param_max_features</th>\n",
       "      <th>param_n_estimators</th>\n",
       "      <th>params</th>\n",
       "      <th>rank_test_score</th>\n",
       "      <th>split0_test_score</th>\n",
       "      <th>...</th>\n",
       "      <th>split2_test_score</th>\n",
       "      <th>split2_train_score</th>\n",
       "      <th>split3_test_score</th>\n",
       "      <th>split3_train_score</th>\n",
       "      <th>split4_test_score</th>\n",
       "      <th>split4_train_score</th>\n",
       "      <th>std_fit_time</th>\n",
       "      <th>std_score_time</th>\n",
       "      <th>std_test_score</th>\n",
       "      <th>std_train_score</th>\n",
       "    </tr>\n",
       "  </thead>\n",
       "  <tbody>\n",
       "    <tr>\n",
       "      <th>0</th>\n",
       "      <td>0.020032</td>\n",
       "      <td>0.005267</td>\n",
       "      <td>-165.488677</td>\n",
       "      <td>-48.685132</td>\n",
       "      <td>NaN</td>\n",
       "      <td>2</td>\n",
       "      <td>3</td>\n",
       "      <td>{'max_features': 2, 'n_estimators': 3}</td>\n",
       "      <td>14</td>\n",
       "      <td>-158.307937</td>\n",
       "      <td>...</td>\n",
       "      <td>-268.118519</td>\n",
       "      <td>-70.120370</td>\n",
       "      <td>-83.291005</td>\n",
       "      <td>-28.671429</td>\n",
       "      <td>-197.367196</td>\n",
       "      <td>-52.887566</td>\n",
       "      <td>0.006234</td>\n",
       "      <td>0.004320</td>\n",
       "      <td>63.865259</td>\n",
       "      <td>13.951797</td>\n",
       "    </tr>\n",
       "    <tr>\n",
       "      <th>1</th>\n",
       "      <td>0.062914</td>\n",
       "      <td>0.002252</td>\n",
       "      <td>-138.708533</td>\n",
       "      <td>-27.312090</td>\n",
       "      <td>NaN</td>\n",
       "      <td>2</td>\n",
       "      <td>10</td>\n",
       "      <td>{'max_features': 2, 'n_estimators': 10}</td>\n",
       "      <td>11</td>\n",
       "      <td>-116.974571</td>\n",
       "      <td>...</td>\n",
       "      <td>-160.853524</td>\n",
       "      <td>-27.657571</td>\n",
       "      <td>-98.607143</td>\n",
       "      <td>-23.953095</td>\n",
       "      <td>-214.894190</td>\n",
       "      <td>-39.400571</td>\n",
       "      <td>0.024604</td>\n",
       "      <td>0.000866</td>\n",
       "      <td>44.061430</td>\n",
       "      <td>6.326613</td>\n",
       "    </tr>\n",
       "    <tr>\n",
       "      <th>2</th>\n",
       "      <td>0.107841</td>\n",
       "      <td>0.009594</td>\n",
       "      <td>-121.808559</td>\n",
       "      <td>-20.887763</td>\n",
       "      <td>NaN</td>\n",
       "      <td>2</td>\n",
       "      <td>30</td>\n",
       "      <td>{'max_features': 2, 'n_estimators': 30}</td>\n",
       "      <td>6</td>\n",
       "      <td>-109.244032</td>\n",
       "      <td>...</td>\n",
       "      <td>-125.837471</td>\n",
       "      <td>-21.033648</td>\n",
       "      <td>-94.468317</td>\n",
       "      <td>-19.166693</td>\n",
       "      <td>-193.415492</td>\n",
       "      <td>-24.539569</td>\n",
       "      <td>0.057244</td>\n",
       "      <td>0.009066</td>\n",
       "      <td>38.277542</td>\n",
       "      <td>2.760932</td>\n",
       "    </tr>\n",
       "    <tr>\n",
       "      <th>3</th>\n",
       "      <td>0.005902</td>\n",
       "      <td>0.000907</td>\n",
       "      <td>-185.584127</td>\n",
       "      <td>-47.411005</td>\n",
       "      <td>NaN</td>\n",
       "      <td>4</td>\n",
       "      <td>3</td>\n",
       "      <td>{'max_features': 4, 'n_estimators': 3}</td>\n",
       "      <td>17</td>\n",
       "      <td>-189.403175</td>\n",
       "      <td>...</td>\n",
       "      <td>-154.000000</td>\n",
       "      <td>-37.028042</td>\n",
       "      <td>-235.536508</td>\n",
       "      <td>-67.166667</td>\n",
       "      <td>-192.111111</td>\n",
       "      <td>-38.052381</td>\n",
       "      <td>0.000416</td>\n",
       "      <td>0.000181</td>\n",
       "      <td>29.578689</td>\n",
       "      <td>10.823065</td>\n",
       "    </tr>\n",
       "    <tr>\n",
       "      <th>4</th>\n",
       "      <td>0.016647</td>\n",
       "      <td>0.001389</td>\n",
       "      <td>-138.303124</td>\n",
       "      <td>-23.177224</td>\n",
       "      <td>NaN</td>\n",
       "      <td>4</td>\n",
       "      <td>10</td>\n",
       "      <td>{'max_features': 4, 'n_estimators': 10}</td>\n",
       "      <td>10</td>\n",
       "      <td>-110.430857</td>\n",
       "      <td>...</td>\n",
       "      <td>-138.687143</td>\n",
       "      <td>-21.135333</td>\n",
       "      <td>-159.261714</td>\n",
       "      <td>-31.835214</td>\n",
       "      <td>-166.381429</td>\n",
       "      <td>-19.184286</td>\n",
       "      <td>0.001711</td>\n",
       "      <td>0.000251</td>\n",
       "      <td>22.221650</td>\n",
       "      <td>4.676912</td>\n",
       "    </tr>\n",
       "    <tr>\n",
       "      <th>5</th>\n",
       "      <td>0.048180</td>\n",
       "      <td>0.002811</td>\n",
       "      <td>-119.991712</td>\n",
       "      <td>-17.081020</td>\n",
       "      <td>NaN</td>\n",
       "      <td>4</td>\n",
       "      <td>30</td>\n",
       "      <td>{'max_features': 4, 'n_estimators': 30}</td>\n",
       "      <td>5</td>\n",
       "      <td>-97.365873</td>\n",
       "      <td>...</td>\n",
       "      <td>-132.371831</td>\n",
       "      <td>-17.742460</td>\n",
       "      <td>-108.662624</td>\n",
       "      <td>-18.226392</td>\n",
       "      <td>-170.783397</td>\n",
       "      <td>-16.047788</td>\n",
       "      <td>0.004513</td>\n",
       "      <td>0.000275</td>\n",
       "      <td>29.075644</td>\n",
       "      <td>0.937185</td>\n",
       "    </tr>\n",
       "    <tr>\n",
       "      <th>6</th>\n",
       "      <td>0.006142</td>\n",
       "      <td>0.000893</td>\n",
       "      <td>-169.466455</td>\n",
       "      <td>-44.331005</td>\n",
       "      <td>NaN</td>\n",
       "      <td>6</td>\n",
       "      <td>3</td>\n",
       "      <td>{'max_features': 6, 'n_estimators': 3}</td>\n",
       "      <td>15</td>\n",
       "      <td>-134.499471</td>\n",
       "      <td>...</td>\n",
       "      <td>-142.058201</td>\n",
       "      <td>-40.340476</td>\n",
       "      <td>-187.408466</td>\n",
       "      <td>-40.552381</td>\n",
       "      <td>-168.707937</td>\n",
       "      <td>-41.670370</td>\n",
       "      <td>0.000379</td>\n",
       "      <td>0.000130</td>\n",
       "      <td>29.457384</td>\n",
       "      <td>4.290982</td>\n",
       "    </tr>\n",
       "    <tr>\n",
       "      <th>7</th>\n",
       "      <td>0.016930</td>\n",
       "      <td>0.001375</td>\n",
       "      <td>-103.234343</td>\n",
       "      <td>-21.052719</td>\n",
       "      <td>NaN</td>\n",
       "      <td>6</td>\n",
       "      <td>10</td>\n",
       "      <td>{'max_features': 6, 'n_estimators': 10}</td>\n",
       "      <td>2</td>\n",
       "      <td>-77.970095</td>\n",
       "      <td>...</td>\n",
       "      <td>-84.213714</td>\n",
       "      <td>-16.480024</td>\n",
       "      <td>-100.316571</td>\n",
       "      <td>-21.085976</td>\n",
       "      <td>-134.815810</td>\n",
       "      <td>-21.469310</td>\n",
       "      <td>0.001061</td>\n",
       "      <td>0.000139</td>\n",
       "      <td>21.213157</td>\n",
       "      <td>2.466746</td>\n",
       "    </tr>\n",
       "    <tr>\n",
       "      <th>8</th>\n",
       "      <td>0.047647</td>\n",
       "      <td>0.002708</td>\n",
       "      <td>-107.087181</td>\n",
       "      <td>-16.421818</td>\n",
       "      <td>NaN</td>\n",
       "      <td>6</td>\n",
       "      <td>30</td>\n",
       "      <td>{'max_features': 6, 'n_estimators': 30}</td>\n",
       "      <td>3</td>\n",
       "      <td>-98.074730</td>\n",
       "      <td>...</td>\n",
       "      <td>-95.129175</td>\n",
       "      <td>-14.577566</td>\n",
       "      <td>-92.963302</td>\n",
       "      <td>-17.934757</td>\n",
       "      <td>-153.179968</td>\n",
       "      <td>-14.270111</td>\n",
       "      <td>0.001568</td>\n",
       "      <td>0.000066</td>\n",
       "      <td>23.105035</td>\n",
       "      <td>1.801572</td>\n",
       "    </tr>\n",
       "    <tr>\n",
       "      <th>9</th>\n",
       "      <td>0.005588</td>\n",
       "      <td>0.000798</td>\n",
       "      <td>-187.698624</td>\n",
       "      <td>-44.825185</td>\n",
       "      <td>NaN</td>\n",
       "      <td>8</td>\n",
       "      <td>3</td>\n",
       "      <td>{'max_features': 8, 'n_estimators': 3}</td>\n",
       "      <td>18</td>\n",
       "      <td>-116.178836</td>\n",
       "      <td>...</td>\n",
       "      <td>-164.092063</td>\n",
       "      <td>-45.569841</td>\n",
       "      <td>-229.304762</td>\n",
       "      <td>-56.276455</td>\n",
       "      <td>-200.060317</td>\n",
       "      <td>-42.585714</td>\n",
       "      <td>0.000310</td>\n",
       "      <td>0.000149</td>\n",
       "      <td>43.012221</td>\n",
       "      <td>7.869865</td>\n",
       "    </tr>\n",
       "    <tr>\n",
       "      <th>10</th>\n",
       "      <td>0.016290</td>\n",
       "      <td>0.001222</td>\n",
       "      <td>-107.608133</td>\n",
       "      <td>-19.439210</td>\n",
       "      <td>NaN</td>\n",
       "      <td>8</td>\n",
       "      <td>10</td>\n",
       "      <td>{'max_features': 8, 'n_estimators': 10}</td>\n",
       "      <td>4</td>\n",
       "      <td>-84.423619</td>\n",
       "      <td>...</td>\n",
       "      <td>-84.800000</td>\n",
       "      <td>-14.166190</td>\n",
       "      <td>-126.755619</td>\n",
       "      <td>-20.054000</td>\n",
       "      <td>-147.888952</td>\n",
       "      <td>-24.706500</td>\n",
       "      <td>0.000821</td>\n",
       "      <td>0.000048</td>\n",
       "      <td>25.406378</td>\n",
       "      <td>3.377647</td>\n",
       "    </tr>\n",
       "    <tr>\n",
       "      <th>11</th>\n",
       "      <td>0.047716</td>\n",
       "      <td>0.002553</td>\n",
       "      <td>-101.200347</td>\n",
       "      <td>-15.029028</td>\n",
       "      <td>NaN</td>\n",
       "      <td>8</td>\n",
       "      <td>30</td>\n",
       "      <td>{'max_features': 8, 'n_estimators': 30}</td>\n",
       "      <td>1</td>\n",
       "      <td>-86.218783</td>\n",
       "      <td>...</td>\n",
       "      <td>-78.966307</td>\n",
       "      <td>-13.803489</td>\n",
       "      <td>-93.139196</td>\n",
       "      <td>-16.151828</td>\n",
       "      <td>-159.260265</td>\n",
       "      <td>-14.076532</td>\n",
       "      <td>0.001888</td>\n",
       "      <td>0.000062</td>\n",
       "      <td>29.387566</td>\n",
       "      <td>0.961127</td>\n",
       "    </tr>\n",
       "    <tr>\n",
       "      <th>12</th>\n",
       "      <td>0.006476</td>\n",
       "      <td>0.000830</td>\n",
       "      <td>-174.857143</td>\n",
       "      <td>0.000000</td>\n",
       "      <td>False</td>\n",
       "      <td>2</td>\n",
       "      <td>3</td>\n",
       "      <td>{'bootstrap': False, 'max_features': 2, 'n_est...</td>\n",
       "      <td>16</td>\n",
       "      <td>-172.884656</td>\n",
       "      <td>...</td>\n",
       "      <td>-91.756614</td>\n",
       "      <td>-0.000000</td>\n",
       "      <td>-199.231746</td>\n",
       "      <td>-0.000000</td>\n",
       "      <td>-273.093122</td>\n",
       "      <td>-0.000000</td>\n",
       "      <td>0.000392</td>\n",
       "      <td>0.000094</td>\n",
       "      <td>60.931250</td>\n",
       "      <td>0.000000</td>\n",
       "    </tr>\n",
       "    <tr>\n",
       "      <th>13</th>\n",
       "      <td>0.019249</td>\n",
       "      <td>0.001301</td>\n",
       "      <td>-136.999810</td>\n",
       "      <td>0.000000</td>\n",
       "      <td>False</td>\n",
       "      <td>2</td>\n",
       "      <td>10</td>\n",
       "      <td>{'bootstrap': False, 'max_features': 2, 'n_est...</td>\n",
       "      <td>9</td>\n",
       "      <td>-109.575524</td>\n",
       "      <td>...</td>\n",
       "      <td>-104.444190</td>\n",
       "      <td>-0.000000</td>\n",
       "      <td>-150.590286</td>\n",
       "      <td>-0.000000</td>\n",
       "      <td>-209.475238</td>\n",
       "      <td>-0.000000</td>\n",
       "      <td>0.000799</td>\n",
       "      <td>0.000038</td>\n",
       "      <td>39.824184</td>\n",
       "      <td>0.000000</td>\n",
       "    </tr>\n",
       "    <tr>\n",
       "      <th>14</th>\n",
       "      <td>0.006230</td>\n",
       "      <td>0.000719</td>\n",
       "      <td>-159.275979</td>\n",
       "      <td>0.000000</td>\n",
       "      <td>False</td>\n",
       "      <td>3</td>\n",
       "      <td>3</td>\n",
       "      <td>{'bootstrap': False, 'max_features': 3, 'n_est...</td>\n",
       "      <td>13</td>\n",
       "      <td>-149.749206</td>\n",
       "      <td>...</td>\n",
       "      <td>-191.788360</td>\n",
       "      <td>-0.000000</td>\n",
       "      <td>-144.404233</td>\n",
       "      <td>-0.000000</td>\n",
       "      <td>-194.325926</td>\n",
       "      <td>-0.000000</td>\n",
       "      <td>0.000132</td>\n",
       "      <td>0.000013</td>\n",
       "      <td>29.868366</td>\n",
       "      <td>0.000000</td>\n",
       "    </tr>\n",
       "    <tr>\n",
       "      <th>15</th>\n",
       "      <td>0.021097</td>\n",
       "      <td>0.001409</td>\n",
       "      <td>-135.700590</td>\n",
       "      <td>0.000000</td>\n",
       "      <td>False</td>\n",
       "      <td>3</td>\n",
       "      <td>10</td>\n",
       "      <td>{'bootstrap': False, 'max_features': 3, 'n_est...</td>\n",
       "      <td>8</td>\n",
       "      <td>-106.351333</td>\n",
       "      <td>...</td>\n",
       "      <td>-172.929810</td>\n",
       "      <td>-0.000000</td>\n",
       "      <td>-122.386286</td>\n",
       "      <td>-0.000000</td>\n",
       "      <td>-181.557714</td>\n",
       "      <td>-0.000000</td>\n",
       "      <td>0.003067</td>\n",
       "      <td>0.000115</td>\n",
       "      <td>35.104249</td>\n",
       "      <td>0.000000</td>\n",
       "    </tr>\n",
       "    <tr>\n",
       "      <th>16</th>\n",
       "      <td>0.006706</td>\n",
       "      <td>0.000780</td>\n",
       "      <td>-154.350899</td>\n",
       "      <td>0.000000</td>\n",
       "      <td>False</td>\n",
       "      <td>4</td>\n",
       "      <td>3</td>\n",
       "      <td>{'bootstrap': False, 'max_features': 4, 'n_est...</td>\n",
       "      <td>12</td>\n",
       "      <td>-134.833862</td>\n",
       "      <td>...</td>\n",
       "      <td>-128.390476</td>\n",
       "      <td>-0.000000</td>\n",
       "      <td>-131.384127</td>\n",
       "      <td>-0.000000</td>\n",
       "      <td>-183.970370</td>\n",
       "      <td>-0.000000</td>\n",
       "      <td>0.000953</td>\n",
       "      <td>0.000038</td>\n",
       "      <td>28.167379</td>\n",
       "      <td>0.000000</td>\n",
       "    </tr>\n",
       "    <tr>\n",
       "      <th>17</th>\n",
       "      <td>0.019055</td>\n",
       "      <td>0.001281</td>\n",
       "      <td>-130.961238</td>\n",
       "      <td>0.000000</td>\n",
       "      <td>False</td>\n",
       "      <td>4</td>\n",
       "      <td>10</td>\n",
       "      <td>{'bootstrap': False, 'max_features': 4, 'n_est...</td>\n",
       "      <td>7</td>\n",
       "      <td>-96.577333</td>\n",
       "      <td>...</td>\n",
       "      <td>-126.284952</td>\n",
       "      <td>-0.000000</td>\n",
       "      <td>-117.036762</td>\n",
       "      <td>-0.000000</td>\n",
       "      <td>-189.224762</td>\n",
       "      <td>-0.000000</td>\n",
       "      <td>0.000435</td>\n",
       "      <td>0.000019</td>\n",
       "      <td>31.050012</td>\n",
       "      <td>0.000000</td>\n",
       "    </tr>\n",
       "  </tbody>\n",
       "</table>\n",
       "<p>18 rows × 23 columns</p>\n",
       "</div>"
      ],
      "text/plain": [
       "    mean_fit_time  mean_score_time  mean_test_score  mean_train_score  \\\n",
       "0        0.020032         0.005267      -165.488677        -48.685132   \n",
       "1        0.062914         0.002252      -138.708533        -27.312090   \n",
       "2        0.107841         0.009594      -121.808559        -20.887763   \n",
       "3        0.005902         0.000907      -185.584127        -47.411005   \n",
       "4        0.016647         0.001389      -138.303124        -23.177224   \n",
       "5        0.048180         0.002811      -119.991712        -17.081020   \n",
       "6        0.006142         0.000893      -169.466455        -44.331005   \n",
       "7        0.016930         0.001375      -103.234343        -21.052719   \n",
       "8        0.047647         0.002708      -107.087181        -16.421818   \n",
       "9        0.005588         0.000798      -187.698624        -44.825185   \n",
       "10       0.016290         0.001222      -107.608133        -19.439210   \n",
       "11       0.047716         0.002553      -101.200347        -15.029028   \n",
       "12       0.006476         0.000830      -174.857143          0.000000   \n",
       "13       0.019249         0.001301      -136.999810          0.000000   \n",
       "14       0.006230         0.000719      -159.275979          0.000000   \n",
       "15       0.021097         0.001409      -135.700590          0.000000   \n",
       "16       0.006706         0.000780      -154.350899          0.000000   \n",
       "17       0.019055         0.001281      -130.961238          0.000000   \n",
       "\n",
       "   param_bootstrap param_max_features param_n_estimators  \\\n",
       "0              NaN                  2                  3   \n",
       "1              NaN                  2                 10   \n",
       "2              NaN                  2                 30   \n",
       "3              NaN                  4                  3   \n",
       "4              NaN                  4                 10   \n",
       "5              NaN                  4                 30   \n",
       "6              NaN                  6                  3   \n",
       "7              NaN                  6                 10   \n",
       "8              NaN                  6                 30   \n",
       "9              NaN                  8                  3   \n",
       "10             NaN                  8                 10   \n",
       "11             NaN                  8                 30   \n",
       "12           False                  2                  3   \n",
       "13           False                  2                 10   \n",
       "14           False                  3                  3   \n",
       "15           False                  3                 10   \n",
       "16           False                  4                  3   \n",
       "17           False                  4                 10   \n",
       "\n",
       "                                               params  rank_test_score  \\\n",
       "0              {'max_features': 2, 'n_estimators': 3}               14   \n",
       "1             {'max_features': 2, 'n_estimators': 10}               11   \n",
       "2             {'max_features': 2, 'n_estimators': 30}                6   \n",
       "3              {'max_features': 4, 'n_estimators': 3}               17   \n",
       "4             {'max_features': 4, 'n_estimators': 10}               10   \n",
       "5             {'max_features': 4, 'n_estimators': 30}                5   \n",
       "6              {'max_features': 6, 'n_estimators': 3}               15   \n",
       "7             {'max_features': 6, 'n_estimators': 10}                2   \n",
       "8             {'max_features': 6, 'n_estimators': 30}                3   \n",
       "9              {'max_features': 8, 'n_estimators': 3}               18   \n",
       "10            {'max_features': 8, 'n_estimators': 10}                4   \n",
       "11            {'max_features': 8, 'n_estimators': 30}                1   \n",
       "12  {'bootstrap': False, 'max_features': 2, 'n_est...               16   \n",
       "13  {'bootstrap': False, 'max_features': 2, 'n_est...                9   \n",
       "14  {'bootstrap': False, 'max_features': 3, 'n_est...               13   \n",
       "15  {'bootstrap': False, 'max_features': 3, 'n_est...                8   \n",
       "16  {'bootstrap': False, 'max_features': 4, 'n_est...               12   \n",
       "17  {'bootstrap': False, 'max_features': 4, 'n_est...                7   \n",
       "\n",
       "    split0_test_score       ...         split2_test_score  split2_train_score  \\\n",
       "0         -158.307937       ...               -268.118519          -70.120370   \n",
       "1         -116.974571       ...               -160.853524          -27.657571   \n",
       "2         -109.244032       ...               -125.837471          -21.033648   \n",
       "3         -189.403175       ...               -154.000000          -37.028042   \n",
       "4         -110.430857       ...               -138.687143          -21.135333   \n",
       "5          -97.365873       ...               -132.371831          -17.742460   \n",
       "6         -134.499471       ...               -142.058201          -40.340476   \n",
       "7          -77.970095       ...                -84.213714          -16.480024   \n",
       "8          -98.074730       ...                -95.129175          -14.577566   \n",
       "9         -116.178836       ...               -164.092063          -45.569841   \n",
       "10         -84.423619       ...                -84.800000          -14.166190   \n",
       "11         -86.218783       ...                -78.966307          -13.803489   \n",
       "12        -172.884656       ...                -91.756614           -0.000000   \n",
       "13        -109.575524       ...               -104.444190           -0.000000   \n",
       "14        -149.749206       ...               -191.788360           -0.000000   \n",
       "15        -106.351333       ...               -172.929810           -0.000000   \n",
       "16        -134.833862       ...               -128.390476           -0.000000   \n",
       "17         -96.577333       ...               -126.284952           -0.000000   \n",
       "\n",
       "    split3_test_score  split3_train_score  split4_test_score  \\\n",
       "0          -83.291005          -28.671429        -197.367196   \n",
       "1          -98.607143          -23.953095        -214.894190   \n",
       "2          -94.468317          -19.166693        -193.415492   \n",
       "3         -235.536508          -67.166667        -192.111111   \n",
       "4         -159.261714          -31.835214        -166.381429   \n",
       "5         -108.662624          -18.226392        -170.783397   \n",
       "6         -187.408466          -40.552381        -168.707937   \n",
       "7         -100.316571          -21.085976        -134.815810   \n",
       "8          -92.963302          -17.934757        -153.179968   \n",
       "9         -229.304762          -56.276455        -200.060317   \n",
       "10        -126.755619          -20.054000        -147.888952   \n",
       "11         -93.139196          -16.151828        -159.260265   \n",
       "12        -199.231746           -0.000000        -273.093122   \n",
       "13        -150.590286           -0.000000        -209.475238   \n",
       "14        -144.404233           -0.000000        -194.325926   \n",
       "15        -122.386286           -0.000000        -181.557714   \n",
       "16        -131.384127           -0.000000        -183.970370   \n",
       "17        -117.036762           -0.000000        -189.224762   \n",
       "\n",
       "    split4_train_score  std_fit_time  std_score_time  std_test_score  \\\n",
       "0           -52.887566      0.006234        0.004320       63.865259   \n",
       "1           -39.400571      0.024604        0.000866       44.061430   \n",
       "2           -24.539569      0.057244        0.009066       38.277542   \n",
       "3           -38.052381      0.000416        0.000181       29.578689   \n",
       "4           -19.184286      0.001711        0.000251       22.221650   \n",
       "5           -16.047788      0.004513        0.000275       29.075644   \n",
       "6           -41.670370      0.000379        0.000130       29.457384   \n",
       "7           -21.469310      0.001061        0.000139       21.213157   \n",
       "8           -14.270111      0.001568        0.000066       23.105035   \n",
       "9           -42.585714      0.000310        0.000149       43.012221   \n",
       "10          -24.706500      0.000821        0.000048       25.406378   \n",
       "11          -14.076532      0.001888        0.000062       29.387566   \n",
       "12           -0.000000      0.000392        0.000094       60.931250   \n",
       "13           -0.000000      0.000799        0.000038       39.824184   \n",
       "14           -0.000000      0.000132        0.000013       29.868366   \n",
       "15           -0.000000      0.003067        0.000115       35.104249   \n",
       "16           -0.000000      0.000953        0.000038       28.167379   \n",
       "17           -0.000000      0.000435        0.000019       31.050012   \n",
       "\n",
       "    std_train_score  \n",
       "0         13.951797  \n",
       "1          6.326613  \n",
       "2          2.760932  \n",
       "3         10.823065  \n",
       "4          4.676912  \n",
       "5          0.937185  \n",
       "6          4.290982  \n",
       "7          2.466746  \n",
       "8          1.801572  \n",
       "9          7.869865  \n",
       "10         3.377647  \n",
       "11         0.961127  \n",
       "12         0.000000  \n",
       "13         0.000000  \n",
       "14         0.000000  \n",
       "15         0.000000  \n",
       "16         0.000000  \n",
       "17         0.000000  \n",
       "\n",
       "[18 rows x 23 columns]"
      ]
     },
     "execution_count": 391,
     "metadata": {},
     "output_type": "execute_result"
    }
   ],
   "source": [
    "pd.DataFrame(grid_search.cv_results_)"
   ]
  },
  {
   "cell_type": "code",
   "execution_count": 393,
   "metadata": {},
   "outputs": [
    {
     "ename": "ValueError",
     "evalue": "Found unknown categories ['Anthology/Dark comedy' 'Christmas musical' 'Coming-of-age comedy-drama'\n 'Science fiction adventure' 'Science fiction/Mystery' 'Supernatural drama'] in column 0 during transform",
     "output_type": "error",
     "traceback": [
      "\u001b[0;31m---------------------------------------------------------------------------\u001b[0m",
      "\u001b[0;31mValueError\u001b[0m                                Traceback (most recent call last)",
      "\u001b[0;32m<ipython-input-393-1a6e561e5687>\u001b[0m in \u001b[0;36m<module>\u001b[0;34m()\u001b[0m\n\u001b[1;32m      4\u001b[0m \u001b[0my_test\u001b[0m \u001b[0;34m=\u001b[0m \u001b[0mstrat_test_set\u001b[0m\u001b[0;34m[\u001b[0m\u001b[0;34m\"Runtime\"\u001b[0m\u001b[0;34m]\u001b[0m\u001b[0;34m.\u001b[0m\u001b[0mcopy\u001b[0m\u001b[0;34m(\u001b[0m\u001b[0;34m)\u001b[0m\u001b[0;34m\u001b[0m\u001b[0m\n\u001b[1;32m      5\u001b[0m \u001b[0;34m\u001b[0m\u001b[0m\n\u001b[0;32m----> 6\u001b[0;31m \u001b[0mX_test_prepared\u001b[0m \u001b[0;34m=\u001b[0m \u001b[0mfull_pipeline\u001b[0m\u001b[0;34m.\u001b[0m\u001b[0mtransform\u001b[0m\u001b[0;34m(\u001b[0m\u001b[0mX_test\u001b[0m\u001b[0;34m)\u001b[0m\u001b[0;34m\u001b[0m\u001b[0m\n\u001b[0m\u001b[1;32m      7\u001b[0m \u001b[0mfinal_predictions\u001b[0m \u001b[0;34m=\u001b[0m \u001b[0mfinal_model\u001b[0m\u001b[0;34m.\u001b[0m\u001b[0mpredict\u001b[0m\u001b[0;34m(\u001b[0m\u001b[0mX_test_prepared\u001b[0m\u001b[0;34m)\u001b[0m\u001b[0;34m\u001b[0m\u001b[0m\n\u001b[1;32m      8\u001b[0m \u001b[0;34m\u001b[0m\u001b[0m\n",
      "\u001b[0;32m/Users/blakenicholson/anaconda/lib/python3.6/site-packages/sklearn/pipeline.py\u001b[0m in \u001b[0;36mtransform\u001b[0;34m(self, X)\u001b[0m\n\u001b[1;32m    761\u001b[0m         Xs = Parallel(n_jobs=self.n_jobs)(\n\u001b[1;32m    762\u001b[0m             \u001b[0mdelayed\u001b[0m\u001b[0;34m(\u001b[0m\u001b[0m_transform_one\u001b[0m\u001b[0;34m)\u001b[0m\u001b[0;34m(\u001b[0m\u001b[0mtrans\u001b[0m\u001b[0;34m,\u001b[0m \u001b[0mname\u001b[0m\u001b[0;34m,\u001b[0m \u001b[0mweight\u001b[0m\u001b[0;34m,\u001b[0m \u001b[0mX\u001b[0m\u001b[0;34m)\u001b[0m\u001b[0;34m\u001b[0m\u001b[0m\n\u001b[0;32m--> 763\u001b[0;31m             for name, trans, weight in self._iter())\n\u001b[0m\u001b[1;32m    764\u001b[0m         \u001b[0;32mif\u001b[0m \u001b[0;32mnot\u001b[0m \u001b[0mXs\u001b[0m\u001b[0;34m:\u001b[0m\u001b[0;34m\u001b[0m\u001b[0m\n\u001b[1;32m    765\u001b[0m             \u001b[0;31m# All transformers are None\u001b[0m\u001b[0;34m\u001b[0m\u001b[0;34m\u001b[0m\u001b[0m\n",
      "\u001b[0;32m/Users/blakenicholson/anaconda/lib/python3.6/site-packages/sklearn/externals/joblib/parallel.py\u001b[0m in \u001b[0;36m__call__\u001b[0;34m(self, iterable)\u001b[0m\n\u001b[1;32m    756\u001b[0m             \u001b[0;31m# was dispatched. In particular this covers the edge\u001b[0m\u001b[0;34m\u001b[0m\u001b[0;34m\u001b[0m\u001b[0m\n\u001b[1;32m    757\u001b[0m             \u001b[0;31m# case of Parallel used with an exhausted iterator.\u001b[0m\u001b[0;34m\u001b[0m\u001b[0;34m\u001b[0m\u001b[0m\n\u001b[0;32m--> 758\u001b[0;31m             \u001b[0;32mwhile\u001b[0m \u001b[0mself\u001b[0m\u001b[0;34m.\u001b[0m\u001b[0mdispatch_one_batch\u001b[0m\u001b[0;34m(\u001b[0m\u001b[0miterator\u001b[0m\u001b[0;34m)\u001b[0m\u001b[0;34m:\u001b[0m\u001b[0;34m\u001b[0m\u001b[0m\n\u001b[0m\u001b[1;32m    759\u001b[0m                 \u001b[0mself\u001b[0m\u001b[0;34m.\u001b[0m\u001b[0m_iterating\u001b[0m \u001b[0;34m=\u001b[0m \u001b[0;32mTrue\u001b[0m\u001b[0;34m\u001b[0m\u001b[0m\n\u001b[1;32m    760\u001b[0m             \u001b[0;32melse\u001b[0m\u001b[0;34m:\u001b[0m\u001b[0;34m\u001b[0m\u001b[0m\n",
      "\u001b[0;32m/Users/blakenicholson/anaconda/lib/python3.6/site-packages/sklearn/externals/joblib/parallel.py\u001b[0m in \u001b[0;36mdispatch_one_batch\u001b[0;34m(self, iterator)\u001b[0m\n\u001b[1;32m    606\u001b[0m                 \u001b[0;32mreturn\u001b[0m \u001b[0;32mFalse\u001b[0m\u001b[0;34m\u001b[0m\u001b[0m\n\u001b[1;32m    607\u001b[0m             \u001b[0;32melse\u001b[0m\u001b[0;34m:\u001b[0m\u001b[0;34m\u001b[0m\u001b[0m\n\u001b[0;32m--> 608\u001b[0;31m                 \u001b[0mself\u001b[0m\u001b[0;34m.\u001b[0m\u001b[0m_dispatch\u001b[0m\u001b[0;34m(\u001b[0m\u001b[0mtasks\u001b[0m\u001b[0;34m)\u001b[0m\u001b[0;34m\u001b[0m\u001b[0m\n\u001b[0m\u001b[1;32m    609\u001b[0m                 \u001b[0;32mreturn\u001b[0m \u001b[0;32mTrue\u001b[0m\u001b[0;34m\u001b[0m\u001b[0m\n\u001b[1;32m    610\u001b[0m \u001b[0;34m\u001b[0m\u001b[0m\n",
      "\u001b[0;32m/Users/blakenicholson/anaconda/lib/python3.6/site-packages/sklearn/externals/joblib/parallel.py\u001b[0m in \u001b[0;36m_dispatch\u001b[0;34m(self, batch)\u001b[0m\n\u001b[1;32m    569\u001b[0m         \u001b[0mdispatch_timestamp\u001b[0m \u001b[0;34m=\u001b[0m \u001b[0mtime\u001b[0m\u001b[0;34m.\u001b[0m\u001b[0mtime\u001b[0m\u001b[0;34m(\u001b[0m\u001b[0;34m)\u001b[0m\u001b[0;34m\u001b[0m\u001b[0m\n\u001b[1;32m    570\u001b[0m         \u001b[0mcb\u001b[0m \u001b[0;34m=\u001b[0m \u001b[0mBatchCompletionCallBack\u001b[0m\u001b[0;34m(\u001b[0m\u001b[0mdispatch_timestamp\u001b[0m\u001b[0;34m,\u001b[0m \u001b[0mlen\u001b[0m\u001b[0;34m(\u001b[0m\u001b[0mbatch\u001b[0m\u001b[0;34m)\u001b[0m\u001b[0;34m,\u001b[0m \u001b[0mself\u001b[0m\u001b[0;34m)\u001b[0m\u001b[0;34m\u001b[0m\u001b[0m\n\u001b[0;32m--> 571\u001b[0;31m         \u001b[0mjob\u001b[0m \u001b[0;34m=\u001b[0m \u001b[0mself\u001b[0m\u001b[0;34m.\u001b[0m\u001b[0m_backend\u001b[0m\u001b[0;34m.\u001b[0m\u001b[0mapply_async\u001b[0m\u001b[0;34m(\u001b[0m\u001b[0mbatch\u001b[0m\u001b[0;34m,\u001b[0m \u001b[0mcallback\u001b[0m\u001b[0;34m=\u001b[0m\u001b[0mcb\u001b[0m\u001b[0;34m)\u001b[0m\u001b[0;34m\u001b[0m\u001b[0m\n\u001b[0m\u001b[1;32m    572\u001b[0m         \u001b[0mself\u001b[0m\u001b[0;34m.\u001b[0m\u001b[0m_jobs\u001b[0m\u001b[0;34m.\u001b[0m\u001b[0mappend\u001b[0m\u001b[0;34m(\u001b[0m\u001b[0mjob\u001b[0m\u001b[0;34m)\u001b[0m\u001b[0;34m\u001b[0m\u001b[0m\n\u001b[1;32m    573\u001b[0m \u001b[0;34m\u001b[0m\u001b[0m\n",
      "\u001b[0;32m/Users/blakenicholson/anaconda/lib/python3.6/site-packages/sklearn/externals/joblib/_parallel_backends.py\u001b[0m in \u001b[0;36mapply_async\u001b[0;34m(self, func, callback)\u001b[0m\n\u001b[1;32m    107\u001b[0m     \u001b[0;32mdef\u001b[0m \u001b[0mapply_async\u001b[0m\u001b[0;34m(\u001b[0m\u001b[0mself\u001b[0m\u001b[0;34m,\u001b[0m \u001b[0mfunc\u001b[0m\u001b[0;34m,\u001b[0m \u001b[0mcallback\u001b[0m\u001b[0;34m=\u001b[0m\u001b[0;32mNone\u001b[0m\u001b[0;34m)\u001b[0m\u001b[0;34m:\u001b[0m\u001b[0;34m\u001b[0m\u001b[0m\n\u001b[1;32m    108\u001b[0m         \u001b[0;34m\"\"\"Schedule a func to be run\"\"\"\u001b[0m\u001b[0;34m\u001b[0m\u001b[0m\n\u001b[0;32m--> 109\u001b[0;31m         \u001b[0mresult\u001b[0m \u001b[0;34m=\u001b[0m \u001b[0mImmediateResult\u001b[0m\u001b[0;34m(\u001b[0m\u001b[0mfunc\u001b[0m\u001b[0;34m)\u001b[0m\u001b[0;34m\u001b[0m\u001b[0m\n\u001b[0m\u001b[1;32m    110\u001b[0m         \u001b[0;32mif\u001b[0m \u001b[0mcallback\u001b[0m\u001b[0;34m:\u001b[0m\u001b[0;34m\u001b[0m\u001b[0m\n\u001b[1;32m    111\u001b[0m             \u001b[0mcallback\u001b[0m\u001b[0;34m(\u001b[0m\u001b[0mresult\u001b[0m\u001b[0;34m)\u001b[0m\u001b[0;34m\u001b[0m\u001b[0m\n",
      "\u001b[0;32m/Users/blakenicholson/anaconda/lib/python3.6/site-packages/sklearn/externals/joblib/_parallel_backends.py\u001b[0m in \u001b[0;36m__init__\u001b[0;34m(self, batch)\u001b[0m\n\u001b[1;32m    324\u001b[0m         \u001b[0;31m# Don't delay the application, to avoid keeping the input\u001b[0m\u001b[0;34m\u001b[0m\u001b[0;34m\u001b[0m\u001b[0m\n\u001b[1;32m    325\u001b[0m         \u001b[0;31m# arguments in memory\u001b[0m\u001b[0;34m\u001b[0m\u001b[0;34m\u001b[0m\u001b[0m\n\u001b[0;32m--> 326\u001b[0;31m         \u001b[0mself\u001b[0m\u001b[0;34m.\u001b[0m\u001b[0mresults\u001b[0m \u001b[0;34m=\u001b[0m \u001b[0mbatch\u001b[0m\u001b[0;34m(\u001b[0m\u001b[0;34m)\u001b[0m\u001b[0;34m\u001b[0m\u001b[0m\n\u001b[0m\u001b[1;32m    327\u001b[0m \u001b[0;34m\u001b[0m\u001b[0m\n\u001b[1;32m    328\u001b[0m     \u001b[0;32mdef\u001b[0m \u001b[0mget\u001b[0m\u001b[0;34m(\u001b[0m\u001b[0mself\u001b[0m\u001b[0;34m)\u001b[0m\u001b[0;34m:\u001b[0m\u001b[0;34m\u001b[0m\u001b[0m\n",
      "\u001b[0;32m/Users/blakenicholson/anaconda/lib/python3.6/site-packages/sklearn/externals/joblib/parallel.py\u001b[0m in \u001b[0;36m__call__\u001b[0;34m(self)\u001b[0m\n\u001b[1;32m    129\u001b[0m \u001b[0;34m\u001b[0m\u001b[0m\n\u001b[1;32m    130\u001b[0m     \u001b[0;32mdef\u001b[0m \u001b[0m__call__\u001b[0m\u001b[0;34m(\u001b[0m\u001b[0mself\u001b[0m\u001b[0;34m)\u001b[0m\u001b[0;34m:\u001b[0m\u001b[0;34m\u001b[0m\u001b[0m\n\u001b[0;32m--> 131\u001b[0;31m         \u001b[0;32mreturn\u001b[0m \u001b[0;34m[\u001b[0m\u001b[0mfunc\u001b[0m\u001b[0;34m(\u001b[0m\u001b[0;34m*\u001b[0m\u001b[0margs\u001b[0m\u001b[0;34m,\u001b[0m \u001b[0;34m**\u001b[0m\u001b[0mkwargs\u001b[0m\u001b[0;34m)\u001b[0m \u001b[0;32mfor\u001b[0m \u001b[0mfunc\u001b[0m\u001b[0;34m,\u001b[0m \u001b[0margs\u001b[0m\u001b[0;34m,\u001b[0m \u001b[0mkwargs\u001b[0m \u001b[0;32min\u001b[0m \u001b[0mself\u001b[0m\u001b[0;34m.\u001b[0m\u001b[0mitems\u001b[0m\u001b[0;34m]\u001b[0m\u001b[0;34m\u001b[0m\u001b[0m\n\u001b[0m\u001b[1;32m    132\u001b[0m \u001b[0;34m\u001b[0m\u001b[0m\n\u001b[1;32m    133\u001b[0m     \u001b[0;32mdef\u001b[0m \u001b[0m__len__\u001b[0m\u001b[0;34m(\u001b[0m\u001b[0mself\u001b[0m\u001b[0;34m)\u001b[0m\u001b[0;34m:\u001b[0m\u001b[0;34m\u001b[0m\u001b[0m\n",
      "\u001b[0;32m/Users/blakenicholson/anaconda/lib/python3.6/site-packages/sklearn/externals/joblib/parallel.py\u001b[0m in \u001b[0;36m<listcomp>\u001b[0;34m(.0)\u001b[0m\n\u001b[1;32m    129\u001b[0m \u001b[0;34m\u001b[0m\u001b[0m\n\u001b[1;32m    130\u001b[0m     \u001b[0;32mdef\u001b[0m \u001b[0m__call__\u001b[0m\u001b[0;34m(\u001b[0m\u001b[0mself\u001b[0m\u001b[0;34m)\u001b[0m\u001b[0;34m:\u001b[0m\u001b[0;34m\u001b[0m\u001b[0m\n\u001b[0;32m--> 131\u001b[0;31m         \u001b[0;32mreturn\u001b[0m \u001b[0;34m[\u001b[0m\u001b[0mfunc\u001b[0m\u001b[0;34m(\u001b[0m\u001b[0;34m*\u001b[0m\u001b[0margs\u001b[0m\u001b[0;34m,\u001b[0m \u001b[0;34m**\u001b[0m\u001b[0mkwargs\u001b[0m\u001b[0;34m)\u001b[0m \u001b[0;32mfor\u001b[0m \u001b[0mfunc\u001b[0m\u001b[0;34m,\u001b[0m \u001b[0margs\u001b[0m\u001b[0;34m,\u001b[0m \u001b[0mkwargs\u001b[0m \u001b[0;32min\u001b[0m \u001b[0mself\u001b[0m\u001b[0;34m.\u001b[0m\u001b[0mitems\u001b[0m\u001b[0;34m]\u001b[0m\u001b[0;34m\u001b[0m\u001b[0m\n\u001b[0m\u001b[1;32m    132\u001b[0m \u001b[0;34m\u001b[0m\u001b[0m\n\u001b[1;32m    133\u001b[0m     \u001b[0;32mdef\u001b[0m \u001b[0m__len__\u001b[0m\u001b[0;34m(\u001b[0m\u001b[0mself\u001b[0m\u001b[0;34m)\u001b[0m\u001b[0;34m:\u001b[0m\u001b[0;34m\u001b[0m\u001b[0m\n",
      "\u001b[0;32m/Users/blakenicholson/anaconda/lib/python3.6/site-packages/sklearn/pipeline.py\u001b[0m in \u001b[0;36m_transform_one\u001b[0;34m(transformer, name, weight, X)\u001b[0m\n\u001b[1;32m    565\u001b[0m \u001b[0;34m\u001b[0m\u001b[0m\n\u001b[1;32m    566\u001b[0m \u001b[0;32mdef\u001b[0m \u001b[0m_transform_one\u001b[0m\u001b[0;34m(\u001b[0m\u001b[0mtransformer\u001b[0m\u001b[0;34m,\u001b[0m \u001b[0mname\u001b[0m\u001b[0;34m,\u001b[0m \u001b[0mweight\u001b[0m\u001b[0;34m,\u001b[0m \u001b[0mX\u001b[0m\u001b[0;34m)\u001b[0m\u001b[0;34m:\u001b[0m\u001b[0;34m\u001b[0m\u001b[0m\n\u001b[0;32m--> 567\u001b[0;31m     \u001b[0mres\u001b[0m \u001b[0;34m=\u001b[0m \u001b[0mtransformer\u001b[0m\u001b[0;34m.\u001b[0m\u001b[0mtransform\u001b[0m\u001b[0;34m(\u001b[0m\u001b[0mX\u001b[0m\u001b[0;34m)\u001b[0m\u001b[0;34m\u001b[0m\u001b[0m\n\u001b[0m\u001b[1;32m    568\u001b[0m     \u001b[0;31m# if we have a weight for this transformer, multiply output\u001b[0m\u001b[0;34m\u001b[0m\u001b[0;34m\u001b[0m\u001b[0m\n\u001b[1;32m    569\u001b[0m     \u001b[0;32mif\u001b[0m \u001b[0mweight\u001b[0m \u001b[0;32mis\u001b[0m \u001b[0;32mNone\u001b[0m\u001b[0;34m:\u001b[0m\u001b[0;34m\u001b[0m\u001b[0m\n",
      "\u001b[0;32m/Users/blakenicholson/anaconda/lib/python3.6/site-packages/sklearn/pipeline.py\u001b[0m in \u001b[0;36m_transform\u001b[0;34m(self, X)\u001b[0m\n\u001b[1;32m    443\u001b[0m         \u001b[0;32mfor\u001b[0m \u001b[0mname\u001b[0m\u001b[0;34m,\u001b[0m \u001b[0mtransform\u001b[0m \u001b[0;32min\u001b[0m \u001b[0mself\u001b[0m\u001b[0;34m.\u001b[0m\u001b[0msteps\u001b[0m\u001b[0;34m:\u001b[0m\u001b[0;34m\u001b[0m\u001b[0m\n\u001b[1;32m    444\u001b[0m             \u001b[0;32mif\u001b[0m \u001b[0mtransform\u001b[0m \u001b[0;32mis\u001b[0m \u001b[0;32mnot\u001b[0m \u001b[0;32mNone\u001b[0m\u001b[0;34m:\u001b[0m\u001b[0;34m\u001b[0m\u001b[0m\n\u001b[0;32m--> 445\u001b[0;31m                 \u001b[0mXt\u001b[0m \u001b[0;34m=\u001b[0m \u001b[0mtransform\u001b[0m\u001b[0;34m.\u001b[0m\u001b[0mtransform\u001b[0m\u001b[0;34m(\u001b[0m\u001b[0mXt\u001b[0m\u001b[0;34m)\u001b[0m\u001b[0;34m\u001b[0m\u001b[0m\n\u001b[0m\u001b[1;32m    446\u001b[0m         \u001b[0;32mreturn\u001b[0m \u001b[0mXt\u001b[0m\u001b[0;34m\u001b[0m\u001b[0m\n\u001b[1;32m    447\u001b[0m \u001b[0;34m\u001b[0m\u001b[0m\n",
      "\u001b[0;32m/Users/blakenicholson/Documents/Personal/Coding/handson-ml/future_encoders.py\u001b[0m in \u001b[0;36mtransform\u001b[0;34m(self, X)\u001b[0m\n\u001b[1;32m    670\u001b[0m         \"\"\"\n\u001b[1;32m    671\u001b[0m         \u001b[0;32mif\u001b[0m \u001b[0;32mnot\u001b[0m \u001b[0mself\u001b[0m\u001b[0;34m.\u001b[0m\u001b[0m_legacy_mode\u001b[0m\u001b[0;34m:\u001b[0m\u001b[0;34m\u001b[0m\u001b[0m\n\u001b[0;32m--> 672\u001b[0;31m             \u001b[0;32mreturn\u001b[0m \u001b[0mself\u001b[0m\u001b[0;34m.\u001b[0m\u001b[0m_transform_new\u001b[0m\u001b[0;34m(\u001b[0m\u001b[0mX\u001b[0m\u001b[0;34m)\u001b[0m\u001b[0;34m\u001b[0m\u001b[0m\n\u001b[0m\u001b[1;32m    673\u001b[0m         \u001b[0;32melse\u001b[0m\u001b[0;34m:\u001b[0m\u001b[0;34m\u001b[0m\u001b[0m\n\u001b[1;32m    674\u001b[0m             return _transform_selected(X, self._legacy_transform,\n",
      "\u001b[0;32m/Users/blakenicholson/Documents/Personal/Coding/handson-ml/future_encoders.py\u001b[0m in \u001b[0;36m_transform_new\u001b[0;34m(self, X)\u001b[0m\n\u001b[1;32m    636\u001b[0m         \u001b[0mn_samples\u001b[0m\u001b[0;34m,\u001b[0m \u001b[0mn_features\u001b[0m \u001b[0;34m=\u001b[0m \u001b[0mX\u001b[0m\u001b[0;34m.\u001b[0m\u001b[0mshape\u001b[0m\u001b[0;34m\u001b[0m\u001b[0m\n\u001b[1;32m    637\u001b[0m \u001b[0;34m\u001b[0m\u001b[0m\n\u001b[0;32m--> 638\u001b[0;31m         \u001b[0mX_int\u001b[0m\u001b[0;34m,\u001b[0m \u001b[0mX_mask\u001b[0m \u001b[0;34m=\u001b[0m \u001b[0mself\u001b[0m\u001b[0;34m.\u001b[0m\u001b[0m_transform\u001b[0m\u001b[0;34m(\u001b[0m\u001b[0mX\u001b[0m\u001b[0;34m,\u001b[0m \u001b[0mhandle_unknown\u001b[0m\u001b[0;34m=\u001b[0m\u001b[0mself\u001b[0m\u001b[0;34m.\u001b[0m\u001b[0mhandle_unknown\u001b[0m\u001b[0;34m)\u001b[0m\u001b[0;34m\u001b[0m\u001b[0m\n\u001b[0m\u001b[1;32m    639\u001b[0m \u001b[0;34m\u001b[0m\u001b[0m\n\u001b[1;32m    640\u001b[0m         \u001b[0mmask\u001b[0m \u001b[0;34m=\u001b[0m \u001b[0mX_mask\u001b[0m\u001b[0;34m.\u001b[0m\u001b[0mravel\u001b[0m\u001b[0;34m(\u001b[0m\u001b[0;34m)\u001b[0m\u001b[0;34m\u001b[0m\u001b[0m\n",
      "\u001b[0;32m/Users/blakenicholson/Documents/Personal/Coding/handson-ml/future_encoders.py\u001b[0m in \u001b[0;36m_transform\u001b[0;34m(self, X, handle_unknown)\u001b[0m\n\u001b[1;32m    171\u001b[0m                     msg = (\"Found unknown categories {0} in column {1}\"\n\u001b[1;32m    172\u001b[0m                            \" during transform\".format(diff, i))\n\u001b[0;32m--> 173\u001b[0;31m                     \u001b[0;32mraise\u001b[0m \u001b[0mValueError\u001b[0m\u001b[0;34m(\u001b[0m\u001b[0mmsg\u001b[0m\u001b[0;34m)\u001b[0m\u001b[0;34m\u001b[0m\u001b[0m\n\u001b[0m\u001b[1;32m    174\u001b[0m                 \u001b[0;32melse\u001b[0m\u001b[0;34m:\u001b[0m\u001b[0;34m\u001b[0m\u001b[0m\n\u001b[1;32m    175\u001b[0m                     \u001b[0;31m# Set the problematic rows to an acceptable value and\u001b[0m\u001b[0;34m\u001b[0m\u001b[0;34m\u001b[0m\u001b[0m\n",
      "\u001b[0;31mValueError\u001b[0m: Found unknown categories ['Anthology/Dark comedy' 'Christmas musical' 'Coming-of-age comedy-drama'\n 'Science fiction adventure' 'Science fiction/Mystery' 'Supernatural drama'] in column 0 during transform"
     ]
    }
   ],
   "source": [
    "final_model = grid_search.best_estimator_\n",
    "\n",
    "X_test = strat_test_set.drop(\"Runtime\", axis=1)\n",
    "y_test = strat_test_set[\"Runtime\"].copy()\n",
    "\n",
    "X_test_prepared = full_pipeline.transform(X_test)\n",
    "final_predictions = final_model.predict(X_test_prepared)\n",
    "\n",
    "final_mse = mean_squared_error(y_test, final_predictions)\n",
    "final_rmse = np.sqrt(final_mse)"
   ]
  },
  {
   "cell_type": "code",
   "execution_count": 297,
   "metadata": {},
   "outputs": [
    {
     "data": {
      "text/plain": [
       "291796.92019370466"
      ]
     },
     "execution_count": 297,
     "metadata": {},
     "output_type": "execute_result"
    }
   ],
   "source": [
    "final_rmse"
   ]
  },
  {
   "cell_type": "code",
   "execution_count": 298,
   "metadata": {
    "collapsed": true
   },
   "outputs": [],
   "source": [
    "from scipy import stats"
   ]
  },
  {
   "cell_type": "code",
   "execution_count": 299,
   "metadata": {},
   "outputs": [
    {
     "data": {
      "text/plain": [
       "array([ 270738.74495847,  311434.45096421])"
      ]
     },
     "execution_count": 299,
     "metadata": {},
     "output_type": "execute_result"
    }
   ],
   "source": [
    "confidence = 0.95\n",
    "squared_errors = (final_predictions - y_test) ** 2\n",
    "mean = squared_errors.mean()\n",
    "m = len(squared_errors)\n",
    "\n",
    "np.sqrt(stats.t.interval(confidence, m - 1,\n",
    "                         loc=np.mean(squared_errors),\n",
    "                         scale=stats.sem(squared_errors)))"
   ]
  },
  {
   "cell_type": "code",
   "execution_count": 301,
   "metadata": {},
   "outputs": [
    {
     "data": {
      "text/plain": [
       "(270738.74495846959, 311434.45096420537)"
      ]
     },
     "execution_count": 301,
     "metadata": {},
     "output_type": "execute_result"
    }
   ],
   "source": [
    "tscore = stats.t.ppf((1 + confidence) / 2, df=m - 1)\n",
    "tmargin = tscore * squared_errors.std(ddof=1) / np.sqrt(m)\n",
    "np.sqrt(mean - tmargin), np.sqrt(mean + tmargin)"
   ]
  },
  {
   "cell_type": "markdown",
   "metadata": {},
   "source": [
    "Alternatively, we could use a z-scores rather than t-scores:"
   ]
  },
  {
   "cell_type": "code",
   "execution_count": 302,
   "metadata": {},
   "outputs": [
    {
     "data": {
      "text/plain": [
       "(270748.49767663126, 311425.97238334263)"
      ]
     },
     "execution_count": 302,
     "metadata": {},
     "output_type": "execute_result"
    }
   ],
   "source": [
    "zscore = stats.norm.ppf((1 + confidence) / 2)\n",
    "zmargin = zscore * squared_errors.std(ddof=1) / np.sqrt(m)\n",
    "np.sqrt(mean - zmargin), np.sqrt(mean + zmargin)"
   ]
  },
  {
   "cell_type": "markdown",
   "metadata": {},
   "source": [
    "#  ----"
   ]
  },
  {
   "cell_type": "code",
   "execution_count": 4,
   "metadata": {},
   "outputs": [
    {
     "ename": "NameError",
     "evalue": "name 'save_fig' is not defined",
     "output_type": "error",
     "traceback": [
      "\u001b[0;31m---------------------------------------------------------------------------\u001b[0m",
      "\u001b[0;31mNameError\u001b[0m                                 Traceback (most recent call last)",
      "\u001b[0;32m<ipython-input-4-31c87619abf0>\u001b[0m in \u001b[0;36m<module>\u001b[0;34m()\u001b[0m\n\u001b[1;32m      2\u001b[0m \u001b[0;32mimport\u001b[0m \u001b[0mmatplotlib\u001b[0m\u001b[0;34m.\u001b[0m\u001b[0mpyplot\u001b[0m \u001b[0;32mas\u001b[0m \u001b[0mplt\u001b[0m\u001b[0;34m\u001b[0m\u001b[0m\n\u001b[1;32m      3\u001b[0m \u001b[0mhousing_data\u001b[0m\u001b[0;34m.\u001b[0m\u001b[0mhist\u001b[0m\u001b[0;34m(\u001b[0m\u001b[0mbins\u001b[0m\u001b[0;34m=\u001b[0m\u001b[0;36m50\u001b[0m\u001b[0;34m,\u001b[0m \u001b[0mfigsize\u001b[0m\u001b[0;34m=\u001b[0m\u001b[0;34m(\u001b[0m\u001b[0;36m20\u001b[0m\u001b[0;34m,\u001b[0m\u001b[0;36m15\u001b[0m\u001b[0;34m)\u001b[0m\u001b[0;34m)\u001b[0m\u001b[0;34m\u001b[0m\u001b[0m\n\u001b[0;32m----> 4\u001b[0;31m \u001b[0msave_fig\u001b[0m\u001b[0;34m(\u001b[0m\u001b[0;34m\"attribute_histogram_plots\"\u001b[0m\u001b[0;34m)\u001b[0m\u001b[0;34m\u001b[0m\u001b[0m\n\u001b[0m\u001b[1;32m      5\u001b[0m \u001b[0mplt\u001b[0m\u001b[0;34m.\u001b[0m\u001b[0mshow\u001b[0m\u001b[0;34m(\u001b[0m\u001b[0;34m)\u001b[0m\u001b[0;34m\u001b[0m\u001b[0m\n\u001b[1;32m      6\u001b[0m \u001b[0;34m\u001b[0m\u001b[0m\n",
      "\u001b[0;31mNameError\u001b[0m: name 'save_fig' is not defined"
     ]
    },
    {
     "data": {
      "image/png": "[encoded data removed]",
      "text/plain": [
       "<matplotlib.figure.Figure at 0x11e3cda20>"
      ]
     },
     "metadata": {},
     "output_type": "display_data"
    }
   ],
   "source": [
    "# create a pipeline objectb\n",
    "pipe = make_pipeline(\n",
    "    StandardScaler(),\n",
    "    LogisticRegression()\n",
    ")\n",
    "\n",
    "X, y = load_iris(return_X_y=True)\n",
    "\n",
    "X_train, X_test, y_train, y_test = train_test_split(X, y, random_state=0)\n",
    "\n",
    "# fit the whole pipeline\n",
    "pipe.fit(X_train, y_train)\n",
    "\n",
    "score = accuracy_score(pipe.predict(X_test), y_test)\n",
    "\n",
    "print(score)"
   ]
  },
  {
   "cell_type": "code",
   "execution_count": null,
   "metadata": {
    "collapsed": true
   },
   "outputs": [],
   "source": []
  },
  {
   "cell_type": "code",
   "execution_count": null,
   "metadata": {
    "collapsed": true
   },
   "outputs": [],
   "source": []
  }
 ],
 "metadata": {
  "kernelspec": {
   "display_name": "Python 3",
   "language": "python",
   "name": "python3"
  },
  "language_info": {
   "codemirror_mode": {
    "name": "ipython",
    "version": 3
   },
   "file_extension": ".py",
   "mimetype": "text/x-python",
   "name": "python",
   "nbconvert_exporter": "python",
   "pygments_lexer": "ipython3",
   "version": "3.6.1"
  }
 },
 "nbformat": 4,
 "nbformat_minor": 2
}
